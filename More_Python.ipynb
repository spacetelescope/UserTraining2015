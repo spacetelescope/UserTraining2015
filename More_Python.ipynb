{
 "metadata": {
  "name": "",
  "signature": "sha256:7bb7ee0d191e3a10df4fed80f9d20c511ea3ef310bfe046712a4e5df445a0c2a"
 },
 "nbformat": 3,
 "nbformat_minor": 0,
 "worksheets": [
  {
   "cells": [
    {
     "cell_type": "markdown",
     "metadata": {},
     "source": [
      "#More (I)Python, numpy, matplotlib, astropy..."
     ]
    },
    {
     "cell_type": "code",
     "collapsed": false,
     "input": [
      "%matplotlib inline\n",
      "from __future__ import print_function, division"
     ],
     "language": "python",
     "metadata": {},
     "outputs": [],
     "prompt_number": 1
    },
    {
     "cell_type": "markdown",
     "metadata": {},
     "source": [
      "##Ipython..."
     ]
    },
    {
     "cell_type": "code",
     "collapsed": false,
     "input": [
      "def inverse(input):\n",
      "    print(\"starting\")\n",
      "    x = 2*input\n",
      "    y = 1/x\n",
      "    print(\"done\")\n",
      "    return y"
     ],
     "language": "python",
     "metadata": {},
     "outputs": [],
     "prompt_number": 2
    },
    {
     "cell_type": "code",
     "collapsed": false,
     "input": [
      "#%pdb"
     ],
     "language": "python",
     "metadata": {},
     "outputs": [],
     "prompt_number": 3
    },
    {
     "cell_type": "markdown",
     "metadata": {},
     "source": [
      "###list comprehensions\n",
      "\n",
      "Convenient means of defining lists"
     ]
    },
    {
     "cell_type": "code",
     "collapsed": false,
     "input": [
      "inverse(1)"
     ],
     "language": "python",
     "metadata": {},
     "outputs": [
      {
       "output_type": "stream",
       "stream": "stdout",
       "text": [
        "starting\n",
        "done\n"
       ]
      },
      {
       "metadata": {},
       "output_type": "pyout",
       "prompt_number": 4,
       "text": [
        "0.5"
       ]
      }
     ],
     "prompt_number": 4
    },
    {
     "cell_type": "code",
     "collapsed": false,
     "input": [
      "[item**2 for item in range(10)]"
     ],
     "language": "python",
     "metadata": {},
     "outputs": [
      {
       "metadata": {},
       "output_type": "pyout",
       "prompt_number": 5,
       "text": [
        "[0, 1, 4, 9, 16, 25, 36, 49, 64, 81]"
       ]
      }
     ],
     "prompt_number": 5
    },
    {
     "cell_type": "code",
     "collapsed": false,
     "input": [
      "[item**2 for item in range(10) if item % 2 == 0]"
     ],
     "language": "python",
     "metadata": {},
     "outputs": [
      {
       "metadata": {},
       "output_type": "pyout",
       "prompt_number": 6,
       "text": [
        "[0, 4, 16, 36, 64]"
       ]
      }
     ],
     "prompt_number": 6
    },
    {
     "cell_type": "code",
     "collapsed": false,
     "input": [
      "names = ['Bill', 'Sally', 'Bozo', 'Sue', 'Kathryn']\n",
      "[name + ' the great' for name in names if len(name) == 4]"
     ],
     "language": "python",
     "metadata": {},
     "outputs": [
      {
       "metadata": {},
       "output_type": "pyout",
       "prompt_number": 7,
       "text": [
        "['Bill the great', 'Bozo the great']"
       ]
      }
     ],
     "prompt_number": 7
    },
    {
     "cell_type": "markdown",
     "metadata": {},
     "source": []
    },
    {
     "cell_type": "markdown",
     "metadata": {},
     "source": [
      "###String-related"
     ]
    },
    {
     "cell_type": "code",
     "collapsed": false,
     "input": [
      "# printing with no new line\n",
      "print(\"hello there\",end='') # in the python 2 style print it would be: print \"hello there\",\n",
      "print(\" hello again\") "
     ],
     "language": "python",
     "metadata": {},
     "outputs": [
      {
       "output_type": "stream",
       "stream": "stdout",
       "text": [
        "hello there hello again\n"
       ]
      }
     ],
     "prompt_number": 8
    },
    {
     "cell_type": "code",
     "collapsed": false,
     "input": [
      "##Getting interactive input\n",
      "value = raw_input('enter a positive integer')\n",
      "print(value*2)"
     ],
     "language": "python",
     "metadata": {},
     "outputs": [
      {
       "name": "stdout",
       "output_type": "stream",
       "stream": "stdout",
       "text": [
        "enter a positive integer22\n"
       ]
      },
      {
       "output_type": "stream",
       "stream": "stdout",
       "text": [
        "2222\n"
       ]
      }
     ],
     "prompt_number": 12
    },
    {
     "cell_type": "code",
     "collapsed": false,
     "input": [
      "# but what if I really want to multiply the value above as an integer\n",
      "2 * int(value)"
     ],
     "language": "python",
     "metadata": {},
     "outputs": [
      {
       "metadata": {},
       "output_type": "pyout",
       "prompt_number": 13,
       "text": [
        "44"
       ]
      }
     ],
     "prompt_number": 13
    },
    {
     "cell_type": "code",
     "collapsed": false,
     "input": [
      "\",\".join(names) # If consistent and logical, very unintuitive to newcomers!"
     ],
     "language": "python",
     "metadata": {},
     "outputs": [
      {
       "metadata": {},
       "output_type": "pyout",
       "prompt_number": 14,
       "text": [
        "'Bill,Sally,Bozo,Sue,Kathryn'"
       ]
      }
     ],
     "prompt_number": 14
    },
    {
     "cell_type": "code",
     "collapsed": false,
     "input": [
      "# str() vs repr()\n",
      "# First is how something usually would be printed, second is often how it would be created in \n",
      "# python source code. (sort of)\n",
      "import numpy as np\n",
      "a = np.arange(5)\n",
      "b = 2\n",
      "c = \"2\"\n",
      "print(str(a), str(b), str(c))\n",
      "print(a, b, c)\n",
      "print(repr(a), repr(b), repr(str(b)), repr(c)) # what you see if you just type the value at the command line"
     ],
     "language": "python",
     "metadata": {},
     "outputs": [
      {
       "output_type": "stream",
       "stream": "stdout",
       "text": [
        "[0 1 2 3 4] 2 2\n",
        "[0 1 2 3 4] 2 2\n",
        "array([0, 1, 2, 3, 4]) 2 '2' '2'\n"
       ]
      }
     ],
     "prompt_number": 15
    },
    {
     "cell_type": "code",
     "collapsed": false,
     "input": [
      "s = 'abcd Efgh'\n",
      "print(s.upper(),'\\n', s.lower(),'\\n', s.capitalize())"
     ],
     "language": "python",
     "metadata": {},
     "outputs": [
      {
       "output_type": "stream",
       "stream": "stdout",
       "text": [
        "ABCD EFGH \n",
        " abcd efgh \n",
        " Abcd efgh\n"
       ]
      }
     ],
     "prompt_number": 16
    },
    {
     "cell_type": "code",
     "collapsed": false,
     "input": [
      "print(s.find('cd'), s.find('zz'))\n",
      "print(s.startswith('ab'))"
     ],
     "language": "python",
     "metadata": {},
     "outputs": [
      {
       "output_type": "stream",
       "stream": "stdout",
       "text": [
        "2 -1\n",
        "True\n"
       ]
      }
     ],
     "prompt_number": 17
    },
    {
     "cell_type": "markdown",
     "metadata": {},
     "source": [
      "##File access"
     ]
    },
    {
     "cell_type": "code",
     "collapsed": false,
     "input": [
      "f = open('data/ascii/sextractor.dat') # get a file handle\n",
      "for line in f: print(line)\n",
      "f.close()"
     ],
     "language": "python",
     "metadata": {},
     "outputs": [
      {
       "output_type": "stream",
       "stream": "stdout",
       "text": [
        "# 1 NUMBER        Galaxy ID number\n",
        "\n",
        "# 2 FLUX_ISO   \n",
        "\n",
        "# 3 FLUXERR_ISO   \n",
        "\n",
        "# 4 VALUES        Note column 5 is missing\n",
        "\n",
        "# 6 FLAG\n",
        "\n",
        "1 0.02580616000000000 0.03974229000000000 1.6770000000000000 0.2710000000000000 0\n",
        "\n",
        "2 5.72769100000000009 0.20643300000000001 2.6250000000000000 2.5219999999999998 0\n",
        "\n",
        "3 88.31933999999999685 0.59369850000000002 5.9249999999999998 4.7140000000000004 0\n",
        "\n"
       ]
      }
     ],
     "prompt_number": 18
    },
    {
     "cell_type": "code",
     "collapsed": false,
     "input": [
      "f = open('data/ascii/sextractor.dat') # get a file handle\n",
      "lines = f.readlines()\n",
      "lines"
     ],
     "language": "python",
     "metadata": {},
     "outputs": [
      {
       "metadata": {},
       "output_type": "pyout",
       "prompt_number": 19,
       "text": [
        "['# 1 NUMBER        Galaxy ID number\\n',\n",
        " '# 2 FLUX_ISO   \\n',\n",
        " '# 3 FLUXERR_ISO   \\n',\n",
        " '# 4 VALUES        Note column 5 is missing\\n',\n",
        " '# 6 FLAG\\n',\n",
        " '1 0.02580616000000000 0.03974229000000000 1.6770000000000000 0.2710000000000000 0\\n',\n",
        " '2 5.72769100000000009 0.20643300000000001 2.6250000000000000 2.5219999999999998 0\\n',\n",
        " '3 88.31933999999999685 0.59369850000000002 5.9249999999999998 4.7140000000000004 0\\n']"
       ]
      }
     ],
     "prompt_number": 19
    },
    {
     "cell_type": "code",
     "collapsed": false,
     "input": [
      "# writing a file\n",
      "outtext = ''.join(lines)\n",
      "outtext"
     ],
     "language": "python",
     "metadata": {},
     "outputs": [
      {
       "metadata": {},
       "output_type": "pyout",
       "prompt_number": 20,
       "text": [
        "'# 1 NUMBER        Galaxy ID number\\n# 2 FLUX_ISO   \\n# 3 FLUXERR_ISO   \\n# 4 VALUES        Note column 5 is missing\\n# 6 FLAG\\n1 0.02580616000000000 0.03974229000000000 1.6770000000000000 0.2710000000000000 0\\n2 5.72769100000000009 0.20643300000000001 2.6250000000000000 2.5219999999999998 0\\n3 88.31933999999999685 0.59369850000000002 5.9249999999999998 4.7140000000000004 0\\n'"
       ]
      }
     ],
     "prompt_number": 20
    },
    {
     "cell_type": "code",
     "collapsed": false,
     "input": [
      "outfile = open('test.dat','w')\n",
      "outfile.write(outtext)\n",
      "outfile.close()"
     ],
     "language": "python",
     "metadata": {},
     "outputs": [],
     "prompt_number": 21
    },
    {
     "cell_type": "code",
     "collapsed": false,
     "input": [
      "ls"
     ],
     "language": "python",
     "metadata": {},
     "outputs": [
      {
       "output_type": "stream",
       "stream": "stdout",
       "text": [
        "Astropy_Basics.ipynb\r\n",
        "More_Python.ipynb\r\n",
        "Python_Basics.ipynb\r\n",
        "README.md\r\n",
        "Untitled0.ipynb\r\n",
        "\u001b[34mdata\u001b[m\u001b[m/\r\n",
        "joinnb.py\r\n",
        "lat_background_model_slice.fits\r\n",
        "lat_background_model_slice_allhdus.fits\r\n",
        "random_array.fits\r\n",
        "random_array2.fits\r\n",
        "random_array3.fits\r\n",
        "test.dat\r\n",
        "test.fits\r\n",
        "test.vot\r\n",
        "test2.dat\r\n"
       ]
      }
     ],
     "prompt_number": 22
    },
    {
     "cell_type": "markdown",
     "metadata": {},
     "source": [
      "##Useful Libraries\n",
      "\n",
      "- `re`: regular expressions [not covered here]\n",
      "- `sys`: system level information\n",
      "- `os`: access to OS-level services\n",
      "- `os.path`: platform independent path and filename manipulation\n",
      "- `shutil`: higher level file/directory operations\n",
      "- `glob`: file wildcard utilities\n",
      "- `time`: time functions\n",
      "- `datetime`: date/time functions\n",
      "- `argparse`: tools for parsing command line options\n",
      "- `StringIO`: reading and writing from strings as though they were files\n",
      "- `pdb`: debugger [not covered here"
     ]
    },
    {
     "cell_type": "code",
     "collapsed": false,
     "input": [
      "import sys\n",
      "print(sys.path)\n",
      "print(sys.version) \n",
      "# also contains sysout sysin pointers"
     ],
     "language": "python",
     "metadata": {},
     "outputs": [
      {
       "output_type": "stream",
       "stream": "stdout",
       "text": [
        "['', '/usr/stsci/ssbx/python/lib/python2.7/site-packages/six-1.8.0-py2.7.egg', '/usr/stsci/ssbx/python/lib/python2.7/site-packages/matplotlib-1.4.2-py2.7-macosx-10.6-x86_64.egg', '/usr/stsci/ssbx/python/lib/python2.7/site-packages/mock-1.0.1-py2.7.egg', '/usr/stsci/ssbx/python/lib/python2.7/site-packages/pytz-2014.10-py2.7.egg', '/usr/stsci/ssbx/python/lib/python2.7/site-packages/pyobjc_core-3.0.3-py2.7-macosx-10.6-x86_64.egg', '/usr/stsci/ssbx/python/lib/python2.7/site-packages/pyobjc_framework_Cocoa-3.0.3-py2.7-macosx-10.6-x86_64.egg', '/usr/stsci/ssbx/python/lib/python2.7/site-packages/pyobjc_framework_Quartz-3.0.3-py2.7-macosx-10.6-x86_64.egg', '/usr/stsci/ssbx/python/lib/python2.7/site-packages/Cython-0.21.1-py2.7-macosx-10.6-x86_64.egg', '/usr/stsci/ssbx/python/lib/python2.7/site-packages/webbpsf-0.3.2-py2.7.egg', '/usr/stsci/ssbx/python/lib/python2.7/site-packages/jsonschema-2.4.0-py2.7.egg', '/usr/stsci/ssbx/python/lib/python2.7/site-packages/d2to1-0.2.13.dev-py2.7.egg', '/usr/stsci/ssbx/python/lib/python2.7/site-packages/stsci.distutils-0.3.8.dev38362-py2.7.egg', '/usr/stsci/ssbx/python/lib/python2.7/site-packages/stsci.tools-3.3.0.dev38362-py2.7.egg', '/usr/stsci/ssbx/python/lib/python2.7/site-packages/stsci.ndimage-0.10.1.dev38362-py2.7-macosx-10.6-x86_64.egg', '/usr/stsci/ssbx/python/lib/python2.7/site-packages/stsci.convolve-2.1.3.dev38362-py2.7-macosx-10.6-x86_64.egg', '/usr/stsci/ssbx/python/lib/python2.7/site-packages/pyfits-3.4.dev-py2.7-macosx-10.6-x86_64.egg', '/usr/stsci/ssbx/python/lib/python2.7/site-packages/stwcs-1.2.1.dev38362-py2.7.egg', '/usr/stsci/ssbx/python/lib/python2.7/site-packages/stsci.stimage-0.2.1.dev38362-py2.7-macosx-10.6-x86_64.egg', '/usr/stsci/ssbx/python/lib/python2.7/site-packages/stsci.sphere-0.2-py2.7-macosx-10.6-x86_64.egg', '/usr/stsci/ssbx/python/lib/python2.7/site-packages/stsci.imagestats-1.4.1.dev38362-py2.7-macosx-10.6-x86_64.egg', '/usr/stsci/ssbx/python/lib/python2.7/site-packages/stsci.imagemanip-1.1.1.dev38362-py2.7-macosx-10.6-x86_64.egg', '/usr/stsci/ssbx/python/lib/python2.7/site-packages/stsci.image-2.1.1.dev38362-py2.7-macosx-10.6-x86_64.egg', '/usr/stsci/ssbx/python/lib/python2.7/site-packages/pywcs-1.12.1.dev4596-py2.7-macosx-10.6-x86_64.egg', '/usr/stsci/ssbx/python/lib/python2.7/site-packages/pysynphot-0.9.7.dev-py2.7-macosx-10.6-x86_64.egg', '/usr/stsci/ssbx/python/lib/python2.7/site-packages/pydrizzle-6.4.4.dev38362-py2.7-macosx-10.6-x86_64.egg', '/usr/stsci/ssbx/python/lib/python2.7/site-packages/nictools-1.1.3.dev38362-py2.7.egg', '/usr/stsci/ssbx/python/lib/python2.7/site-packages/fitsblender-0.2.5.dev38362-py2.7.egg', '/usr/stsci/ssbx/python/lib/python2.7/site-packages/calcos-3.0-py2.7-macosx-10.6-x86_64.egg', '/usr/stsci/ssbx/python/lib/python2.7/site-packages/astrolib.coords-0.39.6.dev4596-py2.7-macosx-10.6-x86_64.egg', '/usr/stsci/ssbx/python/lib/python2.7/site-packages/wfpc2tools-1.0.3.dev38362-py2.7.egg', '/usr/stsci/ssbx/python/lib/python2.7/site-packages/wfc3tools-1.3.1.dev38362-py2.7.egg', '/usr/stsci/ssbx/python/lib/python2.7/site-packages/stsci.sphinxext-1.2.2.dev-py2.7.egg', '/usr/stsci/ssbx/python/lib/python2.7/site-packages/stsci.skypac-0.9.dev38362-py2.7.egg', '/usr/stsci/ssbx/python/lib/python2.7/site-packages/stsci.samplepackage-1.1.dev38362-py2.7-macosx-10.6-x86_64.egg', '/usr/stsci/ssbx/python/lib/python2.7/site-packages/stsci.numdisplay-1.6.1.dev38362-py2.7.egg', '/usr/stsci/ssbx/python/lib/python2.7/site-packages/stistools-1.0.3.dev38362-py2.7.egg', '/usr/stsci/ssbx/python/lib/python2.7/site-packages/reftools-1.6.7.dev38362-py2.7-macosx-10.6-x86_64.egg', '/usr/stsci/ssbx/python/lib/python2.7/site-packages/pyregion-1.1.2-py2.7-macosx-10.6-x86_64.egg', '/usr/stsci/ssbx/python/lib/python2.7/site-packages/pyraf-2.2.dev-py2.7-macosx-10.6-x86_64.egg', '/usr/stsci/ssbx/python/lib/python2.7/site-packages/opuscoords-1.0.2.dev38362-py2.7-macosx-10.6-x86_64.egg', '/usr/stsci/ssbx/python/lib/python2.7/site-packages/multidrizzle-3.4.3.dev38362-py2.7.egg', '/usr/stsci/ssbx/python/lib/python2.7/site-packages/drizzlepac-2.0.0.dev38362-py2.7-macosx-10.6-x86_64.egg', '/usr/stsci/ssbx/python/lib/python2.7/site-packages/costools-1.2.1.dev38362-py2.7.egg', '/usr/stsci/ssbx/python/lib/python2.7/site-packages/acstools-1.8.0.dev38362-py2.7-macosx-10.6-x86_64.egg', '/usr/stsci/ssbx/python/lib/python2.7/site-packages/jwst_lib.stpipe-0.0-py2.7.egg', '/usr/stsci/ssbx/python/lib/python2.7/site-packages/jwst_lib.modeling-0.2.4-py2.7.egg', '/usr/stsci/ssbx/python/lib/python2.7/site-packages/jwst_lib.models-0.0-py2.7.egg', '/usr/stsci/ssbx/python/lib/python2.7/site-packages/jwst_lib.astdata-0.0-py2.7.egg', '/usr/stsci/ssbx/python/lib/python2.7/site-packages/jwst_lib.wcs-0.0-py2.7.egg', '/usr/stsci/ssbx/python/lib/python2.7/site-packages/jwst_pipeline.ami-0.1-py2.7.egg', '/usr/stsci/ssbx/python/lib/python2.7/site-packages/jwst_pipeline.assign_wcs-0.1-py2.7.egg', '/usr/stsci/ssbx/python/lib/python2.7/site-packages/jwst_pipeline.bias_drift-0.1-py2.7.egg', '/usr/stsci/ssbx/python/lib/python2.7/site-packages/jwst_pipeline.dark_current-0.2-py2.7.egg', '/usr/stsci/ssbx/python/lib/python2.7/site-packages/jwst_pipeline.dq_init-0.1-py2.7.egg', '/usr/stsci/ssbx/python/lib/python2.7/site-packages/jwst_pipeline.emission-0.1-py2.7.egg', '/usr/stsci/ssbx/python/lib/python2.7/site-packages/jwst_pipeline.extract_1d-0.1-py2.7.egg', '/usr/stsci/ssbx/python/lib/python2.7/site-packages/jwst_pipeline.extract_2d-0.1-py2.7.egg', '/usr/stsci/ssbx/python/lib/python2.7/site-packages/jwst_pipeline.flatfield-0.1-py2.7.egg', '/usr/stsci/ssbx/python/lib/python2.7/site-packages/jwst_pipeline.fringe-0.1-py2.7.egg', '/usr/stsci/ssbx/python/lib/python2.7/site-packages/jwst_pipeline.ipc-0.1-py2.7.egg', '/usr/stsci/ssbx/python/lib/python2.7/site-packages/jwst_pipeline.jump-0.2-py2.7.egg', '/usr/stsci/ssbx/python/lib/python2.7/site-packages/jwst_pipeline.lastframe-0.1-py2.7.egg', '/usr/stsci/ssbx/python/lib/python2.7/site-packages/jwst_pipeline.linearity-0.3-py2.7.egg', '/usr/stsci/ssbx/python/lib/python2.7/site-packages/jwst_pipeline.persistence-0.1-py2.7.egg', '/usr/stsci/ssbx/python/lib/python2.7/site-packages/jwst_pipeline.photom-0.1-py2.7.egg', '/usr/stsci/ssbx/python/lib/python2.7/site-packages/jwst_pipeline.pipeline-0.1-py2.7.egg', '/usr/stsci/ssbx/python/lib/python2.7/site-packages/jwst_pipeline.ramp_fitting-0.1-py2.7.egg', '/usr/stsci/ssbx/python/lib/python2.7/site-packages/jwst_pipeline.resample-0.1a0-py2.7.egg', '/usr/stsci/ssbx/python/lib/python2.7/site-packages/jwst_pipeline.reset-0.1-py2.7.egg', '/usr/stsci/ssbx/python/lib/python2.7/site-packages/jwst_pipeline.saturation-0.1-py2.7.egg', '/usr/stsci/ssbx/python/lib/python2.7/site-packages/jwst_pipeline.straylight-0.2-py2.7.egg', '/usr/stsci/ssbx/python/lib/python2.7/site-packages/jwst_pipeline.wfs_combine-0.1-py2.7.egg', '/usr/stsci/ssbx/python/lib/python2.7/site-packages/jwst_tools.csv_tools-0.6-py2.7.egg', '/usr/stsci/ssbx/python/lib/python2.7/site-packages/jwst_tools.fits_generator-0.1-py2.7.egg', '/usr/stsci/ssbx/python/lib/python2.7/site-packages/jwst_tools.jwpsf-3.1-py2.7.egg', '/usr/stsci/ssbx/python/lib/python2.7/site-packages/jwst_tools.spectools-0.1-py2.7.egg', '/usr/stsci/ssbx/python/lib/python2.7/site-packages/jwst_tools.associations-0.6-py2.7.egg', '/Users/perry/ssbvirt/ssbx-osx/lib/python27.zip', '/Users/perry/ssbvirt/ssbx-osx/lib/python2.7', '/Users/perry/ssbvirt/ssbx-osx/lib/python2.7/plat-darwin', '/Users/perry/ssbvirt/ssbx-osx/lib/python2.7/plat-mac', '/Users/perry/ssbvirt/ssbx-osx/lib/python2.7/plat-mac/lib-scriptpackages', '/Users/perry/ssbvirt/ssbx-osx/lib/python2.7/lib-tk', '/Users/perry/ssbvirt/ssbx-osx/lib/python2.7/lib-old', '/Users/perry/ssbvirt/ssbx-osx/lib/python2.7/lib-dynload', '/usr/stsci/ssbx/python/lib/python2.7', '/usr/stsci/ssbx/python/lib/python2.7/plat-darwin', '/usr/stsci/ssbx/python/lib/python2.7/lib-tk', '/usr/stsci/ssbx/python/lib/python2.7/plat-mac', '/usr/stsci/ssbx/python/lib/python2.7/plat-mac/lib-scriptpackages', '/Users/perry/ssbvirt/ssbx-osx/lib/python2.7/site-packages', '/usr/stsci/ssbx/python/lib/python2.7/site-packages', '/usr/stsci/ssbx/python/lib/python2.7/site-packages/IPython/extensions']\n",
        "2.7.5 (default, Mar 13 2015, 01:50:03) \n",
        "[GCC 4.2.1 (Apple Inc. build 5664)]\n"
       ]
      }
     ],
     "prompt_number": 23
    },
    {
     "cell_type": "code",
     "collapsed": false,
     "input": [
      "import os\n",
      "print(os.environ)"
     ],
     "language": "python",
     "metadata": {},
     "outputs": [
      {
       "output_type": "stream",
       "stream": "stdout",
       "text": [
        "{'IDL_DIR': '/Applications/exelis/idl84', 'UR_TMP': '/Users/perry/.ureka_tmp/ssbx', 'hbin': '/usr/stsci/ssbx/iraf//unix/bin.macosx/', 'INFOPATH': '/sw/share/info:/sw/info:/usr/share/info', 'VIRTUAL_ENV': '/Users/perry/ssbvirt/ssbx-osx', 'SHELL': '/bin/tcsh', 'XDG_DATA_DIRS': '/sw/share', 'GDFONTPATH': '/Library/Fonts', 'HSI_LFLAGS': '', 'GNOME_DISABLE_CRASH_DIALOG': '1', 'MANPATH': '/usr/stsci/ssbx/share/man:/usr/stsci/ssbx/variants/common/man:/usr/stsci/ssbx/variants/common/man:/usr/stsci/ssbx/variants/common/share/man:/usr/stsci/ssbx/python/man:/usr/stsci/ssbx/python/share/man::/sw/share/man:/usr/share/man:/usr/local/share/man:/opt/X11/share/man:/usr/texbin/man:/Applications/Xcode.app/Contents/Developer/usr/share/man:/Applications/Xcode.app/Contents/Developer/Toolchains/XcodeDefault.xctoolchain/usr/share/man:/sw/lib/perl5/5.16.2/man', 'XDG_CONFIG_HOME': '/Users/perry/.config', 'VENDOR': 'apple', 'XDG_RUNTIME_DIR': '/var/folders/m1/8vfhq2315vlcqkbn6bhh4wgh0003y2/C/', 'RANLIB': 'ranlib', 'HSI_FF': '-I/usr/stsci/ssbx/iraf//include/ -O -arch i386 -m32 -DBLD_KERNEL -mmacosx-version-min=10.4', 'DBUS_SESSION_BUS_ADDRESS': 'launchd:env=DBUS_FINK_SESSION_BUS_SOCKET', 'F2C': '/usr/stsci/ssbx/iraf//unix/bin.macosx//f2c.e', 'IMTOOLRC': '/usr/stsci/ssbx/iraf/dev/imtoolrc', 'hostid': 'unix', 'HSI_OSLIBS': '', 'HSI_LIBS': '/usr/stsci/ssbx/iraf//unix/hlib/libboot.a /usr/stsci/ssbx/iraf//lib/libsys.a /usr/stsci/ssbx/iraf//lib/libvops.a /usr/stsci/ssbx/iraf//unix/hlib/libos.a ', 'MACHTYPE': 'x86_64', 'GROUP': 'STSCI\\\\science', 'XDG_DATA_HOME': '/Users/perry/.local/share', 'USER': 'perry', 'QTDIR': '/sw/lib/qt3', 'hlib': '/usr/stsci/ssbx/iraf//unix/hlib/', 'tmp': '/tmp/', 'HSI_CF': '-I/usr/stsci/ssbx/iraf//include/ -O -DMACOSX -w -Wunused -arch i386 -m32 -mmacosx-version-min=10.4', 'SHLVL': '1', 'GNUPLOT_DEFAULT_GDFONT': 'Arial', 'FERMI_DIR': '/Applications/ST_sci/heasoft-6.15.1/i386-apple-darwin13.0.2', 'TERM_SESSION_ID': 'D09F90D8-889F-4B0D-9557-A9DFEB9CDE4B', 'HSI_XF': '-I/usr/stsci/ssbx/iraf//include/ -Inolibc -/DMACOSX -w -/Wunused -/m32 -/arch -//i386 -/mmacosx-version-min=10.4', 'XAPPLRESDIR': '/sw/etc/app-defaults/', 'iraf': '/usr/stsci/ssbx/iraf/', 'host': '/usr/stsci/ssbx/iraf//unix/', 'PKG_CONFIG_PATH': '/usr/stsci/ssbx/python/lib/pkgconfig', 'TMPDIR': '/var/folders/m1/8vfhq2315vlcqkbn6bhh4wgh0003y2/T/', 'PERL5LIB': '/sw/lib/perl5:/sw/lib/perl5/darwin', 'XDG_CONFIG_DIRS': '/sw/etc/xdg', 'HSI_F77LIBS': '', 'GDK_USE_XFT': '1', 'IDL_PATH': '.:+/Applications/exelis/local/astron:+/Applications/exelis/idl84/lib', 'EXELIS_DIR': '/Applications/exelis', 'GDL_PATH': '+/sw/share/gnudatalanguage/lib', 'UR_VARIANT': 'common', 'PAGER': 'cat', 'HEADAS': '/Applications/ST_sci/heasoft-6.15.1/i386-apple-darwin13.0.2', 'REMOTEHOST': '', 'TERM_PROGRAM_VERSION': '326', 'UR_DIR': '/usr/stsci/ssbx', 'HOME': '/Users/perry', 'UR_DIR_PKG': '/usr/stsci/ssbx/variants/common/', 'DISPLAY': '/tmp/launch-sGTuMd/org.macosforge.xquartz:0', 'TERM_PROGRAM': 'Apple_Terminal', 'LANG': 'en_US.UTF-8', 'Apple_PubSub_Socket_Render': '/tmp/launch-OITUtg/Render', 'GVBINDIR': '/usr/stsci/ssbx/python/lib/graphviz', 'ac_cv_path_INTLTOOL_PERL': '/usr/bin/perl', 'OSTYPE': 'darwin', 'UR_CPU': 'x86', 'CC': 'cc', 'HOST': 'beeblebrox.home', 'GIT_PAGER': 'cat', 'IRAFARCH': 'macosx', 'F77': '/usr/stsci/ssbx/iraf//unix/hlib//f77.sh', 'UR_BITS': '64', '__CF_USER_TEXT_ENCODING': '0xFC2:0:0', '__CHECKFIX1436934': '1', 'HOSTTYPE': 'intel-mac', 'LOGNAME': 'perry', 'PATH': '/Users/perry/ssbvirt/ssbx-osx/bin:/usr/stsci/ssbx/variants/common/bin:/usr/stsci/ssbx/bin:/usr/stsci/ssbx/python/bin:/Users/perry/bin:/Applications/ST_sci/SM/bin:/sw/bin:/sw/sbin:/usr/bin:/bin:/usr/sbin:/sbin:/usr/local/bin:/opt/X11/bin:/usr/texbin:/usr/X11R6/bin', 'TERM': 'xterm-color', 'UR_OS': 'osx-9', 'SSH_AUTH_SOCK': '/tmp/launch-sSf0Et/Listeners', 'XDG_CACHE_HOME': '/Users/perry/.cache', 'XML_CATALOG_FILES': '/sw/etc/xml/catalog', 'MACH': 'macosx', 'PGPLOT_DIR': '/sw/lib/pgplot', 'HSI_LF': '-I/usr/stsci/ssbx/iraf//include/ -arch i386 -m32 -mmacosx-version-min=10.4', 'CLICOLOR': '1', 'PWD': '/Users/perry/dropbox/gitfork/UserTraining2015', 'SGML_CATALOG_FILES': '/sw/etc/sgml/catalog'}\n"
       ]
      }
     ],
     "prompt_number": 24
    },
    {
     "cell_type": "code",
     "collapsed": false,
     "input": [
      "# Contains functions to run commands, change directories, get environment, get uid, etc\n",
      "print(os.system('ls -l')) #works in terminal window, but not in notebook\n",
      "import subprocess\n",
      "print(subprocess.check_output(['ls','-l'])) "
     ],
     "language": "python",
     "metadata": {},
     "outputs": [
      {
       "output_type": "stream",
       "stream": "stdout",
       "text": [
        "0\n",
        "total 6256\n",
        "-rw-r--r--@  1 perry  STSCI\\science   311605 May  6 08:24 Astropy_Basics.ipynb\n",
        "-rw-r--r--@  1 perry  STSCI\\science    16354 May  6 08:32 More_Python.ipynb\n",
        "-rw-r--r--@  1 perry  STSCI\\science    56393 May  6 08:09 Python_Basics.ipynb\n",
        "-rw-r--r--@  1 perry  STSCI\\science      334 May  1 13:32 README.md\n",
        "-rw-r--r--@  1 perry  STSCI\\science     2630 May  4 13:30 Untitled0.ipynb\n",
        "drwxr-xr-x@ 12 perry  STSCI\\science      408 Apr 28 11:17 data\n",
        "-rw-r--r--@  1 perry  STSCI\\science      446 May  1 08:19 joinnb.py\n",
        "-rw-r--r--@  1 perry  STSCI\\science  1039680 May  6 08:11 lat_background_model_slice.fits\n",
        "-rw-r--r--@  1 perry  STSCI\\science  1045440 May  6 08:11 lat_background_model_slice_allhdus.fits\n",
        "-rw-r--r--@  1 perry  STSCI\\science   135360 May  6 08:11 random_array.fits\n",
        "-rw-r--r--@  1 perry  STSCI\\science   138240 May  6 08:12 random_array2.fits\n",
        "-rw-r--r--@  1 perry  STSCI\\science   406080 May  6 08:12 random_array3.fits\n",
        "-rw-r--r--@  1 perry  STSCI\\science      369 May  6 08:33 test.dat\n",
        "-rw-r--r--@  1 perry  STSCI\\science     8640 May  6 08:11 test.fits\n",
        "-rw-r--r--@  1 perry  STSCI\\science     1403 May  6 08:11 test.vot\n",
        "-rw-r--r--@  1 perry  STSCI\\science      369 May  5 20:54 test2.dat\n",
        "\n"
       ]
      }
     ],
     "prompt_number": 25
    },
    {
     "cell_type": "code",
     "collapsed": false,
     "input": [
      "# or just this\n",
      "!ls -l"
     ],
     "language": "python",
     "metadata": {},
     "outputs": [
      {
       "output_type": "stream",
       "stream": "stdout",
       "text": [
        "total 6256\r\n",
        "-rw-r--r--@  1 perry  STSCI\\science   311605 May  6 08:24 Astropy_Basics.ipynb\r\n",
        "-rw-r--r--@  1 perry  STSCI\\science    16354 May  6 08:32 More_Python.ipynb\r\n",
        "-rw-r--r--@  1 perry  STSCI\\science    56393 May  6 08:09 Python_Basics.ipynb\r\n",
        "-rw-r--r--@  1 perry  STSCI\\science      334 May  1 13:32 README.md\r\n",
        "-rw-r--r--@  1 perry  STSCI\\science     2630 May  4 13:30 Untitled0.ipynb\r\n",
        "drwxr-xr-x@ 12 perry  STSCI\\science      408 Apr 28 11:17 \u001b[34mdata\u001b[m\u001b[m\r\n",
        "-rw-r--r--@  1 perry  STSCI\\science      446 May  1 08:19 joinnb.py\r\n",
        "-rw-r--r--@  1 perry  STSCI\\science  1039680 May  6 08:11 lat_background_model_slice.fits\r\n",
        "-rw-r--r--@  1 perry  STSCI\\science  1045440 May  6 08:11 lat_background_model_slice_allhdus.fits\r\n",
        "-rw-r--r--@  1 perry  STSCI\\science   135360 May  6 08:11 random_array.fits\r\n",
        "-rw-r--r--@  1 perry  STSCI\\science   138240 May  6 08:12 random_array2.fits\r\n",
        "-rw-r--r--@  1 perry  STSCI\\science   406080 May  6 08:12 random_array3.fits\r\n",
        "-rw-r--r--@  1 perry  STSCI\\science      369 May  6 08:33 test.dat\r\n",
        "-rw-r--r--@  1 perry  STSCI\\science     8640 May  6 08:11 test.fits\r\n",
        "-rw-r--r--@  1 perry  STSCI\\science     1403 May  6 08:11 test.vot\r\n",
        "-rw-r--r--@  1 perry  STSCI\\science      369 May  5 20:54 test2.dat\r\n"
       ]
      }
     ],
     "prompt_number": 26
    },
    {
     "cell_type": "code",
     "collapsed": false,
     "input": [
      "import os.path\n",
      "os.path.join('mydir','data.dat') # handles platform variances like windows '\\'"
     ],
     "language": "python",
     "metadata": {},
     "outputs": [
      {
       "metadata": {},
       "output_type": "pyout",
       "prompt_number": 27,
       "text": [
        "'mydir/data.dat'"
       ]
      }
     ],
     "prompt_number": 27
    },
    {
     "cell_type": "code",
     "collapsed": false,
     "input": [
      "os.path.splitext(os.path.split('/a/b/c/file.txt')[1])"
     ],
     "language": "python",
     "metadata": {},
     "outputs": [
      {
       "metadata": {},
       "output_type": "pyout",
       "prompt_number": 28,
       "text": [
        "('file', '.txt')"
       ]
      }
     ],
     "prompt_number": 28
    },
    {
     "cell_type": "code",
     "collapsed": false,
     "input": [
      "import shutil\n",
      "shutil.copyfile('test.dat','test2.dat')"
     ],
     "language": "python",
     "metadata": {},
     "outputs": [],
     "prompt_number": 29
    },
    {
     "cell_type": "code",
     "collapsed": false,
     "input": [
      "# has copytree(), rmtree(), move(), make_archive()..."
     ],
     "language": "python",
     "metadata": {},
     "outputs": [],
     "prompt_number": 30
    },
    {
     "cell_type": "code",
     "collapsed": false,
     "input": [
      "import glob\n",
      "fl = glob.glob('*.fits')\n",
      "print(fl)"
     ],
     "language": "python",
     "metadata": {},
     "outputs": [
      {
       "output_type": "stream",
       "stream": "stdout",
       "text": [
        "['lat_background_model_slice.fits', 'lat_background_model_slice_allhdus.fits', 'random_array.fits', 'random_array2.fits', 'random_array3.fits', 'test.fits']\n"
       ]
      }
     ],
     "prompt_number": 31
    },
    {
     "cell_type": "code",
     "collapsed": false,
     "input": [
      "import time\n",
      "t = time.time()\n",
      "print(t)\n",
      "tt = time.localtime(t)\n",
      "print(tt)\n",
      "print(time.strftime('%y, %m, %d', tt))\n",
      "time.sleep(5)"
     ],
     "language": "python",
     "metadata": {},
     "outputs": [
      {
       "output_type": "stream",
       "stream": "stdout",
       "text": [
        "1430915614.24\n",
        "time.struct_time(tm_year=2015, tm_mon=5, tm_mday=6, tm_hour=8, tm_min=33, tm_sec=34, tm_wday=2, tm_yday=126, tm_isdst=1)\n",
        "15, 05, 06\n"
       ]
      }
     ],
     "prompt_number": 32
    },
    {
     "cell_type": "heading",
     "level": 2,
     "metadata": {},
     "source": [
      "more numpy"
     ]
    },
    {
     "cell_type": "markdown",
     "metadata": {},
     "source": [
      "###array creation"
     ]
    },
    {
     "cell_type": "code",
     "collapsed": false,
     "input": [
      "a = np.zeros((10,10))\n",
      "a = np.ones((10,10))\n",
      "a = np.arange(10)\n",
      "a = np.linspace(1,10,100)\n",
      "a = np.array([1,2,6,9.2])"
     ],
     "language": "python",
     "metadata": {},
     "outputs": [],
     "prompt_number": 33
    },
    {
     "cell_type": "markdown",
     "metadata": {},
     "source": [
      "###broadcasting"
     ]
    },
    {
     "cell_type": "code",
     "collapsed": false,
     "input": [
      "a = np.arange(10)\n",
      "a.shape=(2,5)\n",
      "print(a)\n",
      "b = np.arange(5)\n",
      "a*b\n",
      "c = np.arange(2)\n",
      "a*c"
     ],
     "language": "python",
     "metadata": {},
     "outputs": [
      {
       "output_type": "stream",
       "stream": "stdout",
       "text": [
        "[[0 1 2 3 4]\n",
        " [5 6 7 8 9]]\n"
       ]
      },
      {
       "ename": "ValueError",
       "evalue": "operands could not be broadcast together with shapes (2,5) (2,) ",
       "output_type": "pyerr",
       "traceback": [
        "\u001b[0;31m---------------------------------------------------------------------------\u001b[0m\n\u001b[0;31mValueError\u001b[0m                                Traceback (most recent call last)",
        "\u001b[0;32m<ipython-input-34-3d63b1e84bf7>\u001b[0m in \u001b[0;36m<module>\u001b[0;34m()\u001b[0m\n\u001b[1;32m      5\u001b[0m \u001b[0ma\u001b[0m\u001b[0;34m*\u001b[0m\u001b[0mb\u001b[0m\u001b[0;34m\u001b[0m\u001b[0m\n\u001b[1;32m      6\u001b[0m \u001b[0mc\u001b[0m \u001b[0;34m=\u001b[0m \u001b[0mnp\u001b[0m\u001b[0;34m.\u001b[0m\u001b[0marange\u001b[0m\u001b[0;34m(\u001b[0m\u001b[0;36m2\u001b[0m\u001b[0;34m)\u001b[0m\u001b[0;34m\u001b[0m\u001b[0m\n\u001b[0;32m----> 7\u001b[0;31m \u001b[0ma\u001b[0m\u001b[0;34m*\u001b[0m\u001b[0mc\u001b[0m\u001b[0;34m\u001b[0m\u001b[0m\n\u001b[0m",
        "\u001b[0;31mValueError\u001b[0m: operands could not be broadcast together with shapes (2,5) (2,) "
       ]
      }
     ],
     "prompt_number": 34
    },
    {
     "cell_type": "code",
     "collapsed": false,
     "input": [
      "a*c[:, np.newaxis]"
     ],
     "language": "python",
     "metadata": {},
     "outputs": []
    },
    {
     "cell_type": "code",
     "collapsed": false,
     "input": [
      "x = np.arange(10.)* 2\n",
      "y = x**2\n",
      "import numpy.random as ran\n",
      "xx = ran.uniform(0., 18., size=(100,)) # 100 random numbers between 0 and 18\n",
      "xind = np.searchsorted(x, xx)-1 # indices where x is next value below that in xx\n",
      "xfract = (xx - x[xind])/(x[xind+1]-x[xind]) # fractional distance between x points \n",
      "yy = y[xind] + xfract*(y[xind+1]-y[xind]) # the interpolated values for xx"
     ],
     "language": "python",
     "metadata": {},
     "outputs": [],
     "prompt_number": 35
    },
    {
     "cell_type": "code",
     "collapsed": false,
     "input": [
      "import astropy.io.fits as fits\n",
      "from matplotlib import pyplot as plt\n",
      "im = fits.getdata('data/pix.fits')\n",
      "plt.imshow(im,vmax=500)"
     ],
     "language": "python",
     "metadata": {},
     "outputs": [
      {
       "metadata": {},
       "output_type": "pyout",
       "prompt_number": 36,
       "text": [
        "<matplotlib.image.AxesImage at 0x108b2b850>"
       ]
      },
      {
       "metadata": {},
       "output_type": "display_data",
       "png": "[encoded data removed]",
       "text": [
        "<matplotlib.figure.Figure at 0x107472050>"
       ]
      }
     ],
     "prompt_number": 36
    },
    {
     "cell_type": "code",
     "collapsed": false,
     "input": [
      "y, x = np.indices((512,512)) # first determine radii of all pixels\n",
      "plt.imshow(y)"
     ],
     "language": "python",
     "metadata": {},
     "outputs": [
      {
       "metadata": {},
       "output_type": "pyout",
       "prompt_number": 37,
       "text": [
        "<matplotlib.image.AxesImage at 0x108becc10>"
       ]
      },
      {
       "metadata": {},
       "output_type": "display_data",
       "png": "[encoded data removed]",
       "text": [
        "<matplotlib.figure.Figure at 0x107444d90>"
       ]
      }
     ],
     "prompt_number": 37
    },
    {
     "cell_type": "code",
     "collapsed": false,
     "input": [
      "r = np.sqrt((x-257.)**2+(y-258)**2)\n",
      "plt.imshow(r)"
     ],
     "language": "python",
     "metadata": {},
     "outputs": [
      {
       "metadata": {},
       "output_type": "pyout",
       "prompt_number": 38,
       "text": [
        "<matplotlib.image.AxesImage at 0x108d7db10>"
       ]
      },
      {
       "metadata": {},
       "output_type": "display_data",
       "png": "[encoded data removed]",
       "text": [
        "<matplotlib.figure.Figure at 0x108bd5e50>"
       ]
      }
     ],
     "prompt_number": 38
    },
    {
     "cell_type": "code",
     "collapsed": false,
     "input": [
      "ind = np.argsort(r.flat) # get sorted indices (could use sort\n",
      "# if not needed to arange image values too \n",
      "sr = r.flat[ind] # sorted radii\n",
      "sim = im.flat[ind] # image values sorted by radii\n",
      "ri = sr.astype(np.int16) # integer part of radii (bin size = 1)\n",
      "# Things get trickier here; nd numbers in same radius bin \n",
      "# by looking for where radius change value and determining distance between changes\n",
      "deltar = ri[1:] - ri[:-1] # assume all radii represented # (more work if not)\n",
      "rind = np.where(deltar)[0] # location of changed radius\n",
      "nr = rind[1:] - rind[:-1] # number in radius bin\n",
      "csim = np.cumsum(sim, dtype=np.float64) # cumulative sum to figure out sums for each radii bin \n",
      "tbin = csim[rind[1:]] - csim[rind[:-1]] # sum for image values in radius bins\n",
      "radialprofile = tbin/nr # the answer\n",
      "plt.semilogy(radialprofile)"
     ],
     "language": "python",
     "metadata": {},
     "outputs": [
      {
       "metadata": {},
       "output_type": "pyout",
       "prompt_number": 39,
       "text": [
        "[<matplotlib.lines.Line2D at 0x108d19f50>]"
       ]
      },
      {
       "metadata": {},
       "output_type": "display_data",
       "png": "[encoded data removed]",
       "text": [
        "<matplotlib.figure.Figure at 0x108d02f90>"
       ]
      }
     ],
     "prompt_number": 39
    },
    {
     "cell_type": "code",
     "collapsed": false,
     "input": [
      "p = .4\n",
      "n = 1000000 # initial ensemble size\n",
      "n2heads = 0; n2tails = 0 # totals for each case\n",
      "import numpy.random as ran\n",
      "prev = ran.rand(n) < p # true if heads, false if not \n",
      "while n>0:\n",
      "    next = ran.rand(n) < p\n",
      "    notdone = (next != prev)\n",
      "    n2heads += np.sum(prev & next,dtype=np.int64) # careful about sums!\n",
      "    n2tails += np.sum(np.logical_not(prev | next),dtype=np.int64)\n",
      "    prev = next[notdone]\n",
      "    n = len(prev)\n",
      "    print(n)"
     ],
     "language": "python",
     "metadata": {},
     "outputs": [
      {
       "output_type": "stream",
       "stream": "stdout",
       "text": [
        "480867\n",
        "240103\n",
        "115234"
       ]
      },
      {
       "output_type": "stream",
       "stream": "stdout",
       "text": [
        "\n",
        "57285\n",
        "27242\n",
        "13680\n",
        "6644\n",
        "3324\n",
        "1592\n",
        "792\n",
        "362\n",
        "175\n",
        "87\n",
        "34\n",
        "15\n",
        "10\n",
        "3\n",
        "2\n",
        "2\n",
        "0\n"
       ]
      }
     ],
     "prompt_number": 40
    },
    {
     "cell_type": "code",
     "collapsed": false,
     "input": [
      "grid = np.zeros((500,500),np.float32)\n",
      "prevgrid = grid.copy()\n",
      "grid[200:300,200:300] = 100.\n",
      "done = False\n",
      "i=0\n",
      "while not done:\n",
      "    i +=1\n",
      "    prevgrid[:,:] = grid # just reuse arrays\n",
      "    # new value is average of 4 neighboring values\n",
      "    grid[1:-1,1:-1] = 0.25*(\n",
      "        grid[:-2,1:-1]\n",
      "      + grid[2:, 1:-1]\n",
      "      + grid[1:-1,:-2]\n",
      "      + grid[1:-1,2:])\n",
      "    grid[200:300,200:300] = 100.\n",
      "    diffmax = np.abs(grid - prevgrid).max()\n",
      "    print(i, diffmax)\n",
      "    if diffmax < 0.1: done = True"
     ],
     "language": "python",
     "metadata": {},
     "outputs": [
      {
       "output_type": "stream",
       "stream": "stdout",
       "text": [
        "1 25.0\n",
        "2 12.5\n",
        "3 7.8125\n",
        "4 6.25\n",
        "5 4.6875\n",
        "6 4.02832\n",
        "7"
       ]
      },
      {
       "output_type": "stream",
       "stream": "stdout",
       "text": [
        " 3.49121\n",
        "8 3.05481\n",
        "9 2.69775\n",
        "10 2.40269\n",
        "11 2.15626\n",
        "12 1.94833\n",
        "13"
       ]
      },
      {
       "output_type": "stream",
       "stream": "stdout",
       "text": [
        " 1.82656\n",
        "14 1.71423\n",
        "15 1.61106\n",
        "16 1.51649\n",
        "17 1.42983\n",
        "18 1.3504\n",
        "19"
       ]
      },
      {
       "output_type": "stream",
       "stream": "stdout",
       "text": [
        " 1.2775\n",
        "20 1.21053\n",
        "21 1.14888\n",
        "22 1.09204\n",
        "23 1.03954\n",
        "24 0.990955\n",
        "25"
       ]
      },
      {
       "output_type": "stream",
       "stream": "stdout",
       "text": [
        " 0.956783\n",
        "26 0.924164\n",
        "27 0.893057\n",
        "28 0.863405\n",
        "29 0.835148\n",
        "30 0.808222\n",
        "31"
       ]
      },
      {
       "output_type": "stream",
       "stream": "stdout",
       "text": [
        " 0.782564\n",
        "32 0.75811\n",
        "33 0.734795\n",
        "34 0.712559\n",
        "35 0.691338\n",
        "36 0.671085\n",
        "37"
       ]
      },
      {
       "output_type": "stream",
       "stream": "stdout",
       "text": [
        " 0.651741\n",
        "38 0.633259\n",
        "39 0.615585\n",
        "40 0.598682\n",
        "41 0.585667\n",
        "42 0.573036\n",
        "43"
       ]
      },
      {
       "output_type": "stream",
       "stream": "stdout",
       "text": [
        " 0.560783\n",
        "44 0.548899\n",
        "45 0.537373\n",
        "46 0.526194\n",
        "47 0.515352\n",
        "48 0.504837\n",
        "49"
       ]
      },
      {
       "output_type": "stream",
       "stream": "stdout",
       "text": [
        " 0.494638\n",
        "50 0.484747\n",
        "51 0.475151\n",
        "52 0.465839\n",
        "53 0.456802\n",
        "54 0.448036\n",
        "55"
       ]
      },
      {
       "output_type": "stream",
       "stream": "stdout",
       "text": [
        " 0.439522\n",
        "56 0.431255\n",
        "57 0.423229\n",
        "58 0.415436\n",
        "59 0.40786\n",
        "60 0.400505\n",
        "61"
       ]
      },
      {
       "output_type": "stream",
       "stream": "stdout",
       "text": [
        " 0.394524\n",
        "62 0.38867\n",
        "63 0.382938\n",
        "64 0.377327\n",
        "65 0.371834\n",
        "66 0.366455\n",
        "67"
       ]
      },
      {
       "output_type": "stream",
       "stream": "stdout",
       "text": [
        " 0.361187\n",
        "68 0.35603\n",
        "69 0.350981\n",
        "70 0.346041\n",
        "71 0.3412\n",
        "72 0.336458\n",
        "73"
       ]
      },
      {
       "output_type": "stream",
       "stream": "stdout",
       "text": [
        " 0.33182\n",
        "74 0.327278\n",
        "75 0.322826\n",
        "76 0.318466\n",
        "77 0.314201\n",
        "78 0.310017\n",
        "79"
       ]
      },
      {
       "output_type": "stream",
       "stream": "stdout",
       "text": [
        " 0.30592\n",
        "80 0.301907\n",
        "81 0.297974\n",
        "82 0.294121\n",
        "83 0.29034\n",
        "84"
       ]
      },
      {
       "output_type": "stream",
       "stream": "stdout",
       "text": [
        " 0.28664\n",
        "85 0.283524\n",
        "86 0.280457\n",
        "87 0.277435\n",
        "88 0.27446\n",
        "89 0.271534\n",
        "90"
       ]
      },
      {
       "output_type": "stream",
       "stream": "stdout",
       "text": [
        " 0.268648\n",
        "91 0.265808\n",
        "92 0.263014\n",
        "93 0.260262\n",
        "94 0.257553\n",
        "95 0.254883\n",
        "96"
       ]
      },
      {
       "output_type": "stream",
       "stream": "stdout",
       "text": [
        " 0.252256\n",
        "97 0.249668\n",
        "98 0.247122\n",
        "99 0.244614\n",
        "100 0.242146\n",
        "101 0.239708\n",
        "102"
       ]
      },
      {
       "output_type": "stream",
       "stream": "stdout",
       "text": [
        " 0.237312\n",
        "103 0.234955\n",
        "104 0.232628\n",
        "105 0.230343\n",
        "106 0.228088\n",
        "107 0.225868\n",
        "108"
       ]
      },
      {
       "output_type": "stream",
       "stream": "stdout",
       "text": [
        " 0.223682\n",
        "109 0.221527\n",
        "110 0.219398\n",
        "111 0.217308\n",
        "112 0.215248\n",
        "113 0.213469\n",
        "114"
       ]
      },
      {
       "output_type": "stream",
       "stream": "stdout",
       "text": [
        " 0.211712\n",
        "115 0.209976\n",
        "116 0.208258\n",
        "117 0.20656\n",
        "118 0.204884\n",
        "119 0.203224\n",
        "120"
       ]
      },
      {
       "output_type": "stream",
       "stream": "stdout",
       "text": [
        " 0.20159\n",
        "121 0.199972\n",
        "122 0.198374\n",
        "123 0.196795\n",
        "124 0.195232\n",
        "125 0.193689\n",
        "126"
       ]
      },
      {
       "output_type": "stream",
       "stream": "stdout",
       "text": [
        " 0.192163\n",
        "127 0.190657\n",
        "128 0.189167\n",
        "129 0.187696\n",
        "130 0.186237\n",
        "131"
       ]
      },
      {
       "output_type": "stream",
       "stream": "stdout",
       "text": [
        " 0.184803\n",
        "132 0.18338\n",
        "133 0.181976\n",
        "134 0.180588\n",
        "135 0.179218\n",
        "136"
       ]
      },
      {
       "output_type": "stream",
       "stream": "stdout",
       "text": [
        " 0.17786\n",
        "137 0.176517\n",
        "138 0.175194\n",
        "139 0.173885\n",
        "140 0.172588\n",
        "141 0.17131\n",
        "142"
       ]
      },
      {
       "output_type": "stream",
       "stream": "stdout",
       "text": [
        " 0.17004\n",
        "143 0.168793\n",
        "144 0.167553\n",
        "145 0.166466\n",
        "146 0.165388\n",
        "147 0.164318\n",
        "148"
       ]
      },
      {
       "output_type": "stream",
       "stream": "stdout",
       "text": [
        " 0.163261\n",
        "149 0.162212\n",
        "150 0.161175\n",
        "151 0.160147\n",
        "152 0.159128\n",
        "153"
       ]
      },
      {
       "output_type": "stream",
       "stream": "stdout",
       "text": [
        " 0.158117\n",
        "154 0.157118\n",
        "155 0.156126\n",
        "156 0.155146\n",
        "157 0.154171\n",
        "158 0.15321\n",
        "159"
       ]
      },
      {
       "output_type": "stream",
       "stream": "stdout",
       "text": [
        " 0.152254\n",
        "160 0.15131\n",
        "161 0.150372\n",
        "162 0.149445\n",
        "163 0.148525\n",
        "164"
       ]
      },
      {
       "output_type": "stream",
       "stream": "stdout",
       "text": [
        " 0.147614\n",
        "165 0.146713\n",
        "166 0.145817\n",
        "167 0.144932\n",
        "168 0.144054\n",
        "169 0.143185\n",
        "170"
       ]
      },
      {
       "output_type": "stream",
       "stream": "stdout",
       "text": [
        " 0.142323\n",
        "171 0.141468\n",
        "172 0.140621\n",
        "173 0.139782\n",
        "174 0.13895\n",
        "175 0.13813\n",
        "176"
       ]
      },
      {
       "output_type": "stream",
       "stream": "stdout",
       "text": [
        " 0.137314\n",
        "177 0.136505\n",
        "178 0.135704\n",
        "179 0.134911\n",
        "180 0.134121\n",
        "181 0.133417\n",
        "182"
       ]
      },
      {
       "output_type": "stream",
       "stream": "stdout",
       "text": [
        " 0.132721\n",
        "183 0.13203\n",
        "184 0.131344\n",
        "185 0.130663\n",
        "186 0.129988\n",
        "187 0.129318\n",
        "188"
       ]
      },
      {
       "output_type": "stream",
       "stream": "stdout",
       "text": [
        " 0.128651\n",
        "189 0.127989\n",
        "190 0.127333\n",
        "191 0.126682\n",
        "192 0.126036\n",
        "193 0.125395\n",
        "194"
       ]
      },
      {
       "output_type": "stream",
       "stream": "stdout",
       "text": [
        " 0.12476\n",
        "195 0.124126\n",
        "196 0.123501\n",
        "197 0.122879\n",
        "198 0.122259\n",
        "199"
       ]
      },
      {
       "output_type": "stream",
       "stream": "stdout",
       "text": [
        " 0.121647\n",
        "200 0.12104\n",
        "201 0.120436\n",
        "202 0.119839\n",
        "203 0.11924\n",
        "204"
       ]
      },
      {
       "output_type": "stream",
       "stream": "stdout",
       "text": [
        " 0.118652\n",
        "205 0.118065\n",
        "206 0.117485\n",
        "207 0.116905\n",
        "208 0.116333\n",
        "209"
       ]
      },
      {
       "output_type": "stream",
       "stream": "stdout",
       "text": [
        " 0.115768\n",
        "210 0.115204\n",
        "211 0.114643\n",
        "212 0.11409\n",
        "213 0.113533\n",
        "214"
       ]
      },
      {
       "output_type": "stream",
       "stream": "stdout",
       "text": [
        " 0.112988\n",
        "215 0.112442\n",
        "216 0.1119\n",
        "217 0.111366\n",
        "218 0.110832\n",
        "219 0.110306\n",
        "220"
       ]
      },
      {
       "output_type": "stream",
       "stream": "stdout",
       "text": [
        " 0.109783\n",
        "221 0.10931\n",
        "222 0.108837\n",
        "223 0.108372\n",
        "224 0.107906\n",
        "225 0.107447\n",
        "226"
       ]
      },
      {
       "output_type": "stream",
       "stream": "stdout",
       "text": [
        " 0.106987\n",
        "227 0.106531\n",
        "228 0.106079\n",
        "229 0.105629\n",
        "230 0.105179\n",
        "231"
       ]
      },
      {
       "output_type": "stream",
       "stream": "stdout",
       "text": [
        " 0.104736\n",
        "232 0.104294\n",
        "233 0.103855\n",
        "234 0.10342\n",
        "235 0.102987\n",
        "236"
       ]
      },
      {
       "output_type": "stream",
       "stream": "stdout",
       "text": [
        " 0.102556\n",
        "237 0.102127\n",
        "238 0.1017\n",
        "239 0.101278\n",
        "240 0.100859\n",
        "241 0.100441\n",
        "242"
       ]
      },
      {
       "output_type": "stream",
       "stream": "stdout",
       "text": [
        " 0.100027\n",
        "243 0.0996132\n"
       ]
      }
     ],
     "prompt_number": 41
    },
    {
     "cell_type": "code",
     "collapsed": false,
     "input": [
      "plt.imshow(grid)"
     ],
     "language": "python",
     "metadata": {},
     "outputs": [
      {
       "metadata": {},
       "output_type": "pyout",
       "prompt_number": 42,
       "text": [
        "<matplotlib.image.AxesImage at 0x10b868090>"
       ]
      },
      {
       "metadata": {},
       "output_type": "display_data",
       "png": "[encoded data removed]",
       "text": [
        "<matplotlib.figure.Figure at 0x108d06310>"
       ]
      }
     ],
     "prompt_number": 42
    },
    {
     "cell_type": "code",
     "collapsed": false,
     "input": [],
     "language": "python",
     "metadata": {},
     "outputs": [],
     "prompt_number": 42
    },
    {
     "cell_type": "code",
     "collapsed": false,
     "input": [],
     "language": "python",
     "metadata": {},
     "outputs": []
    }
   ],
   "metadata": {}
  }
 ]
}