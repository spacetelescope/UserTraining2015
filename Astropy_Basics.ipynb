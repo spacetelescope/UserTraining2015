{
 "metadata": {
  "name": "",
  "signature": "sha256:40c0422ba2d82a227bd230c89adddce8573c0d7a495798792cce677f4843b57d"
 },
 "nbformat": 3,
 "nbformat_minor": 0,
 "worksheets": [
  {
   "cells": [
    {
     "cell_type": "heading",
     "level": 1,
     "metadata": {},
     "source": [
      "Astropy Basics"
     ]
    },
    {
     "cell_type": "markdown",
     "metadata": {},
     "source": [
      "*****\n",
      "*****"
     ]
    },
    {
     "cell_type": "markdown",
     "metadata": {},
     "source": [
      "##Overview\n",
      "\n",
      "Goals of the Astropy Project Core:\n",
      "- consistent set of libraries for Python code to foster interoperability\n",
      "- standard documentation, directory structure, tests\n",
      "- continuous integration and testing\n",
      "- making it a community project not owned any institution\n",
      "- liberally licensed\n",
      "- minimal required dependencies (numpy)\n",
      "  - may use many others (e.g., scipy, matplotlib), but will still import but with less functionality\n",
      "  \n",
      "Astropy-Affiliated projects:\n",
      "- Use Astropy Core libraries\n",
      "- Adhere to documentation, directory structure and testing standards\n",
      "\n",
      "STScI Data Analysis software will be added to the Astropy Core or as Affiliated packages.\n",
      "STScI has already contributed previous libraries to Astropy (e.g., pyfits, pywcs), and added many since.\n",
      "\n",
      "First 3 years concentrated on core libraries. Much more focus in last year and in future on more application oriented packages (e.g., photutils, glue, etc)\n"
     ]
    },
    {
     "cell_type": "heading",
     "level": 2,
     "metadata": {},
     "source": [
      "Units, Quantities and Constants"
     ]
    },
    {
     "cell_type": "heading",
     "level": 3,
     "metadata": {},
     "source": [
      "Documentation"
     ]
    },
    {
     "cell_type": "markdown",
     "metadata": {},
     "source": [
      "For more information about the features presented below, you can read the\n",
      "[astropy.units](http://docs.astropy.org/en/stable/units/index.html) docs.\n"
     ]
    },
    {
     "cell_type": "heading",
     "level": 3,
     "metadata": {},
     "source": [
      "Representing units and quantities"
     ]
    },
    {
     "cell_type": "markdown",
     "metadata": {},
     "source": [
      "Astropy includes a powerful framework for units that allows users to attach\n",
      "units to scalars and arrays, and manipulate/combine these, keeping track of\n",
      "the units.\n",
      "\n",
      "Since we may want to use a number of units in expressions, it is easiest and\n",
      "most concise to import the units module with:"
     ]
    },
    {
     "cell_type": "code",
     "collapsed": false,
     "input": [
      "%matplotlib inline\n",
      "from __future__ import division, print_function\n",
      "from astropy import units as u\n",
      "# cd /home/analyst/data/astropy  # uncomment if using this notebook from the VM provided"
     ],
     "language": "python",
     "metadata": {},
     "outputs": [],
     "prompt_number": 1
    },
    {
     "cell_type": "markdown",
     "metadata": {},
     "source": [
      "though note that this will conflict with any variable called ``u``.\n",
      "\n",
      "Units can then be accessed with:"
     ]
    },
    {
     "cell_type": "code",
     "collapsed": false,
     "input": [
      "u.m\n",
      "u.km\n",
      "print(u.ks)"
     ],
     "language": "python",
     "metadata": {},
     "outputs": [
      {
       "output_type": "stream",
       "stream": "stdout",
       "text": [
        "ks\n"
       ]
      }
     ],
     "prompt_number": 2
    },
    {
     "cell_type": "markdown",
     "metadata": {},
     "source": [
      "They all have a docstring defining them:"
     ]
    },
    {
     "cell_type": "code",
     "collapsed": false,
     "input": [
      "u.m.__doc__\n",
      "help(u.m)"
     ],
     "language": "python",
     "metadata": {},
     "outputs": [
      {
       "output_type": "stream",
       "stream": "stdout",
       "text": [
        "Help on IrreducibleUnit in module astropy.units.core object:\n",
        "\n",
        "class IrreducibleUnit(NamedUnit)\n",
        " |  Irreducible units are the units that all other units are defined\n",
        " |  in terms of.\n",
        " |  \n",
        " |  Examples are meters, seconds, kilograms, amperes, etc.  There is\n",
        " |  only once instance of such a unit per type.\n",
        " |  \n",
        " |  Method resolution order:\n",
        " |      IrreducibleUnit\n",
        " |      NamedUnit\n",
        " |      UnitBase\n",
        " |      __builtin__.object\n",
        " |  \n",
        " |  Methods defined here:\n",
        " |  \n",
        " |  __reduce__(self)\n",
        " |      helper for pickle\n",
        " |  \n",
        " |  decompose(self, bases=set([]))\n",
        " |      Return a unit object composed of only irreducible units.\n",
        " |      \n",
        " |      Parameters\n",
        " |      ----------\n",
        " |      bases : sequence of UnitBase, optional\n",
        " |          The bases to decompose into.  When not provided,\n",
        " |          decomposes down to any irreducible units.  When provided,\n",
        " |          the decomposed result will only contain the given units.\n",
        " |          This will raises a `UnitsError` if it's not possible\n",
        " |          to do so.\n",
        " |      \n",
        " |      Returns\n",
        " |      -------\n",
        " |      unit : CompositeUnit object\n",
        " |          New object containing only irreducible unit objects.\n",
        " |  \n",
        " |  ----------------------------------------------------------------------\n",
        " |  Methods inherited from NamedUnit:\n",
        " |  \n",
        " |  __init__(self, st, register=None, doc=None, format=None, namespace=None)\n",
        " |      x.__init__(...) initializes x; see help(type(x)) for signature\n",
        " |  \n",
        " |  deregister(self, remove_from_namespace=False)\n",
        " |  \n",
        " |  get_format_name(self, format)\n",
        " |      Get a name for this unit that is specific to a particular\n",
        " |      format.\n",
        " |      \n",
        " |      Uses the dictionary passed into the `format` kwarg in the\n",
        " |      constructor.\n",
        " |      \n",
        " |      Parameters\n",
        " |      ----------\n",
        " |      format : str\n",
        " |          The name of the format\n",
        " |      \n",
        " |      Returns\n",
        " |      -------\n",
        " |      name : str\n",
        " |          The name of the unit for the given format.\n",
        " |  \n",
        " |  register(self, add_to_namespace=False)\n",
        " |  \n",
        " |  ----------------------------------------------------------------------\n",
        " |  Data descriptors inherited from NamedUnit:\n",
        " |  \n",
        " |  aliases\n",
        " |      Returns the alias (long) names for this unit.\n",
        " |  \n",
        " |  long_names\n",
        " |      Returns all of the long names associated with this unit.\n",
        " |  \n",
        " |  name\n",
        " |      Returns the canonical (short) name associated with this unit.\n",
        " |  \n",
        " |  names\n",
        " |      Returns all of the names associated with this unit.\n",
        " |  \n",
        " |  short_names\n",
        " |      Returns all of the short names associated with this unit.\n",
        " |  \n",
        " |  ----------------------------------------------------------------------\n",
        " |  Methods inherited from UnitBase:\n",
        " |  \n",
        " |  __bytes__(self)\n",
        " |      Return string representation for unit\n",
        " |  \n",
        " |  __deepcopy__(self, memo)\n",
        " |  \n",
        " |  __div__(self, m)\n",
        " |  \n",
        " |  __eq__(self, other)\n",
        " |      x.__eq__(y) <==> x==y\n",
        " |  \n",
        " |  __format__(self, format_spec)\n",
        " |      Try to format units using a formatter.\n",
        " |  \n",
        " |  __ge__(self, other)\n",
        " |      x.__ge__(y) <==> x>=y\n",
        " |  \n",
        " |  __gt__(self, other)\n",
        " |      x.__gt__(y) <==> x>y\n",
        " |  \n",
        " |  __hash__(self)\n",
        " |      x.__hash__() <==> hash(x)\n",
        " |  \n",
        " |  __le__(self, other)\n",
        " |      x.__le__(y) <==> x<=y\n",
        " |  \n",
        " |  __lt__(self, other)\n",
        " |      x.__lt__(y) <==> x<y\n",
        " |  \n",
        " |  __mul__(self, m)\n",
        " |  \n",
        " |  __ne__(self, other)\n",
        " |      x.__ne__(y) <==> x!=y\n",
        " |  \n",
        " |  __neg__(self)\n",
        " |  \n",
        " |  __pow__(self, p)\n",
        " |  \n",
        " |  __rdiv__(self, m)\n",
        " |  \n",
        " |  __repr__(self)\n",
        " |      x.__repr__() <==> repr(x)\n",
        " |  \n",
        " |  __rmul__(self, m)\n",
        " |  \n",
        " |  __rtruediv__ = __rdiv__(self, m)\n",
        " |  \n",
        " |  __str__ = __bytes__(self)\n",
        " |      Return string representation for unit\n",
        " |  \n",
        " |  __truediv__ = __div__(self, m)\n",
        " |  \n",
        " |  __unicode__(self)\n",
        " |      Return string representation for unit\n",
        " |  \n",
        " |  compose(self, equivalencies=[], units=None, max_depth=2, include_prefix_units=False)\n",
        " |      Return the simplest possible composite unit(s) that represent\n",
        " |      the given unit.  Since there may be multiple equally simple\n",
        " |      compositions of the unit, a list of units is always returned.\n",
        " |      \n",
        " |      Parameters\n",
        " |      ----------\n",
        " |      equivalencies : list of equivalence pairs, optional\n",
        " |          A list of equivalence pairs to also list.  See\n",
        " |          :ref:`unit_equivalencies`.\n",
        " |          This list is in addition to possible global defaults set by, e.g.,\n",
        " |          `set_enabled_equivalencies`.\n",
        " |          Use `None` to turn off all equivalencies.\n",
        " |      \n",
        " |      units : set of units to compose to, optional\n",
        " |          If not provided, any known units may be used to compose\n",
        " |          into.  Otherwise, ``units`` is a dict, module or sequence\n",
        " |          containing the units to compose into.\n",
        " |      \n",
        " |      max_depth : int, optional\n",
        " |          The maximum recursion depth to use when composing into\n",
        " |          composite units.\n",
        " |      \n",
        " |      include_prefix_units : bool, optional\n",
        " |          When `True`, include prefixed units in the result.\n",
        " |          Default is `False`.\n",
        " |      \n",
        " |      Returns\n",
        " |      -------\n",
        " |      units : list of `CompositeUnit`\n",
        " |          A list of candidate compositions.  These will all be\n",
        " |          equally simple, but it may not be possible to\n",
        " |          automatically determine which of the candidates are\n",
        " |          better.\n",
        " |  \n",
        " |  find_equivalent_units(self, equivalencies=[], units=None, include_prefix_units=False)\n",
        " |      Return a list of all the units that are the same type as ``self``.\n",
        " |      \n",
        " |      Parameters\n",
        " |      ----------\n",
        " |      equivalencies : list of equivalence pairs, optional\n",
        " |          A list of equivalence pairs to also list.  See\n",
        " |          :ref:`unit_equivalencies`.\n",
        " |          Any list given, including an empty one, supercedes global defaults\n",
        " |          that may be in effect (as set by `set_enabled_equivalencies`)\n",
        " |      \n",
        " |      units : set of units to search in, optional\n",
        " |          If not provided, all defined units will be searched for\n",
        " |          equivalencies.  Otherwise, may be a dict, module or\n",
        " |          sequence containing the units to search for equivalencies.\n",
        " |      \n",
        " |      include_prefix_units : bool, optional\n",
        " |          When `True`, include prefixed units in the result.\n",
        " |          Default is `False`.\n",
        " |      \n",
        " |      Returns\n",
        " |      -------\n",
        " |      units : list of `UnitBase`\n",
        " |          A list of unit objects that match ``u``.  A subclass of\n",
        " |          `list` (``EquivalentUnitsList``) is returned that\n",
        " |          pretty-prints the list of units when output.\n",
        " |  \n",
        " |  get_converter(*args, **kwargs)\n",
        " |      .. deprecated:: 1.0\n",
        " |          The get_converter function is deprecated and may be removed in a future version.\n",
        " |      \n",
        " |      Return the conversion function to convert values from ``self``\n",
        " |      to the specified unit.\n",
        " |      \n",
        " |      Parameters\n",
        " |      ----------\n",
        " |      other : unit object or string\n",
        " |          The unit to convert to.\n",
        " |      \n",
        " |      equivalencies : list of equivalence pairs, optional\n",
        " |          A list of equivalence pairs to try if the units are not\n",
        " |          directly convertible.  See :ref:`unit_equivalencies`.\n",
        " |          This list is in addition to possible global defaults set by, e.g.,\n",
        " |          `set_enabled_equivalencies`.\n",
        " |          Use `None` to turn off all equivalencies.\n",
        " |      \n",
        " |      Returns\n",
        " |      -------\n",
        " |      func : callable\n",
        " |          A callable that normally expects a single argument that is\n",
        " |          a scalar value or an array of values (or anything that may\n",
        " |          be converted to an array).\n",
        " |      \n",
        " |      Raises\n",
        " |      ------\n",
        " |      UnitsError\n",
        " |          If units are inconsistent\n",
        " |  \n",
        " |  in_units(self, other, value=1.0, equivalencies=[])\n",
        " |      Alias for `to` for backward compatibility with pynbody.\n",
        " |  \n",
        " |  is_equivalent(self, other, equivalencies=[])\n",
        " |      Returns `True` if this unit is equivalent to ``other``.\n",
        " |      \n",
        " |      Parameters\n",
        " |      ----------\n",
        " |      other : unit object or string or tuple\n",
        " |          The unit to convert to. If a tuple of units is specified, this\n",
        " |          method returns true if the unit matches any of those in the tuple.\n",
        " |      \n",
        " |      equivalencies : list of equivalence pairs, optional\n",
        " |          A list of equivalence pairs to try if the units are not\n",
        " |          directly convertible.  See :ref:`unit_equivalencies`.\n",
        " |          This list is in addition to possible global defaults set by, e.g.,\n",
        " |          `set_enabled_equivalencies`.\n",
        " |          Use `None` to turn off all equivalencies.\n",
        " |      \n",
        " |      Returns\n",
        " |      -------\n",
        " |      bool\n",
        " |  \n",
        " |  is_unity(self)\n",
        " |      Returns `True` if the unit is unscaled and dimensionless.\n",
        " |  \n",
        " |  to(self, other, value=1.0, equivalencies=[])\n",
        " |      Return the converted values in the specified unit.\n",
        " |      \n",
        " |      Parameters\n",
        " |      ----------\n",
        " |      other : unit object or string\n",
        " |          The unit to convert to.\n",
        " |      \n",
        " |      value : scalar int or float, or sequence convertable to array, optional\n",
        " |          Value(s) in the current unit to be converted to the\n",
        " |          specified unit.  If not provided, defaults to 1.0\n",
        " |      \n",
        " |      equivalencies : list of equivalence pairs, optional\n",
        " |          A list of equivalence pairs to try if the units are not\n",
        " |          directly convertible.  See :ref:`unit_equivalencies`.\n",
        " |          This list is in addition to possible global defaults set by, e.g.,\n",
        " |          `set_enabled_equivalencies`.\n",
        " |          Use `None` to turn off all equivalencies.\n",
        " |      \n",
        " |      Returns\n",
        " |      -------\n",
        " |      values : scalar or array\n",
        " |          Converted value(s). Input value sequences are returned as\n",
        " |          numpy arrays.\n",
        " |      \n",
        " |      Raises\n",
        " |      ------\n",
        " |      UnitsError\n",
        " |          If units are inconsistent\n",
        " |  \n",
        " |  to_string(self, format=<class 'astropy.units.format.generic.Generic'>)\n",
        " |      Output the unit in the given format as a string.\n",
        " |      \n",
        " |      Parameters\n",
        " |      ----------\n",
        " |      format : `astropy.units.format.Base` instance or str\n",
        " |          The name of a format or a formatter object.  If not\n",
        " |          provided, defaults to the generic format.\n",
        " |  \n",
        " |  to_system(self, system)\n",
        " |      Converts this unit into ones belonging to the given system.\n",
        " |      Since more than one result may be possible, a list is always\n",
        " |      returned.\n",
        " |      \n",
        " |      Parameters\n",
        " |      ----------\n",
        " |      system : module\n",
        " |          The module that defines the unit system.  Commonly used\n",
        " |          ones include `astropy.units.si` and `astropy.units.cgs`.\n",
        " |      \n",
        " |          To use your own module it must contain unit objects and a\n",
        " |          sequence member named ``bases`` containing the base units of\n",
        " |          the system.\n",
        " |      \n",
        " |      Returns\n",
        " |      -------\n",
        " |      units : list of `CompositeUnit`\n",
        " |          The list is ranked so that units containing only the base\n",
        " |          units of that system will appear first.\n",
        " |  \n",
        " |  ----------------------------------------------------------------------\n",
        " |  Data descriptors inherited from UnitBase:\n",
        " |  \n",
        " |  __dict__\n",
        " |      dictionary for instance variables (if defined)\n",
        " |  \n",
        " |  __weakref__\n",
        " |      list of weak references to the object (if defined)\n",
        " |  \n",
        " |  bases\n",
        " |      Return the bases of the unit.\n",
        " |  \n",
        " |  cgs\n",
        " |      Returns a copy of the current `Unit` instance with CGS units.\n",
        " |  \n",
        " |  physical_type\n",
        " |      Return the physical type on the unit.\n",
        " |      \n",
        " |      Examples\n",
        " |      --------\n",
        " |      >>> from astropy import units as u\n",
        " |      >>> print(u.m.physical_type)\n",
        " |      length\n",
        " |  \n",
        " |  powers\n",
        " |      Return the powers of the unit.\n",
        " |  \n",
        " |  scale\n",
        " |      Return the scale of the unit.\n",
        " |  \n",
        " |  si\n",
        " |      Returns a copy of the current `Unit` instance in SI units.\n",
        " |  \n",
        " |  ----------------------------------------------------------------------\n",
        " |  Data and other attributes inherited from UnitBase:\n",
        " |  \n",
        " |  EquivalentUnitsList = <class 'astropy.units.core.EquivalentUnitsList'>\n",
        " |      A class to handle pretty-printing the result of\n",
        " |      `find_equivalent_units`.\n",
        " |  \n",
        " |  __array_priority__ = 1000\n",
        "\n"
       ]
      }
     ],
     "prompt_number": 4
    },
    {
     "cell_type": "code",
     "collapsed": false,
     "input": [
      "u.m.physical_type"
     ],
     "language": "python",
     "metadata": {},
     "outputs": [
      {
       "metadata": {},
       "output_type": "pyout",
       "prompt_number": 5,
       "text": [
        "u'length'"
       ]
      }
     ],
     "prompt_number": 5
    },
    {
     "cell_type": "code",
     "collapsed": false,
     "input": [
      "u.pc"
     ],
     "language": "python",
     "metadata": {},
     "outputs": [
      {
       "latex": [
        "$\\mathrm{pc}$"
       ],
       "metadata": {},
       "output_type": "pyout",
       "prompt_number": 6,
       "text": [
        "Unit(\"pc\")"
       ]
      }
     ],
     "prompt_number": 6
    },
    {
     "cell_type": "code",
     "collapsed": false,
     "input": [
      "u.pc.__doc__"
     ],
     "language": "python",
     "metadata": {},
     "outputs": [
      {
       "metadata": {},
       "output_type": "pyout",
       "prompt_number": 7,
       "text": [
        "u'parsec: approximately 3.26 light-years.'"
       ]
      }
     ],
     "prompt_number": 7
    },
    {
     "cell_type": "code",
     "collapsed": false,
     "input": [
      "u.s"
     ],
     "language": "python",
     "metadata": {},
     "outputs": [
      {
       "latex": [
        "$\\mathrm{s}$"
       ],
       "metadata": {},
       "output_type": "pyout",
       "prompt_number": 8,
       "text": [
        "Unit(\"s\")"
       ]
      }
     ],
     "prompt_number": 8
    },
    {
     "cell_type": "code",
     "collapsed": false,
     "input": [
      "u.kg"
     ],
     "language": "python",
     "metadata": {},
     "outputs": [
      {
       "latex": [
        "$\\mathrm{kg}$"
       ],
       "metadata": {},
       "output_type": "pyout",
       "prompt_number": 9,
       "text": [
        "Unit(\"kg\")"
       ]
      }
     ],
     "prompt_number": 9
    },
    {
     "cell_type": "markdown",
     "metadata": {},
     "source": [
      "The full list of available units is available [here](https://astropy.readthedocs.org/en/stable/units/index.html#module-astropy.units.si)."
     ]
    },
    {
     "cell_type": "markdown",
     "metadata": {},
     "source": [
      "We can create composite units:"
     ]
    },
    {
     "cell_type": "code",
     "collapsed": false,
     "input": [
      "u.m / u.kg / u.s**2"
     ],
     "language": "python",
     "metadata": {},
     "outputs": [
      {
       "latex": [
        "$\\mathrm{\\frac{m}{kg\\,s^{2}}}$"
       ],
       "metadata": {},
       "output_type": "pyout",
       "prompt_number": 10,
       "text": [
        "Unit(\"m / (kg s2)\")"
       ]
      }
     ],
     "prompt_number": 10
    },
    {
     "cell_type": "code",
     "collapsed": false,
     "input": [
      "repr(u.m / u.kg / u.s**2)"
     ],
     "language": "python",
     "metadata": {},
     "outputs": [
      {
       "metadata": {},
       "output_type": "pyout",
       "prompt_number": 11,
       "text": [
        "'Unit(\"m / (kg s2)\")'"
       ]
      }
     ],
     "prompt_number": 11
    },
    {
     "cell_type": "markdown",
     "metadata": {},
     "source": [
      "The most useful feature about the units is the ability to attach them to\n",
      "scalars or arrays, creating ``Quantity`` objects:"
     ]
    },
    {
     "cell_type": "code",
     "collapsed": false,
     "input": [
      "3. * u.m"
     ],
     "language": "python",
     "metadata": {},
     "outputs": [
      {
       "latex": [
        "$3 \\; \\mathrm{m}$"
       ],
       "metadata": {},
       "output_type": "pyout",
       "prompt_number": 12,
       "text": [
        "<Quantity 3.0 m>"
       ]
      }
     ],
     "prompt_number": 12
    },
    {
     "cell_type": "code",
     "collapsed": false,
     "input": [
      "import numpy as np"
     ],
     "language": "python",
     "metadata": {},
     "outputs": [],
     "prompt_number": 13
    },
    {
     "cell_type": "code",
     "collapsed": false,
     "input": [
      "np.array([1.2, 2.2, 1.7]) * u.pc / u.year"
     ],
     "language": "python",
     "metadata": {},
     "outputs": [
      {
       "latex": [
        "$[1.2,~2.2,~1.7] \\; \\mathrm{\\frac{pc}{yr}}$"
       ],
       "metadata": {},
       "output_type": "pyout",
       "prompt_number": 14,
       "text": [
        "<Quantity [ 1.2, 2.2, 1.7] pc / yr>"
       ]
      }
     ],
     "prompt_number": 14
    },
    {
     "cell_type": "heading",
     "level": 3,
     "metadata": {},
     "source": [
      "Combining and converting units"
     ]
    },
    {
     "cell_type": "markdown",
     "metadata": {},
     "source": [
      "Quantities can then be combined:"
     ]
    },
    {
     "cell_type": "code",
     "collapsed": false,
     "input": [
      "q1 = 3. * u.m"
     ],
     "language": "python",
     "metadata": {},
     "outputs": [],
     "prompt_number": 15
    },
    {
     "cell_type": "code",
     "collapsed": false,
     "input": [
      "q2 = 5. * u.cm / u.s / u.g**2"
     ],
     "language": "python",
     "metadata": {},
     "outputs": [],
     "prompt_number": 16
    },
    {
     "cell_type": "code",
     "collapsed": false,
     "input": [
      "q1 * q2"
     ],
     "language": "python",
     "metadata": {},
     "outputs": [
      {
       "latex": [
        "$15 \\; \\mathrm{\\frac{cm\\,m}{s\\,g^{2}}}$"
       ],
       "metadata": {},
       "output_type": "pyout",
       "prompt_number": 17,
       "text": [
        "<Quantity 15.0 cm m / (g2 s)>"
       ]
      }
     ],
     "prompt_number": 17
    },
    {
     "cell_type": "markdown",
     "metadata": {},
     "source": [
      "and converted to different units:"
     ]
    },
    {
     "cell_type": "code",
     "collapsed": false,
     "input": [
      "(q1 * q2).to(u.m**2 / u.kg**2 / u.s)"
     ],
     "language": "python",
     "metadata": {},
     "outputs": [
      {
       "latex": [
        "$150000 \\; \\mathrm{\\frac{m^{2}}{s\\,kg^{2}}}$"
       ],
       "metadata": {},
       "output_type": "pyout",
       "prompt_number": 18,
       "text": [
        "<Quantity 150000.0 m2 / (kg2 s)>"
       ]
      }
     ],
     "prompt_number": 18
    },
    {
     "cell_type": "markdown",
     "metadata": {},
     "source": [
      "The units and value of a quantity can be accessed separately via the ``value`` and ``unit`` attributes:"
     ]
    },
    {
     "cell_type": "code",
     "collapsed": false,
     "input": [
      "q = 5. * u.pc"
     ],
     "language": "python",
     "metadata": {},
     "outputs": [],
     "prompt_number": 19
    },
    {
     "cell_type": "code",
     "collapsed": false,
     "input": [
      "q.value"
     ],
     "language": "python",
     "metadata": {},
     "outputs": [
      {
       "metadata": {},
       "output_type": "pyout",
       "prompt_number": 20,
       "text": [
        "5.0"
       ]
      }
     ],
     "prompt_number": 20
    },
    {
     "cell_type": "code",
     "collapsed": false,
     "input": [
      "q.unit"
     ],
     "language": "python",
     "metadata": {},
     "outputs": [
      {
       "latex": [
        "$\\mathrm{pc}$"
       ],
       "metadata": {},
       "output_type": "pyout",
       "prompt_number": 21,
       "text": [
        "Unit(\"pc\")"
       ]
      }
     ],
     "prompt_number": 21
    },
    {
     "cell_type": "heading",
     "level": 3,
     "metadata": {},
     "source": [
      "Advanced features"
     ]
    },
    {
     "cell_type": "code",
     "collapsed": false,
     "input": [
      "q1+q2"
     ],
     "language": "python",
     "metadata": {},
     "outputs": [
      {
       "ename": "UnitsError",
       "evalue": "Can only apply 'add' function to quantities with compatible dimensions",
       "output_type": "pyerr",
       "traceback": [
        "\u001b[0;31m---------------------------------------------------------------------------\u001b[0m\n\u001b[0;31mUnitsError\u001b[0m                                Traceback (most recent call last)",
        "\u001b[0;32m<ipython-input-22-6044c96c8a80>\u001b[0m in \u001b[0;36m<module>\u001b[0;34m()\u001b[0m\n\u001b[0;32m----> 1\u001b[0;31m \u001b[0mq1\u001b[0m\u001b[0;34m+\u001b[0m\u001b[0mq2\u001b[0m\u001b[0;34m\u001b[0m\u001b[0m\n\u001b[0m",
        "\u001b[0;32m/usr/stsci/ssbx/python/lib/python2.7/site-packages/astropy/units/quantity.pyc\u001b[0m in \u001b[0;36m__array_prepare__\u001b[0;34m(self, obj, context)\u001b[0m\n\u001b[1;32m    293\u001b[0m         \u001b[0;31m# the unit the output from the ufunc will have.\u001b[0m\u001b[0;34m\u001b[0m\u001b[0;34m\u001b[0m\u001b[0m\n\u001b[1;32m    294\u001b[0m         \u001b[0;32mif\u001b[0m \u001b[0mfunction\u001b[0m \u001b[0;32min\u001b[0m \u001b[0mUFUNC_HELPERS\u001b[0m\u001b[0;34m:\u001b[0m\u001b[0;34m\u001b[0m\u001b[0m\n\u001b[0;32m--> 295\u001b[0;31m             \u001b[0mscales\u001b[0m\u001b[0;34m,\u001b[0m \u001b[0mresult_unit\u001b[0m \u001b[0;34m=\u001b[0m \u001b[0mUFUNC_HELPERS\u001b[0m\u001b[0;34m[\u001b[0m\u001b[0mfunction\u001b[0m\u001b[0;34m]\u001b[0m\u001b[0;34m(\u001b[0m\u001b[0mfunction\u001b[0m\u001b[0;34m,\u001b[0m \u001b[0;34m*\u001b[0m\u001b[0munits\u001b[0m\u001b[0;34m)\u001b[0m\u001b[0;34m\u001b[0m\u001b[0m\n\u001b[0m\u001b[1;32m    296\u001b[0m         \u001b[0;32melse\u001b[0m\u001b[0;34m:\u001b[0m\u001b[0;34m\u001b[0m\u001b[0m\n\u001b[1;32m    297\u001b[0m             raise TypeError(\"Unknown ufunc {0}.  Please raise issue on \"\n",
        "\u001b[0;32m/usr/stsci/ssbx/python/lib/python2.7/site-packages/astropy/units/quantity_helper.pyc\u001b[0m in \u001b[0;36mhelper_twoarg_invariant\u001b[0;34m(f, unit1, unit2)\u001b[0m\n\u001b[1;32m    272\u001b[0m \u001b[0;34m\u001b[0m\u001b[0m\n\u001b[1;32m    273\u001b[0m \u001b[0;32mdef\u001b[0m \u001b[0mhelper_twoarg_invariant\u001b[0m\u001b[0;34m(\u001b[0m\u001b[0mf\u001b[0m\u001b[0;34m,\u001b[0m \u001b[0munit1\u001b[0m\u001b[0;34m,\u001b[0m \u001b[0munit2\u001b[0m\u001b[0;34m)\u001b[0m\u001b[0;34m:\u001b[0m\u001b[0;34m\u001b[0m\u001b[0m\n\u001b[0;32m--> 274\u001b[0;31m     \u001b[0;32mreturn\u001b[0m \u001b[0mfind_scales\u001b[0m\u001b[0;34m(\u001b[0m\u001b[0mf\u001b[0m\u001b[0;34m,\u001b[0m \u001b[0munit1\u001b[0m\u001b[0;34m,\u001b[0m \u001b[0munit2\u001b[0m\u001b[0;34m)\u001b[0m\u001b[0;34m\u001b[0m\u001b[0m\n\u001b[0m\u001b[1;32m    275\u001b[0m \u001b[0;34m\u001b[0m\u001b[0m\n\u001b[1;32m    276\u001b[0m \u001b[0mUFUNC_HELPERS\u001b[0m\u001b[0;34m[\u001b[0m\u001b[0mnp\u001b[0m\u001b[0;34m.\u001b[0m\u001b[0madd\u001b[0m\u001b[0;34m]\u001b[0m \u001b[0;34m=\u001b[0m \u001b[0mhelper_twoarg_invariant\u001b[0m\u001b[0;34m\u001b[0m\u001b[0m\n",
        "\u001b[0;32m/usr/stsci/ssbx/python/lib/python2.7/site-packages/astropy/units/quantity_helper.pyc\u001b[0m in \u001b[0;36mfind_scales\u001b[0;34m(f, *units)\u001b[0m\n\u001b[1;32m    266\u001b[0m                 \u001b[0;34m\"Can only apply '{0}' function to quantities \"\u001b[0m\u001b[0;34m\u001b[0m\u001b[0m\n\u001b[1;32m    267\u001b[0m                 \u001b[0;34m\"with compatible dimensions\"\u001b[0m\u001b[0;34m\u001b[0m\u001b[0m\n\u001b[0;32m--> 268\u001b[0;31m                 .format(f.__name__))\n\u001b[0m\u001b[1;32m    269\u001b[0m \u001b[0;34m\u001b[0m\u001b[0m\n\u001b[1;32m    270\u001b[0m         \u001b[0;32mreturn\u001b[0m \u001b[0mscales\u001b[0m\u001b[0;34m,\u001b[0m \u001b[0munits\u001b[0m\u001b[0;34m[\u001b[0m\u001b[0mfixed\u001b[0m\u001b[0;34m]\u001b[0m\u001b[0;34m\u001b[0m\u001b[0m\n",
        "\u001b[0;31mUnitsError\u001b[0m: Can only apply 'add' function to quantities with compatible dimensions"
       ]
      }
     ],
     "prompt_number": 22
    },
    {
     "cell_type": "markdown",
     "metadata": {},
     "source": [
      "The units of a quantity can be decomposed into a set of base units using the\n",
      "``decompose()`` method. By default, units will be decomposed to S.I.:"
     ]
    },
    {
     "cell_type": "code",
     "collapsed": false,
     "input": [
      "(3. * u.cm * u.pc / u.g / u.year**2).decompose()"
     ],
     "language": "python",
     "metadata": {},
     "outputs": [
      {
       "latex": [
        "$929.53097 \\; \\mathrm{\\frac{m^{2}}{kg\\,s^{2}}}$"
       ],
       "metadata": {},
       "output_type": "pyout",
       "prompt_number": 23,
       "text": [
        "<Quantity 929.5309735275766 m2 / (kg s2)>"
       ]
      }
     ],
     "prompt_number": 23
    },
    {
     "cell_type": "markdown",
     "metadata": {},
     "source": [
      "To compose into c.g.s. bases:"
     ]
    },
    {
     "cell_type": "code",
     "collapsed": false,
     "input": [
      "u.cgs.bases"
     ],
     "language": "python",
     "metadata": {},
     "outputs": [
      {
       "metadata": {},
       "output_type": "pyout",
       "prompt_number": 24,
       "text": [
        "{Unit(\"mol\"),\n",
        " Unit(\"rad\"),\n",
        " Unit(\"cd\"),\n",
        " Unit(\"cm\"),\n",
        " Unit(\"g\"),\n",
        " Unit(\"s\"),\n",
        " Unit(\"C\"),\n",
        " Unit(\"K\")}"
       ]
      }
     ],
     "prompt_number": 24
    },
    {
     "cell_type": "code",
     "collapsed": false,
     "input": [
      "(3. * u.cm * u.pc / u.g / u.year**2).decompose(u.cgs.bases)"
     ],
     "language": "python",
     "metadata": {},
     "outputs": [
      {
       "latex": [
        "$9295.3097 \\; \\mathrm{\\frac{cm^{2}}{g\\,s^{2}}}$"
       ],
       "metadata": {},
       "output_type": "pyout",
       "prompt_number": 25,
       "text": [
        "<Quantity 9295.309735275769 cm2 / (g s2)>"
       ]
      }
     ],
     "prompt_number": 25
    },
    {
     "cell_type": "markdown",
     "metadata": {},
     "source": [
      "To decompose and recompose into the highest-level c.g.s. units, one can do:"
     ]
    },
    {
     "cell_type": "code",
     "collapsed": false,
     "input": [
      "(3. * u.cm * u.pc / u.g / u.year**2).cgs"
     ],
     "language": "python",
     "metadata": {},
     "outputs": [
      {
       "latex": [
        "$9295.3097 \\; \\mathrm{\\frac{erg}{g^{2}}}$"
       ],
       "metadata": {},
       "output_type": "pyout",
       "prompt_number": 26,
       "text": [
        "<Quantity 9295.309735275769 erg / g2>"
       ]
      }
     ],
     "prompt_number": 26
    },
    {
     "cell_type": "heading",
     "level": 3,
     "metadata": {},
     "source": [
      "Using physical constants"
     ]
    },
    {
     "cell_type": "markdown",
     "metadata": {},
     "source": [
      "The [astropy.constants](http://docs.astropy.org/en/v0.2.1/constants/index.html) module contains\n",
      "physical constants relevant for Astronomy, and these are defined with units\n",
      "attached to them using the ``astropy.units`` framework.\n",
      "\n",
      "If we want to compute\n",
      "the Gravitational force felt by a 100. * u.kg space probe by the Sun, at a\n",
      "distance of 3.2au, we can do:"
     ]
    },
    {
     "cell_type": "code",
     "collapsed": false,
     "input": [
      "from astropy.constants import G"
     ],
     "language": "python",
     "metadata": {},
     "outputs": [],
     "prompt_number": 27
    },
    {
     "cell_type": "code",
     "collapsed": false,
     "input": [
      "F = (G * 1. * u.M_sun * 100. * u.kg) / (3.2 * u.au)**2"
     ],
     "language": "python",
     "metadata": {},
     "outputs": [],
     "prompt_number": 28
    },
    {
     "cell_type": "code",
     "collapsed": false,
     "input": [
      "F"
     ],
     "language": "python",
     "metadata": {},
     "outputs": [
      {
       "latex": [
        "$6.5174219 \\times 10^{-10} \\; \\mathrm{\\frac{m^{3}\\,M_{\\odot}}{AU^{2}\\,s^{2}}}$"
       ],
       "metadata": {},
       "output_type": "pyout",
       "prompt_number": 29,
       "text": [
        "<Quantity 6.517421874999999e-10 m3 solMass / (AU2 s2)>"
       ]
      }
     ],
     "prompt_number": 29
    },
    {
     "cell_type": "code",
     "collapsed": false,
     "input": [
      "F.to(u.N)"
     ],
     "language": "python",
     "metadata": {},
     "outputs": [
      {
       "latex": [
        "$0.057927079 \\; \\mathrm{N}$"
       ],
       "metadata": {},
       "output_type": "pyout",
       "prompt_number": 30,
       "text": [
        "<Quantity 0.05792707869188191 N>"
       ]
      }
     ],
     "prompt_number": 30
    },
    {
     "cell_type": "markdown",
     "metadata": {},
     "source": [
      "The full list of available physical constants is shown [here](http://docs.astropy.org/en/stable/constants/index.html#module-astropy.constants) (and additions are welcome!)."
     ]
    },
    {
     "cell_type": "heading",
     "level": 3,
     "metadata": {},
     "source": [
      "Equivalencies"
     ]
    },
    {
     "cell_type": "markdown",
     "metadata": {},
     "source": [
      "Equivalencies can be used to convert quantities that are not strictly the same physical type:"
     ]
    },
    {
     "cell_type": "code",
     "collapsed": false,
     "input": [
      "(450. * u.nm).to(u.GHz)"
     ],
     "language": "python",
     "metadata": {},
     "outputs": [
      {
       "ename": "UnitsError",
       "evalue": "'nm' (length) and 'GHz' (frequency) are not convertible",
       "output_type": "pyerr",
       "traceback": [
        "\u001b[0;31m---------------------------------------------------------------------------\u001b[0m\n\u001b[0;31mUnitsError\u001b[0m                                Traceback (most recent call last)",
        "\u001b[0;32m<ipython-input-31-e4fbcb033257>\u001b[0m in \u001b[0;36m<module>\u001b[0;34m()\u001b[0m\n\u001b[0;32m----> 1\u001b[0;31m \u001b[0;34m(\u001b[0m\u001b[0;36m450.\u001b[0m \u001b[0;34m*\u001b[0m \u001b[0mu\u001b[0m\u001b[0;34m.\u001b[0m\u001b[0mnm\u001b[0m\u001b[0;34m)\u001b[0m\u001b[0;34m.\u001b[0m\u001b[0mto\u001b[0m\u001b[0;34m(\u001b[0m\u001b[0mu\u001b[0m\u001b[0;34m.\u001b[0m\u001b[0mGHz\u001b[0m\u001b[0;34m)\u001b[0m\u001b[0;34m\u001b[0m\u001b[0m\n\u001b[0m",
        "\u001b[0;32m/usr/stsci/ssbx/python/lib/python2.7/site-packages/astropy/units/quantity.pyc\u001b[0m in \u001b[0;36mto\u001b[0;34m(self, unit, equivalencies)\u001b[0m\n\u001b[1;32m    603\u001b[0m         \u001b[0munit\u001b[0m \u001b[0;34m=\u001b[0m \u001b[0mUnit\u001b[0m\u001b[0;34m(\u001b[0m\u001b[0munit\u001b[0m\u001b[0;34m)\u001b[0m\u001b[0;34m\u001b[0m\u001b[0m\n\u001b[1;32m    604\u001b[0m         new_val = np.asarray(\n\u001b[0;32m--> 605\u001b[0;31m             self.unit.to(unit, self.value, equivalencies=equivalencies))\n\u001b[0m\u001b[1;32m    606\u001b[0m         \u001b[0;32mreturn\u001b[0m \u001b[0mself\u001b[0m\u001b[0;34m.\u001b[0m\u001b[0m_new_view\u001b[0m\u001b[0;34m(\u001b[0m\u001b[0mnew_val\u001b[0m\u001b[0;34m,\u001b[0m \u001b[0munit\u001b[0m\u001b[0;34m)\u001b[0m\u001b[0;34m\u001b[0m\u001b[0m\n\u001b[1;32m    607\u001b[0m \u001b[0;34m\u001b[0m\u001b[0m\n",
        "\u001b[0;32m/usr/stsci/ssbx/python/lib/python2.7/site-packages/astropy/units/core.pyc\u001b[0m in \u001b[0;36mto\u001b[0;34m(self, other, value, equivalencies)\u001b[0m\n\u001b[1;32m    943\u001b[0m             \u001b[0mIf\u001b[0m \u001b[0munits\u001b[0m \u001b[0mare\u001b[0m \u001b[0minconsistent\u001b[0m\u001b[0;34m\u001b[0m\u001b[0m\n\u001b[1;32m    944\u001b[0m         \"\"\"\n\u001b[0;32m--> 945\u001b[0;31m         \u001b[0;32mreturn\u001b[0m \u001b[0mself\u001b[0m\u001b[0;34m.\u001b[0m\u001b[0m_get_converter\u001b[0m\u001b[0;34m(\u001b[0m\u001b[0mother\u001b[0m\u001b[0;34m,\u001b[0m \u001b[0mequivalencies\u001b[0m\u001b[0;34m=\u001b[0m\u001b[0mequivalencies\u001b[0m\u001b[0;34m)\u001b[0m\u001b[0;34m(\u001b[0m\u001b[0mvalue\u001b[0m\u001b[0;34m)\u001b[0m\u001b[0;34m\u001b[0m\u001b[0m\n\u001b[0m\u001b[1;32m    946\u001b[0m \u001b[0;34m\u001b[0m\u001b[0m\n\u001b[1;32m    947\u001b[0m     \u001b[0;32mdef\u001b[0m \u001b[0min_units\u001b[0m\u001b[0;34m(\u001b[0m\u001b[0mself\u001b[0m\u001b[0;34m,\u001b[0m \u001b[0mother\u001b[0m\u001b[0;34m,\u001b[0m \u001b[0mvalue\u001b[0m\u001b[0;34m=\u001b[0m\u001b[0;36m1.0\u001b[0m\u001b[0;34m,\u001b[0m \u001b[0mequivalencies\u001b[0m\u001b[0;34m=\u001b[0m\u001b[0;34m[\u001b[0m\u001b[0;34m]\u001b[0m\u001b[0;34m)\u001b[0m\u001b[0;34m:\u001b[0m\u001b[0;34m\u001b[0m\u001b[0m\n",
        "\u001b[0;32m/usr/stsci/ssbx/python/lib/python2.7/site-packages/astropy/units/core.pyc\u001b[0m in \u001b[0;36m_get_converter\u001b[0;34m(self, other, equivalencies)\u001b[0m\n\u001b[1;32m    847\u001b[0m         \u001b[0;32mexcept\u001b[0m \u001b[0mUnitsError\u001b[0m\u001b[0;34m:\u001b[0m\u001b[0;34m\u001b[0m\u001b[0m\n\u001b[1;32m    848\u001b[0m             return self._apply_equivalences(\n\u001b[0;32m--> 849\u001b[0;31m                 self, other, self._normalize_equivalencies(equivalencies))\n\u001b[0m\u001b[1;32m    850\u001b[0m         \u001b[0;32mreturn\u001b[0m \u001b[0;32mlambda\u001b[0m \u001b[0mval\u001b[0m\u001b[0;34m:\u001b[0m \u001b[0mscale\u001b[0m \u001b[0;34m*\u001b[0m \u001b[0m_condition_arg\u001b[0m\u001b[0;34m(\u001b[0m\u001b[0mval\u001b[0m\u001b[0;34m)\u001b[0m\u001b[0;34m\u001b[0m\u001b[0m\n\u001b[1;32m    851\u001b[0m \u001b[0;34m\u001b[0m\u001b[0m\n",
        "\u001b[0;32m/usr/stsci/ssbx/python/lib/python2.7/site-packages/astropy/units/core.pyc\u001b[0m in \u001b[0;36m_apply_equivalences\u001b[0;34m(self, unit, other, equivalencies)\u001b[0m\n\u001b[1;32m    838\u001b[0m         raise UnitsError(\n\u001b[1;32m    839\u001b[0m             \"{0} and {1} are not convertible\".format(\n\u001b[0;32m--> 840\u001b[0;31m                 unit_str, other_str))\n\u001b[0m\u001b[1;32m    841\u001b[0m \u001b[0;34m\u001b[0m\u001b[0m\n\u001b[1;32m    842\u001b[0m     \u001b[0;32mdef\u001b[0m \u001b[0m_get_converter\u001b[0m\u001b[0;34m(\u001b[0m\u001b[0mself\u001b[0m\u001b[0;34m,\u001b[0m \u001b[0mother\u001b[0m\u001b[0;34m,\u001b[0m \u001b[0mequivalencies\u001b[0m\u001b[0;34m=\u001b[0m\u001b[0;34m[\u001b[0m\u001b[0;34m]\u001b[0m\u001b[0;34m)\u001b[0m\u001b[0;34m:\u001b[0m\u001b[0;34m\u001b[0m\u001b[0m\n",
        "\u001b[0;31mUnitsError\u001b[0m: 'nm' (length) and 'GHz' (frequency) are not convertible"
       ]
      }
     ],
     "prompt_number": 31
    },
    {
     "cell_type": "code",
     "collapsed": false,
     "input": [
      "(450. * u.nm).to(u.GHz, equivalencies=u.spectral())"
     ],
     "language": "python",
     "metadata": {},
     "outputs": [
      {
       "latex": [
        "$666205.46 \\; \\mathrm{GHz}$"
       ],
       "metadata": {},
       "output_type": "pyout",
       "prompt_number": 32,
       "text": [
        "<Quantity 666205.4622222221 GHz>"
       ]
      }
     ],
     "prompt_number": 32
    },
    {
     "cell_type": "code",
     "collapsed": false,
     "input": [
      "(450. * u.eV).to(u.nm, equivalencies=u.spectral())"
     ],
     "language": "python",
     "metadata": {},
     "outputs": [
      {
       "latex": [
        "$2.7552043 \\; \\mathrm{nm}$"
       ],
       "metadata": {},
       "output_type": "pyout",
       "prompt_number": 33,
       "text": [
        "<Quantity 2.7552042871120452 nm>"
       ]
      }
     ],
     "prompt_number": 33
    },
    {
     "cell_type": "code",
     "collapsed": false,
     "input": [
      "q = (1e-18 * u.erg / u.cm**2 / u.s / u.AA)\n",
      "q.to(u.Jy, equivalencies=u.spectral_density(u.mm, 1))"
     ],
     "language": "python",
     "metadata": {},
     "outputs": [
      {
       "latex": [
        "$3.335641 \\; \\mathrm{Jy}$"
       ],
       "metadata": {},
       "output_type": "pyout",
       "prompt_number": 34,
       "text": [
        "<Quantity 3.3356409519815196 Jy>"
       ]
      }
     ],
     "prompt_number": 34
    },
    {
     "cell_type": "heading",
     "level": 3,
     "metadata": {},
     "source": [
      "Integration with Numpy ufuncs"
     ]
    },
    {
     "cell_type": "markdown",
     "metadata": {},
     "source": [
      "Most of the [Numpy](http://www.numpy.org) functions understand Quantity objects:"
     ]
    },
    {
     "cell_type": "code",
     "collapsed": false,
     "input": [
      "np.sin(30 * u.degree)"
     ],
     "language": "python",
     "metadata": {},
     "outputs": [
      {
       "latex": [
        "$0.5 \\; \\mathrm{}$"
       ],
       "metadata": {},
       "output_type": "pyout",
       "prompt_number": 35,
       "text": [
        "<Quantity 0.49999999999999994>"
       ]
      }
     ],
     "prompt_number": 35
    },
    {
     "cell_type": "code",
     "collapsed": false,
     "input": [
      "np.sqrt(100 * u.km*u.km)"
     ],
     "language": "python",
     "metadata": {},
     "outputs": [
      {
       "latex": [
        "$10 \\; \\mathrm{km}$"
       ],
       "metadata": {},
       "output_type": "pyout",
       "prompt_number": 36,
       "text": [
        "<Quantity 10.0 km>"
       ]
      }
     ],
     "prompt_number": 36
    },
    {
     "cell_type": "code",
     "collapsed": false,
     "input": [
      "np.exp(3 * u.m/ (3 * u.km))"
     ],
     "language": "python",
     "metadata": {},
     "outputs": [
      {
       "latex": [
        "$1.0010005 \\; \\mathrm{}$"
       ],
       "metadata": {},
       "output_type": "pyout",
       "prompt_number": 37,
       "text": [
        "<Quantity 1.0010005001667084>"
       ]
      }
     ],
     "prompt_number": 37
    },
    {
     "cell_type": "markdown",
     "metadata": {},
     "source": [
      "Care needs to be taken with dimensionless units.  Passing raw values to an inverse trig function, there will be no units in the result:"
     ]
    },
    {
     "cell_type": "code",
     "collapsed": false,
     "input": [
      "np.arcsin(1.0)"
     ],
     "language": "python",
     "metadata": {},
     "outputs": [
      {
       "metadata": {},
       "output_type": "pyout",
       "prompt_number": 38,
       "text": [
        "1.5707963267948966"
       ]
      }
     ],
     "prompt_number": 38
    },
    {
     "cell_type": "markdown",
     "metadata": {},
     "source": [
      "However, `u.dimensionless_unscaled` creates a Quantity \"with the dimensionless unit\" from a value, and therefore we do units in the output:"
     ]
    },
    {
     "cell_type": "code",
     "collapsed": false,
     "input": [
      "np.arcsin(1.0 * u.dimensionless_unscaled)"
     ],
     "language": "python",
     "metadata": {},
     "outputs": [
      {
       "latex": [
        "$1.5707963 \\; \\mathrm{rad}$"
       ],
       "metadata": {},
       "output_type": "pyout",
       "prompt_number": 39,
       "text": [
        "<Quantity 1.5707963267948966 rad>"
       ]
      }
     ],
     "prompt_number": 39
    },
    {
     "cell_type": "code",
     "collapsed": false,
     "input": [
      "np.arcsin(1.0 * u.dimensionless_unscaled).to(u.degree)"
     ],
     "language": "python",
     "metadata": {},
     "outputs": [
      {
       "latex": [
        "$90 \\; \\mathrm{{}^{\\circ}}$"
       ],
       "metadata": {},
       "output_type": "pyout",
       "prompt_number": 40,
       "text": [
        "<Quantity 90.0 deg>"
       ]
      }
     ],
     "prompt_number": 40
    },
    {
     "cell_type": "heading",
     "level": 2,
     "metadata": {},
     "source": [
      "Tables introduction"
     ]
    },
    {
     "cell_type": "markdown",
     "metadata": {},
     "source": [
      "The astropy [Table](http://docs.astropy.org/en/stable/table/index.html) class provides an extension of NumPy structured arrays for storing and manipulating heterogeneous tables of data. A few notable features of this package are:\n",
      "\n",
      "- Initialize a table from a wide variety of input data structures and types.\n",
      "- Modify a table by adding or removing columns, changing column names, or adding new rows of data.\n",
      "- Handle tables containing missing values.\n",
      "- Include table and column metadata as flexible data structures.\n",
      "- Specify a description, units and output formatting for columns.\n",
      "- Perform operations like database joins, concatenation, and grouping.\n",
      "- Manipulate multidimensional columns.\n",
      "- Methods for Reading and writing Table objects to files\n",
      "- Integration with Astropy [Units and Quantities](http://astropy.readthedocs.org/en/stable/units/index.html)\n",
      "\n",
      "Why not Pandas\n",
      "--------------\n",
      "\n",
      "The [Pandas](http://pandas.pydata.org/pandas-docs/stable/) package provides a powerful, high-performance table object via the [DataFrame](http://pandas.pydata.org/pandas-docs/stable/generated/pandas.DataFrame.html#pandas.DataFrame) class.  Unfortunately there are a few issues that prevent use as a generalize table object in astronomy.  The most crucial is lack of support for multidimensional table columns.  This is commonly used in standard FITS data products, for instance the Chandra energy response matrix used to analyze spectral data.\n",
      "\n",
      "Documentation\n",
      "-------------\n",
      "\n",
      "For more information about the features presented below, you can read the\n",
      "[astropy.table](http://docs.astropy.org/en/stable/table/index.html) docs.\n",
      "\n",
      "*****\n",
      "*****\n"
     ]
    },
    {
     "cell_type": "code",
     "collapsed": false,
     "input": [
      "from astropy.table import Table"
     ],
     "language": "python",
     "metadata": {},
     "outputs": [],
     "prompt_number": 41
    },
    {
     "cell_type": "markdown",
     "metadata": {},
     "source": [
      "###Quick example reading in an ascii table (just to show it is easy, sort of)\n",
      "\n",
      "First attempt doesn't provide any information about what kind it is, and in this case, won't work"
     ]
    },
    {
     "cell_type": "code",
     "collapsed": false,
     "input": [
      "t = Table.read(\"data/ascii/sextractor.dat\")"
     ],
     "language": "python",
     "metadata": {},
     "outputs": [
      {
       "ename": "Exception",
       "evalue": "Format could not be identified.\nThe available formats are:\n           Format           Read Write Auto-identify Deprecated\n--------------------------- ---- ----- ------------- ----------\n                      ascii  Yes   Yes            No           \n               ascii.aastex  Yes   Yes            No           \n                ascii.basic  Yes   Yes            No           \n                  ascii.cds  Yes    No            No           \n     ascii.commented_header  Yes   Yes            No           \n                  ascii.csv  Yes   Yes            No           \n              ascii.daophot  Yes    No            No           \n                 ascii.ecsv  Yes   Yes            No           \n           ascii.fast_basic  Yes   Yes            No           \nascii.fast_commented_header  Yes   Yes            No           \n             ascii.fast_csv  Yes   Yes            No           \n       ascii.fast_no_header  Yes   Yes            No           \n             ascii.fast_rdb  Yes   Yes            No           \n             ascii.fast_tab  Yes   Yes            No           \n          ascii.fixed_width  Yes   Yes            No           \nascii.fixed_width_no_header  Yes   Yes            No           \n ascii.fixed_width_two_line  Yes   Yes            No           \n                 ascii.html  Yes   Yes           Yes           \n                 ascii.ipac  Yes   Yes            No           \n                ascii.latex  Yes   Yes           Yes           \n            ascii.no_header  Yes   Yes            No           \n                  ascii.rdb  Yes   Yes           Yes           \n           ascii.sextractor  Yes    No            No           \n                  ascii.tab  Yes   Yes            No           \n                       fits  Yes   Yes           Yes           \n                       hdf5  Yes   Yes           Yes           \n                    votable  Yes   Yes           Yes           \n                     aastex  Yes   Yes            No        Yes\n                        cds  Yes    No            No        Yes\n                        csv  Yes   Yes           Yes        Yes\n                    daophot  Yes    No            No        Yes\n                       html  Yes   Yes            No        Yes\n                       ipac  Yes   Yes            No        Yes\n                      latex  Yes   Yes            No        Yes\n                        rdb  Yes   Yes            No        Yes",
       "output_type": "pyerr",
       "traceback": [
        "\u001b[0;31m---------------------------------------------------------------------------\u001b[0m\n\u001b[0;31mException\u001b[0m                                 Traceback (most recent call last)",
        "\u001b[0;32m<ipython-input-42-33d907cd1d11>\u001b[0m in \u001b[0;36m<module>\u001b[0;34m()\u001b[0m\n\u001b[0;32m----> 1\u001b[0;31m \u001b[0mt\u001b[0m \u001b[0;34m=\u001b[0m \u001b[0mTable\u001b[0m\u001b[0;34m.\u001b[0m\u001b[0mread\u001b[0m\u001b[0;34m(\u001b[0m\u001b[0;34m\"data/ascii/sextractor.dat\"\u001b[0m\u001b[0;34m)\u001b[0m\u001b[0;34m\u001b[0m\u001b[0m\n\u001b[0m",
        "\u001b[0;32m/usr/stsci/ssbx/python/lib/python2.7/site-packages/astropy/table/table.pyc\u001b[0m in \u001b[0;36mread\u001b[0;34m(cls, *args, **kwargs)\u001b[0m\n\u001b[1;32m   1887\u001b[0m         \u001b[0mpassed\u001b[0m \u001b[0mthrough\u001b[0m \u001b[0mto\u001b[0m \u001b[0mthe\u001b[0m \u001b[0munderlying\u001b[0m \u001b[0mdata\u001b[0m \u001b[0mreader\u001b[0m \u001b[0;34m(\u001b[0m\u001b[0me\u001b[0m\u001b[0;34m.\u001b[0m\u001b[0mg\u001b[0m\u001b[0;34m.\u001b[0m \u001b[0;34m`\u001b[0m\u001b[0;34m~\u001b[0m\u001b[0mastropy\u001b[0m\u001b[0;34m.\u001b[0m\u001b[0mio\u001b[0m\u001b[0;34m.\u001b[0m\u001b[0mascii\u001b[0m\u001b[0;34m.\u001b[0m\u001b[0mread\u001b[0m\u001b[0;34m`\u001b[0m\u001b[0;34m)\u001b[0m\u001b[0;34m.\u001b[0m\u001b[0;34m\u001b[0m\u001b[0m\n\u001b[1;32m   1888\u001b[0m         \"\"\"\n\u001b[0;32m-> 1889\u001b[0;31m         \u001b[0;32mreturn\u001b[0m \u001b[0mio_registry\u001b[0m\u001b[0;34m.\u001b[0m\u001b[0mread\u001b[0m\u001b[0;34m(\u001b[0m\u001b[0mcls\u001b[0m\u001b[0;34m,\u001b[0m \u001b[0;34m*\u001b[0m\u001b[0margs\u001b[0m\u001b[0;34m,\u001b[0m \u001b[0;34m**\u001b[0m\u001b[0mkwargs\u001b[0m\u001b[0;34m)\u001b[0m\u001b[0;34m\u001b[0m\u001b[0m\n\u001b[0m\u001b[1;32m   1890\u001b[0m \u001b[0;34m\u001b[0m\u001b[0m\n\u001b[1;32m   1891\u001b[0m     \u001b[0;32mdef\u001b[0m \u001b[0mwrite\u001b[0m\u001b[0;34m(\u001b[0m\u001b[0mself\u001b[0m\u001b[0;34m,\u001b[0m \u001b[0;34m*\u001b[0m\u001b[0margs\u001b[0m\u001b[0;34m,\u001b[0m \u001b[0;34m**\u001b[0m\u001b[0mkwargs\u001b[0m\u001b[0;34m)\u001b[0m\u001b[0;34m:\u001b[0m\u001b[0;34m\u001b[0m\u001b[0m\n",
        "\u001b[0;32m/usr/stsci/ssbx/python/lib/python2.7/site-packages/astropy/io/registry.pyc\u001b[0m in \u001b[0;36mread\u001b[0;34m(cls, *args, **kwargs)\u001b[0m\n\u001b[1;32m    321\u001b[0m \u001b[0;34m\u001b[0m\u001b[0m\n\u001b[1;32m    322\u001b[0m             format = _get_valid_format(\n\u001b[0;32m--> 323\u001b[0;31m                 'read', cls, path, fileobj, args, kwargs)\n\u001b[0m\u001b[1;32m    324\u001b[0m \u001b[0;34m\u001b[0m\u001b[0m\n\u001b[1;32m    325\u001b[0m         \u001b[0mreader\u001b[0m \u001b[0;34m=\u001b[0m \u001b[0mget_reader\u001b[0m\u001b[0;34m(\u001b[0m\u001b[0mformat\u001b[0m\u001b[0;34m,\u001b[0m \u001b[0mcls\u001b[0m\u001b[0;34m)\u001b[0m\u001b[0;34m\u001b[0m\u001b[0m\n",
        "\u001b[0;32m/usr/stsci/ssbx/python/lib/python2.7/site-packages/astropy/io/registry.pyc\u001b[0m in \u001b[0;36m_get_valid_format\u001b[0;34m(mode, cls, path, fileobj, args, kwargs)\u001b[0m\n\u001b[1;32m    406\u001b[0m         raise Exception(\"Format could not be identified.\\n\"\n\u001b[1;32m    407\u001b[0m                         \u001b[0;34m\"The available formats are:\\n\"\u001b[0m\u001b[0;34m\u001b[0m\u001b[0m\n\u001b[0;32m--> 408\u001b[0;31m                         \"{0}\".format(format_table_str))\n\u001b[0m\u001b[1;32m    409\u001b[0m     \u001b[0;32melif\u001b[0m \u001b[0mlen\u001b[0m\u001b[0;34m(\u001b[0m\u001b[0mvalid_formats\u001b[0m\u001b[0;34m)\u001b[0m \u001b[0;34m>\u001b[0m \u001b[0;36m1\u001b[0m\u001b[0;34m:\u001b[0m\u001b[0;34m\u001b[0m\u001b[0m\n\u001b[1;32m    410\u001b[0m         raise Exception(\n",
        "\u001b[0;31mException\u001b[0m: Format could not be identified.\nThe available formats are:\n           Format           Read Write Auto-identify Deprecated\n--------------------------- ---- ----- ------------- ----------\n                      ascii  Yes   Yes            No           \n               ascii.aastex  Yes   Yes            No           \n                ascii.basic  Yes   Yes            No           \n                  ascii.cds  Yes    No            No           \n     ascii.commented_header  Yes   Yes            No           \n                  ascii.csv  Yes   Yes            No           \n              ascii.daophot  Yes    No            No           \n                 ascii.ecsv  Yes   Yes            No           \n           ascii.fast_basic  Yes   Yes            No           \nascii.fast_commented_header  Yes   Yes            No           \n             ascii.fast_csv  Yes   Yes            No           \n       ascii.fast_no_header  Yes   Yes            No           \n             ascii.fast_rdb  Yes   Yes            No           \n             ascii.fast_tab  Yes   Yes            No           \n          ascii.fixed_width  Yes   Yes            No           \nascii.fixed_width_no_header  Yes   Yes            No           \n ascii.fixed_width_two_line  Yes   Yes            No           \n                 ascii.html  Yes   Yes           Yes           \n                 ascii.ipac  Yes   Yes            No           \n                ascii.latex  Yes   Yes           Yes           \n            ascii.no_header  Yes   Yes            No           \n                  ascii.rdb  Yes   Yes           Yes           \n           ascii.sextractor  Yes    No            No           \n                  ascii.tab  Yes   Yes            No           \n                       fits  Yes   Yes           Yes           \n                       hdf5  Yes   Yes           Yes           \n                    votable  Yes   Yes           Yes           \n                     aastex  Yes   Yes            No        Yes\n                        cds  Yes    No            No        Yes\n                        csv  Yes   Yes           Yes        Yes\n                    daophot  Yes    No            No        Yes\n                       html  Yes   Yes            No        Yes\n                       ipac  Yes   Yes            No        Yes\n                      latex  Yes   Yes            No        Yes\n                        rdb  Yes   Yes            No        Yes"
       ]
      }
     ],
     "prompt_number": 42
    },
    {
     "cell_type": "code",
     "collapsed": false,
     "input": [
      "t = Table.read(\"data/ascii/sextractor.dat\",format='ascii.sextractor')\n",
      "t"
     ],
     "language": "python",
     "metadata": {},
     "outputs": [
      {
       "html": [
        "&lt;Table masked=False length=3&gt;\n",
        "<table id=\"table4452734544\">\n",
        "<thead><tr><th>NUMBER</th><th>FLUX_ISO</th><th>FLUXERR_ISO</th><th>VALUES</th><th>VALUES_1</th><th>FLAG</th></tr></thead>\n",
        "<thead><tr><th>int64</th><th>float64</th><th>float64</th><th>float64</th><th>float64</th><th>int64</th></tr></thead>\n",
        "<tr><td>1</td><td>0.02580616</td><td>0.03974229</td><td>1.677</td><td>0.271</td><td>0</td></tr>\n",
        "<tr><td>2</td><td>5.727691</td><td>0.206433</td><td>2.625</td><td>2.522</td><td>0</td></tr>\n",
        "<tr><td>3</td><td>88.31934</td><td>0.5936985</td><td>5.925</td><td>4.714</td><td>0</td></tr>\n",
        "</table>"
       ],
       "metadata": {},
       "output_type": "pyout",
       "prompt_number": 43,
       "text": [
        "<Table masked=False length=3>\n",
        "NUMBER  FLUX_ISO  FLUXERR_ISO  VALUES VALUES_1  FLAG\n",
        "int64   float64     float64   float64 float64  int64\n",
        "------ ---------- ----------- ------- -------- -----\n",
        "     1 0.02580616  0.03974229   1.677    0.271     0\n",
        "     2   5.727691    0.206433   2.625    2.522     0\n",
        "     3   88.31934   0.5936985   5.925    4.714     0"
       ]
      }
     ],
     "prompt_number": 43
    },
    {
     "cell_type": "markdown",
     "metadata": {},
     "source": [
      "Creating tables\n",
      "---------------\n",
      "\n",
      "There is great deal of flexibility in the way that a table can be initially constructed:\n",
      "\n",
      "- Read an existing table from a file or web URL\n",
      "- Add columns of data one by one\n",
      "- Add rows of data one by one\n",
      "- From an existing data structure in memory:\n",
      "\n",
      "  - List of data columns\n",
      "  - Dict of data columns\n",
      "  - List of row dicts\n",
      "  - Numpy homgeneous array or structured array\n",
      "  - List of row records (new in 0.4)\n",
      "  \n",
      "See the documentation section on [Constructing a table](http://astropy.readthedocs.org/en/stable/table/construct_table.html) for the gory details and plenty of examples."
     ]
    },
    {
     "cell_type": "code",
     "collapsed": false,
     "input": [
      "# rest of examples use internally constructed examples (i.e., not from files)\n",
      "t = Table()\n",
      "t['name'] = ['source 1', 'source 2', 'source 3', 'source 4']\n",
      "t['flux'] = [1.2, 2.2, 3.1, 4.3]"
     ],
     "language": "python",
     "metadata": {},
     "outputs": [],
     "prompt_number": 44
    },
    {
     "cell_type": "markdown",
     "metadata": {},
     "source": [
      "### Looking at your table\n",
      "\n",
      "In IPython notebook, showing a table will produce a nice HTML representation of the table:"
     ]
    },
    {
     "cell_type": "code",
     "collapsed": false,
     "input": [
      "t"
     ],
     "language": "python",
     "metadata": {},
     "outputs": [
      {
       "html": [
        "&lt;Table masked=False length=4&gt;\n",
        "<table id=\"table4449103376\">\n",
        "<thead><tr><th>name</th><th>flux</th></tr></thead>\n",
        "<thead><tr><th>string64</th><th>float64</th></tr></thead>\n",
        "<tr><td>source 1</td><td>1.2</td></tr>\n",
        "<tr><td>source 2</td><td>2.2</td></tr>\n",
        "<tr><td>source 3</td><td>3.1</td></tr>\n",
        "<tr><td>source 4</td><td>4.3</td></tr>\n",
        "</table>"
       ],
       "metadata": {},
       "output_type": "pyout",
       "prompt_number": 45,
       "text": [
        "<Table masked=False length=4>\n",
        "  name     flux \n",
        "string64 float64\n",
        "-------- -------\n",
        "source 1     1.2\n",
        "source 2     2.2\n",
        "source 3     3.1\n",
        "source 4     4.3"
       ]
      }
     ],
     "prompt_number": 45
    },
    {
     "cell_type": "markdown",
     "metadata": {},
     "source": [
      "If you did the same in a terminal session you get a different view that isn't as pretty but does give a bit more information about the table:\n",
      "\n",
      "    >>> t\n",
      "    <Table rows=4 names=('name','flux')>\n",
      "    array([('source 1', 1.2), ('source 2', 2.2), ('source 3', 3.1),\n",
      "           ('source 4', 4.3)], \n",
      "          dtype=[('name', 'S8'), ('flux', '<f8')])\n",
      "\n",
      "To get a plain view which is the same in notebook and terminal use `print()`:"
     ]
    },
    {
     "cell_type": "code",
     "collapsed": false,
     "input": [
      "print(t)"
     ],
     "language": "python",
     "metadata": {},
     "outputs": [
      {
       "output_type": "stream",
       "stream": "stdout",
       "text": [
        "  name   flux\n",
        "-------- ----\n",
        "source 1  1.2\n",
        "source 2  2.2\n",
        "source 3  3.1\n",
        "source 4  4.3\n"
       ]
      }
     ],
     "prompt_number": 46
    },
    {
     "cell_type": "markdown",
     "metadata": {},
     "source": [
      "To get the table column names and data types using the `colnames` and `dtype` properties:"
     ]
    },
    {
     "cell_type": "code",
     "collapsed": false,
     "input": [
      "t.colnames"
     ],
     "language": "python",
     "metadata": {},
     "outputs": [
      {
       "metadata": {},
       "output_type": "pyout",
       "prompt_number": 47,
       "text": [
        "['name', 'flux']"
       ]
      }
     ],
     "prompt_number": 47
    },
    {
     "cell_type": "code",
     "collapsed": false,
     "input": [
      "t.dtype"
     ],
     "language": "python",
     "metadata": {},
     "outputs": [
      {
       "metadata": {},
       "output_type": "pyout",
       "prompt_number": 48,
       "text": [
        "dtype([('name', 'S8'), ('flux', '<f8')])"
       ]
      }
     ],
     "prompt_number": 48
    },
    {
     "cell_type": "markdown",
     "metadata": {},
     "source": [
      "### Accessing parts of the table\n",
      "\n",
      "We can access the columns and rows as for numpy structured arrays.  Notice that the outputs are `Column`, `Row` or `Table` objects depending on the context."
     ]
    },
    {
     "cell_type": "code",
     "collapsed": false,
     "input": [
      "t['flux']  # Flux column (notice meta attributes)"
     ],
     "language": "python",
     "metadata": {},
     "outputs": [
      {
       "html": [
        "&lt;Column name=&apos;flux&apos; dtype=&apos;float64&apos; length=4&gt;\n",
        "<table>\n",
        "<tr><td>1.2</td></tr>\n",
        "<tr><td>2.2</td></tr>\n",
        "<tr><td>3.1</td></tr>\n",
        "<tr><td>4.3</td></tr>\n",
        "</table>"
       ],
       "metadata": {},
       "output_type": "pyout",
       "prompt_number": 49,
       "text": [
        "<Column name='flux' dtype='float64' length=4>\n",
        "1.2\n",
        "2.2\n",
        "3.1\n",
        "4.3"
       ]
      }
     ],
     "prompt_number": 49
    },
    {
     "cell_type": "code",
     "collapsed": false,
     "input": [
      "t['flux'][1]  # Row 1 of flux column"
     ],
     "language": "python",
     "metadata": {},
     "outputs": [
      {
       "metadata": {},
       "output_type": "pyout",
       "prompt_number": 50,
       "text": [
        "2.2000000000000002"
       ]
      }
     ],
     "prompt_number": 50
    },
    {
     "cell_type": "code",
     "collapsed": false,
     "input": [
      "t[1]  # Row obj for with row 1 values"
     ],
     "language": "python",
     "metadata": {},
     "outputs": [
      {
       "metadata": {},
       "output_type": "pyout",
       "prompt_number": 51,
       "text": [
        "<Row 1 of table\n",
        " values=('source 2', 2.2)\n",
        " dtype=[('name', 'S8'), ('flux', '<f8')]>"
       ]
      }
     ],
     "prompt_number": 51
    },
    {
     "cell_type": "code",
     "collapsed": false,
     "input": [
      "t[1]['flux']  # Flux column of row 1"
     ],
     "language": "python",
     "metadata": {},
     "outputs": [
      {
       "metadata": {},
       "output_type": "pyout",
       "prompt_number": 52,
       "text": [
        "2.2000000000000002"
       ]
      }
     ],
     "prompt_number": 52
    },
    {
     "cell_type": "code",
     "collapsed": false,
     "input": [
      "t[1:3]  # 2nd and 3rd rows in a new table"
     ],
     "language": "python",
     "metadata": {},
     "outputs": [
      {
       "html": [
        "&lt;Table masked=False length=2&gt;\n",
        "<table id=\"table4452733584\">\n",
        "<thead><tr><th>name</th><th>flux</th></tr></thead>\n",
        "<thead><tr><th>string64</th><th>float64</th></tr></thead>\n",
        "<tr><td>source 2</td><td>2.2</td></tr>\n",
        "<tr><td>source 3</td><td>3.1</td></tr>\n",
        "</table>"
       ],
       "metadata": {},
       "output_type": "pyout",
       "prompt_number": 53,
       "text": [
        "<Table masked=False length=2>\n",
        "  name     flux \n",
        "string64 float64\n",
        "-------- -------\n",
        "source 2     2.2\n",
        "source 3     3.1"
       ]
      }
     ],
     "prompt_number": 53
    },
    {
     "cell_type": "code",
     "collapsed": false,
     "input": [
      "t[[1, 3]]"
     ],
     "language": "python",
     "metadata": {},
     "outputs": [
      {
       "html": [
        "&lt;Table masked=False length=2&gt;\n",
        "<table id=\"table4452733712\">\n",
        "<thead><tr><th>name</th><th>flux</th></tr></thead>\n",
        "<thead><tr><th>string64</th><th>float64</th></tr></thead>\n",
        "<tr><td>source 2</td><td>2.2</td></tr>\n",
        "<tr><td>source 4</td><td>4.3</td></tr>\n",
        "</table>"
       ],
       "metadata": {},
       "output_type": "pyout",
       "prompt_number": 54,
       "text": [
        "<Table masked=False length=2>\n",
        "  name     flux \n",
        "string64 float64\n",
        "-------- -------\n",
        "source 2     2.2\n",
        "source 4     4.3"
       ]
      }
     ],
     "prompt_number": 54
    },
    {
     "cell_type": "markdown",
     "metadata": {},
     "source": [
      "**One of the most powerful concepts is using boolean selection masks to filter tables**"
     ]
    },
    {
     "cell_type": "code",
     "collapsed": false,
     "input": [
      "mask = t['flux'] > 3.0  # Define boolean mask for all flux values > 3\n",
      "t[mask]  # Create a new table with only the \"high flux\" sources"
     ],
     "language": "python",
     "metadata": {},
     "outputs": [
      {
       "html": [
        "&lt;Table masked=False length=2&gt;\n",
        "<table id=\"table4452734992\">\n",
        "<thead><tr><th>name</th><th>flux</th></tr></thead>\n",
        "<thead><tr><th>string64</th><th>float64</th></tr></thead>\n",
        "<tr><td>source 3</td><td>3.1</td></tr>\n",
        "<tr><td>source 4</td><td>4.3</td></tr>\n",
        "</table>"
       ],
       "metadata": {},
       "output_type": "pyout",
       "prompt_number": 55,
       "text": [
        "<Table masked=False length=2>\n",
        "  name     flux \n",
        "string64 float64\n",
        "-------- -------\n",
        "source 3     3.1\n",
        "source 4     4.3"
       ]
      }
     ],
     "prompt_number": 55
    },
    {
     "cell_type": "markdown",
     "metadata": {},
     "source": [
      "### Modifying the table\n",
      "\n",
      "Once the table exists with defined columns there are a number of ways to modify the table in place.  These are fully documented in the section [Modifying a Table](http://astropy.readthedocs.org/en/stable/table/modify_table.html#modifying-a-table).\n",
      "\n",
      "To give a couple of simple examples, you can add rows with the [add_row()](http://astropy.readthedocs.org/en/stable/api/astropy.table.table.Table.html#astropy.table.table.Table.add_row) method or add new columns using dict-style assignment:"
     ]
    },
    {
     "cell_type": "code",
     "collapsed": false,
     "input": [
      "t.add_row(('source 5', 10.1))  # Add a new source at the end\n",
      "t['logflux'] = np.log10(t['flux'])  # Compute the log10 of the flux\n",
      "t"
     ],
     "language": "python",
     "metadata": {},
     "outputs": [
      {
       "html": [
        "&lt;Table masked=False length=5&gt;\n",
        "<table id=\"table4449103376\">\n",
        "<thead><tr><th>name</th><th>flux</th><th>logflux</th></tr></thead>\n",
        "<thead><tr><th>string64</th><th>float64</th><th>float64</th></tr></thead>\n",
        "<tr><td>source 1</td><td>1.2</td><td>0.0791812460476</td></tr>\n",
        "<tr><td>source 2</td><td>2.2</td><td>0.342422680822</td></tr>\n",
        "<tr><td>source 3</td><td>3.1</td><td>0.491361693834</td></tr>\n",
        "<tr><td>source 4</td><td>4.3</td><td>0.63346845558</td></tr>\n",
        "<tr><td>source 5</td><td>10.1</td><td>1.00432137378</td></tr>\n",
        "</table>"
       ],
       "metadata": {},
       "output_type": "pyout",
       "prompt_number": 56,
       "text": [
        "<Table masked=False length=5>\n",
        "  name     flux      logflux    \n",
        "string64 float64     float64    \n",
        "-------- ------- ---------------\n",
        "source 1     1.2 0.0791812460476\n",
        "source 2     2.2  0.342422680822\n",
        "source 3     3.1  0.491361693834\n",
        "source 4     4.3   0.63346845558\n",
        "source 5    10.1   1.00432137378"
       ]
      }
     ],
     "prompt_number": 56
    },
    {
     "cell_type": "markdown",
     "metadata": {},
     "source": [
      "Notice that the `logflux` column really has too many output digits given the precision of the input values.  We can fix this by setting the format using normal Python formatting syntax:"
     ]
    },
    {
     "cell_type": "code",
     "collapsed": false,
     "input": [
      "t['flux'].format = '%.2f'\n",
      "t['logflux'].format = '%.2f'\n",
      "t"
     ],
     "language": "python",
     "metadata": {},
     "outputs": [
      {
       "html": [
        "&lt;Table masked=False length=5&gt;\n",
        "<table id=\"table4449103376\">\n",
        "<thead><tr><th>name</th><th>flux</th><th>logflux</th></tr></thead>\n",
        "<thead><tr><th>string64</th><th>float64</th><th>float64</th></tr></thead>\n",
        "<tr><td>source 1</td><td>1.20</td><td>0.08</td></tr>\n",
        "<tr><td>source 2</td><td>2.20</td><td>0.34</td></tr>\n",
        "<tr><td>source 3</td><td>3.10</td><td>0.49</td></tr>\n",
        "<tr><td>source 4</td><td>4.30</td><td>0.63</td></tr>\n",
        "<tr><td>source 5</td><td>10.10</td><td>1.00</td></tr>\n",
        "</table>"
       ],
       "metadata": {},
       "output_type": "pyout",
       "prompt_number": 57,
       "text": [
        "<Table masked=False length=5>\n",
        "  name     flux  logflux\n",
        "string64 float64 float64\n",
        "-------- ------- -------\n",
        "source 1    1.20    0.08\n",
        "source 2    2.20    0.34\n",
        "source 3    3.10    0.49\n",
        "source 4    4.30    0.63\n",
        "source 5   10.10    1.00"
       ]
      }
     ],
     "prompt_number": 57
    },
    {
     "cell_type": "markdown",
     "metadata": {},
     "source": [
      "### Converting the table to numpy\n",
      "\n",
      "Sometimes you may not want or be able to use a `Table` object and prefer to work with a plain numpy array.  This is easily done by passing the table to the `np.array()` constructor.  \n",
      "\n",
      "*This makes a copy of the data*.  If you have a huge table and don't want to waste memory, supply `copy=False` to the constructor, but be warned that changing the output numpy array will change the original table."
     ]
    },
    {
     "cell_type": "code",
     "collapsed": false,
     "input": [
      "np.array(t)"
     ],
     "language": "python",
     "metadata": {},
     "outputs": [
      {
       "metadata": {},
       "output_type": "pyout",
       "prompt_number": 58,
       "text": [
        "array([('source 1', 1.2, 0.07918124604762482),\n",
        "       ('source 2', 2.2, 0.3424226808222063),\n",
        "       ('source 3', 3.1, 0.4913616938342727),\n",
        "       ('source 4', 4.3, 0.6334684555795865),\n",
        "       ('source 5', 10.1, 1.0043213737826426)], \n",
        "      dtype=[('name', 'S8'), ('flux', '<f8'), ('logflux', '<f8')])"
       ]
      }
     ],
     "prompt_number": 58
    },
    {
     "cell_type": "markdown",
     "metadata": {},
     "source": [
      "Masked tables\n",
      "-------------"
     ]
    },
    {
     "cell_type": "code",
     "collapsed": false,
     "input": [
      "t2 = Table([['x', 'y', 'z'], \n",
      "            [1.1, 2.2, 3.3]],\n",
      "           names=['name', 'value'],\n",
      "           masked=True)\n",
      "t2"
     ],
     "language": "python",
     "metadata": {},
     "outputs": [
      {
       "html": [
        "&lt;Table masked=True length=3&gt;\n",
        "<table id=\"table4452734864\">\n",
        "<thead><tr><th>name</th><th>value</th></tr></thead>\n",
        "<thead><tr><th>string8</th><th>float64</th></tr></thead>\n",
        "<tr><td>x</td><td>1.1</td></tr>\n",
        "<tr><td>y</td><td>2.2</td></tr>\n",
        "<tr><td>z</td><td>3.3</td></tr>\n",
        "</table>"
       ],
       "metadata": {},
       "output_type": "pyout",
       "prompt_number": 59,
       "text": [
        "<Table masked=True length=3>\n",
        "  name   value \n",
        "string8 float64\n",
        "------- -------\n",
        "      x     1.1\n",
        "      y     2.2\n",
        "      z     3.3"
       ]
      }
     ],
     "prompt_number": 59
    },
    {
     "cell_type": "code",
     "collapsed": false,
     "input": [
      "t2['value'].mask = [False, True, False]"
     ],
     "language": "python",
     "metadata": {},
     "outputs": [],
     "prompt_number": 60
    },
    {
     "cell_type": "code",
     "collapsed": false,
     "input": [
      "print(t2)\n",
      "t2['value'].mask"
     ],
     "language": "python",
     "metadata": {},
     "outputs": [
      {
       "output_type": "stream",
       "stream": "stdout",
       "text": [
        "name value\n",
        "---- -----\n",
        "   x   1.1\n",
        "   y    --\n",
        "   z   3.3\n"
       ]
      },
      {
       "metadata": {},
       "output_type": "pyout",
       "prompt_number": 63,
       "text": [
        "array([False,  True, False], dtype=bool)"
       ]
      }
     ],
     "prompt_number": 63
    },
    {
     "cell_type": "code",
     "collapsed": false,
     "input": [
      "t2['value'].fill_value = -99\n",
      "print(t2.filled())"
     ],
     "language": "python",
     "metadata": {},
     "outputs": [
      {
       "output_type": "stream",
       "stream": "stdout",
       "text": [
        "name value\n",
        "---- -----\n",
        "   x   1.1\n",
        "   y -99.0\n",
        "   z   3.3\n"
       ]
      }
     ],
     "prompt_number": 64
    },
    {
     "cell_type": "markdown",
     "metadata": {},
     "source": [
      "High-level table operations\n",
      "----------------------------\n",
      "\n",
      "So far we've just worked with one table at a time and viewed that table as a monolithic entity.  Astropy also supports high-level [Table operations](http://astropy.readthedocs.org/en/stable/table/operations.html) that manipulate multiple tables or view one table as a collection of sub-tables (groups).\n",
      "\n",
      " Documentation\t                                                                         | Description\n",
      "---------------------------------------------------------------------------------------- |-----------------------------------------\n",
      "[Grouped operations](http://astropy.readthedocs.org/en/stable/table/operations.html#id2) | Group tables and columns by keys\n",
      "[Stack vertically](http://astropy.readthedocs.org/en/stable/table/operations.html#id3)   | Concatenate input tables along rows\n",
      "[Stack horizontally](http://astropy.readthedocs.org/en/stable/table/operations.html#id4) | Concatenate input tables along columns\n",
      "[Join](http://astropy.readthedocs.org/en/stable/table/operations.html#join)              | Database-style join of two tables\n",
      "\n",
      "Here we'll just introduce the join operation but go into more detail on the others in the exercises."
     ]
    },
    {
     "cell_type": "code",
     "collapsed": false,
     "input": [
      "from astropy.table import join"
     ],
     "language": "python",
     "metadata": {},
     "outputs": []
    },
    {
     "cell_type": "markdown",
     "metadata": {},
     "source": [
      "Now recall our original table `t`:"
     ]
    },
    {
     "cell_type": "code",
     "collapsed": false,
     "input": [
      "t"
     ],
     "language": "python",
     "metadata": {},
     "outputs": []
    },
    {
     "cell_type": "markdown",
     "metadata": {},
     "source": [
      "Now say that we now got some additional flux values from a different reference for a different, but overlapping sample of sources:"
     ]
    },
    {
     "cell_type": "code",
     "collapsed": false,
     "input": [
      "t2 = Table()\n",
      "t2['name'] = ['source 1', 'source 3', 'source 8']\n",
      "t2['flux2'] = [1.4, 3.5, 8.6]"
     ],
     "language": "python",
     "metadata": {},
     "outputs": []
    },
    {
     "cell_type": "markdown",
     "metadata": {},
     "source": [
      "Now we can get a master table of flux measurements which are joined matching the values the `name` column.  This includes every row from each of the two tables, which is known as an **`outer`** join."
     ]
    },
    {
     "cell_type": "code",
     "collapsed": false,
     "input": [
      "t3 = join(t, t2, keys=['name'], join_type='outer')\n",
      "print(t3)"
     ],
     "language": "python",
     "metadata": {},
     "outputs": []
    },
    {
     "cell_type": "code",
     "collapsed": false,
     "input": [
      "np.mean(t3['flux2'])"
     ],
     "language": "python",
     "metadata": {},
     "outputs": []
    },
    {
     "cell_type": "markdown",
     "metadata": {},
     "source": [
      "Alternately we could choose to keep only rows where both tables had a valid measurement using an **`inner`** join:"
     ]
    },
    {
     "cell_type": "code",
     "collapsed": false,
     "input": [
      "join(t, t2, keys=['name'], join_type='inner')"
     ],
     "language": "python",
     "metadata": {},
     "outputs": []
    },
    {
     "cell_type": "markdown",
     "metadata": {},
     "source": [
      "Writing data\n",
      "------------"
     ]
    },
    {
     "cell_type": "code",
     "collapsed": false,
     "input": [
      "t3.write('test.fits', overwrite=True)"
     ],
     "language": "python",
     "metadata": {},
     "outputs": []
    },
    {
     "cell_type": "code",
     "collapsed": false,
     "input": [
      "t3.write('test.vot', format='votable', overwrite=True)"
     ],
     "language": "python",
     "metadata": {},
     "outputs": []
    },
    {
     "cell_type": "markdown",
     "metadata": {},
     "source": [
      "Reading data\n",
      "------------\n",
      "\n",
      "You can read data using the [Table.read()](http://astropy.readthedocs.org/en/stable/api/astropy.table.table.Table.html#astropy.table.table.Table.read) method:"
     ]
    },
    {
     "cell_type": "code",
     "collapsed": false,
     "input": [
      "t4 = Table.read('test.fits')\n",
      "t4"
     ],
     "language": "python",
     "metadata": {},
     "outputs": []
    },
    {
     "cell_type": "heading",
     "level": 1,
     "metadata": {},
     "source": [
      "Handling FITS files"
     ]
    },
    {
     "cell_type": "code",
     "collapsed": false,
     "input": [
      "import matplotlib.pyplot as plt"
     ],
     "language": "python",
     "metadata": {},
     "outputs": [],
     "prompt_number": 65
    },
    {
     "cell_type": "markdown",
     "metadata": {},
     "source": [
      "Documentation\n",
      "-------------\n",
      "\n",
      "For more information about the features presented below, you can read the\n",
      "[astropy.io.fits](http://docs.astropy.org/en/stable/io/fits/index.html) docs.\n",
      "\n",
      "Data\n",
      "----\n",
      "\n",
      "The data used in this page is a [model of the gamma-ray sky background](data/gll_iem_v02_P6_V11_DIFFUSE.fit) used for the LAT instrument on the Fermi telescope, as well as the *Fermi*/LAT [point source catalog](data/gll_psc_v08.fit).\n",
      "\n",
      "Reading FITS files and accessing data\n",
      "-------------------------------------\n",
      "\n",
      "Opening a FITS file is relatively straightforward. We can open the\n",
      "background model included in the tutorial files:"
     ]
    },
    {
     "cell_type": "code",
     "collapsed": false,
     "input": [
      "from astropy.io import fits\n",
      "!ls data"
     ],
     "language": "python",
     "metadata": {},
     "outputs": [
      {
       "output_type": "stream",
       "stream": "stdout",
       "text": [
        "\u001b[31m2mass.tbl\u001b[m\u001b[m                      \u001b[31mgll_psc_v08.fit\u001b[m\u001b[m\r\n",
        "\u001b[34mascii\u001b[m\u001b[m                          \u001b[31mmsx.fits\u001b[m\u001b[m\r\n",
        "\u001b[31mcdfs_master_sources.fits\u001b[m\u001b[m       pix.fits\r\n",
        "\u001b[31mcdfs_obs_sources.fits\u001b[m\u001b[m          \u001b[31mrosat.vot\u001b[m\u001b[m\r\n",
        "\u001b[31mgll_iem_v02_P6_V11_DIFFUSE.fit\u001b[m\u001b[m x.tar\r\n"
       ]
      }
     ],
     "prompt_number": 66
    },
    {
     "cell_type": "code",
     "collapsed": false,
     "input": [
      "hdulist = fits.open('data/gll_iem_v02_P6_V11_DIFFUSE.fit')"
     ],
     "language": "python",
     "metadata": {},
     "outputs": [],
     "prompt_number": 67
    },
    {
     "cell_type": "markdown",
     "metadata": {},
     "source": [
      "The returned object, ``hdulist``, (an instance of the [HDUList class](http://docs.astropy.org/en/stable/io/fits/api/hdulists.html#hdulist)) behaves like a Python list, and each element\n",
      "maps to a Header-Data Unit (HDU) in the FITS file. You can view more\n",
      "information about the FITS file with:"
     ]
    },
    {
     "cell_type": "code",
     "collapsed": false,
     "input": [
      "hdulist.info()"
     ],
     "language": "python",
     "metadata": {},
     "outputs": [
      {
       "output_type": "stream",
       "stream": "stdout",
       "text": [
        "Filename: data/gll_iem_v02_P6_V11_DIFFUSE.fit\n",
        "No.    Name         Type      Cards   Dimensions   Format\n",
        "0    PRIMARY     PrimaryHDU      34   (720, 360, 30)   float32   \n",
        "1    ENERGIES    BinTableHDU     19   30R x 1C     [D]   \n"
       ]
      }
     ],
     "prompt_number": 68
    },
    {
     "cell_type": "markdown",
     "metadata": {},
     "source": [
      "As we can see, this file contains two HDUs. The first contains an image cube, the second a table with one column of double-precision floating point values. To access the primary HDU, which contains the main data, you can then do:"
     ]
    },
    {
     "cell_type": "code",
     "collapsed": false,
     "input": [
      "hdu = hdulist[0]"
     ],
     "language": "python",
     "metadata": {},
     "outputs": [],
     "prompt_number": 69
    },
    {
     "cell_type": "markdown",
     "metadata": {},
     "source": [
      "The ``hdu`` object then has two important attributes: ``data``, which behaves\n",
      "like a Numpy array, can be used to access the data, and ``header``, which\n",
      "behaves like a dictionary, can be used to access the header information.\n",
      "First, we can take a look at the data:"
     ]
    },
    {
     "cell_type": "code",
     "collapsed": false,
     "input": [
      "hdu.data.shape"
     ],
     "language": "python",
     "metadata": {},
     "outputs": [
      {
       "metadata": {},
       "output_type": "pyout",
       "prompt_number": 70,
       "text": [
        "(30, 360, 720)"
       ]
      }
     ],
     "prompt_number": 70
    },
    {
     "cell_type": "markdown",
     "metadata": {},
     "source": [
      "This tells us that it is a 3-d cube. We can now take a peak at the header:"
     ]
    },
    {
     "cell_type": "code",
     "collapsed": false,
     "input": [
      "hdu.header"
     ],
     "language": "python",
     "metadata": {},
     "outputs": [
      {
       "metadata": {},
       "output_type": "pyout",
       "prompt_number": 71,
       "text": [
        "SIMPLE  =                    T / Written by IDL:  Thu Jan 20 07:19:05 2011      \n",
        "BITPIX  =                  -32 /                                                \n",
        "NAXIS   =                    3 / number of data axes                            \n",
        "NAXIS1  =                  720 / length of data axis 1                          \n",
        "NAXIS2  =                  360 / length of data axis 2                          \n",
        "NAXIS3  =                   30 / length of data axis 3                          \n",
        "EXTEND  =                    T / FITS dataset may contain extensions            \n",
        "COMMENT   FITS (Flexible Image Transport System) format is defined in 'Astronomy\n",
        "COMMENT   and Astrophysics', volume 376, page 359; bibcode: 2001A&A...376..359H \n",
        "FLUX    =        8.42259635886 /                                                \n",
        "CRVAL1  =                   0. / Value of longitude in pixel CRPIX1             \n",
        "CDELT1  =                  0.5 / Step size in longitude                         \n",
        "CRPIX1  =                360.5 / Pixel that has value CRVAL1                    \n",
        "CTYPE1  = 'GLON-CAR'           / The type of parameter 1 (Galactic longitude in \n",
        "CUNIT1  = 'deg     '           / The unit of parameter 1                        \n",
        "CRVAL2  =                   0. / Value of latitude in pixel CRPIX2              \n",
        "CDELT2  =                  0.5 / Step size in latitude                          \n",
        "CRPIX2  =                180.5 / Pixel that has value CRVAL2                    \n",
        "CTYPE2  = 'GLAT-CAR'           / The type of parameter 2 (Galactic latitude in C\n",
        "CUNIT2  = 'deg     '           / The unit of parameter 2                        \n",
        "CRVAL3  =                  50. / Energy of pixel CRPIX3                         \n",
        "CDELT3  =    0.113828620540137 / log10 of step size in energy (if it is logarith\n",
        "CRPIX3  =                   1. / Pixel that has value CRVAL3                    \n",
        "CTYPE3  = 'photon energy'      / Axis 3 is the spectra                          \n",
        "CUNIT3  = 'MeV     '           / The unit of axis 3                             \n",
        "CHECKSUM= '3fdO3caL3caL3caL'   / HDU checksum updated 2009-07-07T22:31:18       \n",
        "DATASUM = '2184619035'         / data unit checksum updated 2009-07-07T22:31:18 \n",
        "DATE    = '2009-07-07'         /                                                \n",
        "FILENAME= '$TEMPDIR/diffuse/gll_iem_v02.fit' /File name with version number     \n",
        "TELESCOP= 'GLAST   '           /                                                \n",
        "INSTRUME= 'LAT     '           /                                                \n",
        "ORIGIN  = 'LISOC   '           /LAT team product delivered from the LISOC       \n",
        "OBSERVER= 'MICHELSON'          /Instrument PI                                   \n",
        "HISTORY Scaled version of gll_iem_v02.fit for use with P6_V11_DIFFUSE           "
       ]
      }
     ],
     "prompt_number": 71
    },
    {
     "cell_type": "markdown",
     "metadata": {},
     "source": [
      "which shows that this is a plate carr\u00e9e (``-CAR``) projection in galactic\n",
      "coordinates, and the third axis is photon energy. We can access individual\n",
      "header keywords using standard item notation:"
     ]
    },
    {
     "cell_type": "code",
     "collapsed": false,
     "input": [
      "hdu.header['TELESCOP']"
     ],
     "language": "python",
     "metadata": {},
     "outputs": [
      {
       "metadata": {},
       "output_type": "pyout",
       "prompt_number": 72,
       "text": [
        "'GLAST'"
       ]
      }
     ],
     "prompt_number": 72
    },
    {
     "cell_type": "code",
     "collapsed": false,
     "input": [
      "hdu.header['INSTRUME']"
     ],
     "language": "python",
     "metadata": {},
     "outputs": [
      {
       "metadata": {},
       "output_type": "pyout",
       "prompt_number": 73,
       "text": [
        "'LAT'"
       ]
      }
     ],
     "prompt_number": 73
    },
    {
     "cell_type": "markdown",
     "metadata": {},
     "source": [
      "Provided that we started up ``ipython`` with the ``--pylab`` flag, we can plot\n",
      "one of the slices in photon energy:"
     ]
    },
    {
     "cell_type": "code",
     "collapsed": false,
     "input": [
      "plt.imshow(hdu.data[0, ...], origin='lower')"
     ],
     "language": "python",
     "metadata": {},
     "outputs": [
      {
       "metadata": {},
       "output_type": "pyout",
       "prompt_number": 74,
       "text": [
        "<matplotlib.image.AxesImage at 0x10963dc10>"
       ]
      },
      {
       "metadata": {},
       "output_type": "display_data",
       "png": "[encoded data removed]",
       "text": [
        "<matplotlib.figure.Figure at 0x109675510>"
       ]
      }
     ],
     "prompt_number": 74
    },
    {
     "cell_type": "markdown",
     "metadata": {},
     "source": [
      "Note that this is just a plot of an array, so the coordinates are just pixel\n",
      "coordinates at this stage. The data is stored with longitude increasing to the\n",
      "right (the opposite of the normal convention), but the Level 3 problem at the\n",
      "bottom of this page shows how to correctly flip the image.\n",
      "\n",
      "Modifying data or header information in a FITS file object is easy. We can\n",
      "update existing header keywords:"
     ]
    },
    {
     "cell_type": "code",
     "collapsed": false,
     "input": [
      "hdu.header['TELESCOP'] = \"Fermi Gamma-ray Space Telescope\""
     ],
     "language": "python",
     "metadata": {},
     "outputs": [],
     "prompt_number": 75
    },
    {
     "cell_type": "markdown",
     "metadata": {},
     "source": [
      "or add new ones:"
     ]
    },
    {
     "cell_type": "code",
     "collapsed": false,
     "input": [
      "hdu.header['MODIFIED'] = '2014-07-06'  # adds a new keyword"
     ],
     "language": "python",
     "metadata": {},
     "outputs": [],
     "prompt_number": 76
    },
    {
     "cell_type": "markdown",
     "metadata": {},
     "source": [
      "and we can also change the data, for example extracting only the first slice\n",
      "in photon energy:"
     ]
    },
    {
     "cell_type": "code",
     "collapsed": false,
     "input": [
      "hdu.data = hdu.data[0,:,:]"
     ],
     "language": "python",
     "metadata": {},
     "outputs": [],
     "prompt_number": 77
    },
    {
     "cell_type": "markdown",
     "metadata": {},
     "source": [
      "Note that this does not change the original FITS file, simply the FITS file\n",
      "object in memory. Since the data is now 2-dimensional, we can remove the WCS keywords for the third dimension:"
     ]
    },
    {
     "cell_type": "code",
     "collapsed": false,
     "input": [
      "hdu.header.remove('CRPIX3')\n",
      "hdu.header.remove('CRVAL3')\n",
      "hdu.header.remove('CDELT3')\n",
      "hdu.header.remove('CUNIT3')\n",
      "hdu.header.remove('CTYPE3')"
     ],
     "language": "python",
     "metadata": {},
     "outputs": [],
     "prompt_number": 78
    },
    {
     "cell_type": "markdown",
     "metadata": {},
     "source": [
      "You can write the FITS file object to a file with:"
     ]
    },
    {
     "cell_type": "code",
     "collapsed": false,
     "input": [
      "hdu.writeto('lat_background_model_slice.fits', clobber=True)"
     ],
     "language": "python",
     "metadata": {},
     "outputs": [],
     "prompt_number": 79
    },
    {
     "cell_type": "markdown",
     "metadata": {},
     "source": [
      "if you want to simply write out this HDU to a file, or:"
     ]
    },
    {
     "cell_type": "code",
     "collapsed": false,
     "input": [
      "hdulist.writeto('lat_background_model_slice_allhdus.fits', clobber=True)"
     ],
     "language": "python",
     "metadata": {},
     "outputs": [],
     "prompt_number": 80
    },
    {
     "cell_type": "markdown",
     "metadata": {},
     "source": [
      "if you want to write out all of the original HDUs, including the modified one,\n",
      "to a file."
     ]
    },
    {
     "cell_type": "markdown",
     "metadata": {},
     "source": [
      "Creating a FITS file from scratch\n",
      "---------------------------------\n",
      "\n",
      "If you want to create a FITS file from scratch, you need to start off by creating an HDU object:"
     ]
    },
    {
     "cell_type": "code",
     "collapsed": false,
     "input": [
      "hdu = fits.PrimaryHDU()"
     ],
     "language": "python",
     "metadata": {},
     "outputs": []
    },
    {
     "cell_type": "markdown",
     "metadata": {},
     "source": [
      "and you can then populate the data and header attributes with whatever information you like:"
     ]
    },
    {
     "cell_type": "code",
     "collapsed": false,
     "input": [
      "import numpy as np"
     ],
     "language": "python",
     "metadata": {},
     "outputs": []
    },
    {
     "cell_type": "code",
     "collapsed": false,
     "input": [
      "hdu.data = np.random.random((128, 128))"
     ],
     "language": "python",
     "metadata": {},
     "outputs": []
    },
    {
     "cell_type": "markdown",
     "metadata": {},
     "source": [
      "Note that setting the data automatically populates the header with basic information:"
     ]
    },
    {
     "cell_type": "code",
     "collapsed": false,
     "input": [
      "hdu.header"
     ],
     "language": "python",
     "metadata": {},
     "outputs": []
    },
    {
     "cell_type": "markdown",
     "metadata": {},
     "source": [
      "and you should never have to set header keywords such as ``NAXIS``, ``NAXIS1``, and so on manually. We can then set additional header keywords:"
     ]
    },
    {
     "cell_type": "code",
     "collapsed": false,
     "input": [
      "hdu.header['telescop'] = 'Python Observatory'  # Note the keyword is case-insensitive; it will be written all caps"
     ],
     "language": "python",
     "metadata": {},
     "outputs": []
    },
    {
     "cell_type": "markdown",
     "metadata": {},
     "source": [
      "and we can then write out the FITS file to disk:"
     ]
    },
    {
     "cell_type": "code",
     "collapsed": false,
     "input": [
      "hdu.writeto('random_array.fits', clobber=True)"
     ],
     "language": "python",
     "metadata": {},
     "outputs": []
    },
    {
     "cell_type": "markdown",
     "metadata": {},
     "source": [
      "Creating a multi-extension FITS file\n",
      "------------------------------------\n",
      "\n",
      "Many observatories format their FITS files such that no data is stored in the primary HDU.  Instead, multiple image extensions are used to store each of the main image data, the data quality array, the error values, etc.  This is the case for all modern HST observations, for example.  The primary HDU stores no data, but does use the primary header to store metadata common to the observation.\n",
      "\n",
      "As mentioned before, the `HDUList` object is similar to a Python list, and can be manipulated like one to store multiple HDUs as well as reorder them in a FITS file.  For example we can create a primary HDU containing only metadata:"
     ]
    },
    {
     "cell_type": "code",
     "collapsed": false,
     "input": [
      "pri_hdu = fits.PrimaryHDU()\n",
      "pri_hdu.header['telescop'] = 'Python Observatory'"
     ],
     "language": "python",
     "metadata": {},
     "outputs": []
    },
    {
     "cell_type": "markdown",
     "metadata": {},
     "source": [
      "and then create an image extension HDU using the `ImageHDU` class (this is no different from `PrimaryHDU` except that `PrimaryHDU` must come first in an `HDUList`; in fact, in most cases Astropy will ensure that before writing out a multi-extension file the first HDU is converted to a `PrimaryHDU` if possible.):"
     ]
    },
    {
     "cell_type": "code",
     "collapsed": false,
     "input": [
      "img_hdu = fits.ImageHDU(data=np.random.random((128, 128)))"
     ],
     "language": "python",
     "metadata": {},
     "outputs": []
    },
    {
     "cell_type": "markdown",
     "metadata": {},
     "source": [
      "Finally, add both HDUs to an `HDUList` and write it to disk:"
     ]
    },
    {
     "cell_type": "code",
     "collapsed": false,
     "input": [
      "hdul = fits.HDUList([pri_hdu, img_hdu])\n",
      "hdul.writeto('random_array2.fits', clobber=True)"
     ],
     "language": "python",
     "metadata": {},
     "outputs": []
    },
    {
     "cell_type": "markdown",
     "metadata": {},
     "source": [
      "We can check that the output file is in the format we expected with the `fits.info()` convenience function.  This is a shortcut for the pattern we saw earlier of `hdul = fits.open(...); hdul.info()`:"
     ]
    },
    {
     "cell_type": "code",
     "collapsed": false,
     "input": [
      "fits.info('random_array2.fits')"
     ],
     "language": "python",
     "metadata": {},
     "outputs": []
    },
    {
     "cell_type": "markdown",
     "metadata": {},
     "source": [
      "Because an `HDUList` is like a Python list, new HDUs can also be appended or inserted:"
     ]
    },
    {
     "cell_type": "code",
     "collapsed": false,
     "input": [
      "new_hdu = fits.ImageHDU(data=np.random.random((256, 256)))\n",
      "hdul.insert(1, new_hdu)\n",
      "hdul.writeto('random_array3.fits', clobber=True)"
     ],
     "language": "python",
     "metadata": {},
     "outputs": []
    },
    {
     "cell_type": "markdown",
     "metadata": {},
     "source": [
      "This writes a new FITS file similar to the previous one, but with the new HDU inserted:"
     ]
    },
    {
     "cell_type": "code",
     "collapsed": false,
     "input": [
      "fits.info('random_array3.fits')"
     ],
     "language": "python",
     "metadata": {},
     "outputs": []
    },
    {
     "cell_type": "markdown",
     "metadata": {},
     "source": [
      "Inplace updates\n",
      "---------------\n",
      "\n",
      "In all the examples we've seen thus far, modifications have been made to parts of a FITS file and saved by writing out an entirely new FITS file to a different filename.  For large files this can be an expensive and time-consuming operation, especially when only making small changes.\n",
      "\n",
      "Both the header and data of an existing FITS file can be updated inplace by opening the file with the `mode='update'` option:"
     ]
    },
    {
     "cell_type": "code",
     "collapsed": false,
     "input": [
      "hdu_orig = fits.open('data/gll_iem_v02_P6_V11_DIFFUSE.fit')\n",
      "tile = hdu_orig[0].data[0, 52:52 + 256, 232:232 + 256]\n",
      "\n",
      "hdul = fits.open('random_array3.fits', mode='update')  # Update the file from the previous example\n",
      "hdul[0].header['OBSERVER'] = 'Vera Rubin'\n",
      "hdul[1].data = tile                                    # Replace some or all of the data values\n",
      "hdul.close()                                           # Close the file to see that all changes were saved"
     ],
     "language": "python",
     "metadata": {},
     "outputs": []
    },
    {
     "cell_type": "markdown",
     "metadata": {},
     "source": [
      "Confirm that the file was updated:"
     ]
    },
    {
     "cell_type": "code",
     "collapsed": false,
     "input": [
      "hdul = fits.open('random_array3.fits')\n",
      "hdul.info()"
     ],
     "language": "python",
     "metadata": {},
     "outputs": []
    },
    {
     "cell_type": "code",
     "collapsed": false,
     "input": [
      "hdul[0].header['OBSERVER']"
     ],
     "language": "python",
     "metadata": {},
     "outputs": []
    },
    {
     "cell_type": "code",
     "collapsed": false,
     "input": [
      "plt.imshow(hdul[1].data, origin='lower')"
     ],
     "language": "python",
     "metadata": {},
     "outputs": []
    },
    {
     "cell_type": "markdown",
     "metadata": {},
     "source": [
      "One caveat about this is that if the file needs to be *resized* as the result of an update (many header cards were added or removed, or the size of the data was changed) this may still result in the file being rewritten.  This happens automatically in the background, but may be more time consuming than modifications that don't significantly change the size of the file."
     ]
    },
    {
     "cell_type": "markdown",
     "metadata": {},
     "source": [
      "If you're familiar with Python's `with` statement, this can also be used when updating FITS files.  This is a good idea to ensure that the file is closed/saved once all updates are complete:"
     ]
    },
    {
     "cell_type": "code",
     "collapsed": false,
     "input": [
      "with fits.open('random_array3.fits') as hdul:\n",
      "    hdul[0].header['DATE-OBS'] = '2014-07-06'"
     ],
     "language": "python",
     "metadata": {},
     "outputs": []
    },
    {
     "cell_type": "markdown",
     "metadata": {},
     "source": [
      "Convenience functions\n",
      "---------------------\n",
      "\n",
      "Like `fits.info`, a few other shortcut \"convenience\" functions are provided.  For example, in cases where you just want to access the data or header in a specific HDU, you can use the following convenience functions:"
     ]
    },
    {
     "cell_type": "code",
     "collapsed": false,
     "input": [
      "data = fits.getdata('data/gll_iem_v02_P6_V11_DIFFUSE.fit')\n",
      "header = fits.getheader('data/gll_iem_v02_P6_V11_DIFFUSE.fit')"
     ],
     "language": "python",
     "metadata": {},
     "outputs": []
    },
    {
     "cell_type": "markdown",
     "metadata": {},
     "source": [
      "To get the data or header for an HDU other than the first, you can specify the\n",
      "extension name or index. The second HDU is called ``energies``, so we can do:"
     ]
    },
    {
     "cell_type": "code",
     "collapsed": false,
     "input": [
      "data = fits.getdata('data/gll_iem_v02_P6_V11_DIFFUSE.fit', extname='energies')"
     ],
     "language": "python",
     "metadata": {},
     "outputs": []
    },
    {
     "cell_type": "markdown",
     "metadata": {},
     "source": [
      "or:"
     ]
    },
    {
     "cell_type": "code",
     "collapsed": false,
     "input": [
      "data = fits.getdata('data/gll_iem_v02_P6_V11_DIFFUSE.fit', ext=1)"
     ],
     "language": "python",
     "metadata": {},
     "outputs": []
    },
    {
     "cell_type": "markdown",
     "metadata": {},
     "source": [
      "and similarly for ``getheader``.  The documentation provides [a list](http://docs.astropy.org/en/stable/io/fits/api/files.html#writeto) of other such functions.\n",
      "\n",
      "**Note:** While these functions are useful and convenient for interactive sessions, directly manipulating the data structures returned by `fits.open` as described above is currently more performant and should be preferred for automated scripts."
     ]
    },
    {
     "cell_type": "markdown",
     "metadata": {},
     "source": [
      "Accessing Tabular Data\n",
      "----------------------\n",
      "\n",
      "Tabular data behaves very similarly to image data such as that shown above,\n",
      "but the data array is a structured Numpy array which requires column access\n",
      "via the item notation:"
     ]
    },
    {
     "cell_type": "code",
     "collapsed": false,
     "input": [
      "from astropy.io import fits\n",
      "hdulist = fits.open('data/gll_psc_v08.fit')"
     ],
     "language": "python",
     "metadata": {},
     "outputs": []
    },
    {
     "cell_type": "code",
     "collapsed": false,
     "input": [
      "hdulist[1].name"
     ],
     "language": "python",
     "metadata": {},
     "outputs": []
    },
    {
     "cell_type": "markdown",
     "metadata": {},
     "source": [
      "Display information on the first five columns (or all columns without the slice notation, but there are many in this table):"
     ]
    },
    {
     "cell_type": "code",
     "collapsed": false,
     "input": [
      "hdulist[1].columns[:5]"
     ],
     "language": "python",
     "metadata": {},
     "outputs": []
    },
    {
     "cell_type": "code",
     "collapsed": false,
     "input": [
      "hdulist[1].data['RAJ2000']"
     ],
     "language": "python",
     "metadata": {},
     "outputs": []
    },
    {
     "cell_type": "code",
     "collapsed": false,
     "input": [
      "hdulist[1].data['DEJ2000']"
     ],
     "language": "python",
     "metadata": {},
     "outputs": []
    },
    {
     "cell_type": "markdown",
     "metadata": {},
     "source": [
      "FITS tables can also be accessed via Astropy's `Table` interface like we saw earlier:"
     ]
    },
    {
     "cell_type": "code",
     "collapsed": false,
     "input": [
      "from astropy.table import Table\n",
      "\n",
      "t = Table.read('data/gll_psc_v08.fit')"
     ],
     "language": "python",
     "metadata": {},
     "outputs": []
    },
    {
     "cell_type": "markdown",
     "metadata": {},
     "source": [
      "Note that if a FITS file contains a table, the first table in the file is returned by default.  The `hdu=` keyword argument to `Table.read` can be used to specify and HDU to read from."
     ]
    },
    {
     "cell_type": "code",
     "collapsed": false,
     "input": [
      "t[t.colnames[:5]]  # Display the first 5 columns"
     ],
     "language": "python",
     "metadata": {},
     "outputs": []
    },
    {
     "cell_type": "markdown",
     "metadata": {},
     "source": [
      "In a future version of Astropy, FITS tables will always be returned in this format.  At present, however, there remain some issues with supporting all FITS tables with the `Table` class."
     ]
    },
    {
     "cell_type": "heading",
     "level": 1,
     "metadata": {},
     "source": [
      "Handling ASCII table files"
     ]
    },
    {
     "cell_type": "markdown",
     "metadata": {},
     "source": [
      "An **ASCII data table** refers to a tabular data set where the values are encoded in ASCII and  are written in a row-oriented format where each table row is (effectively) on one line.  Frequently these data files are somewhat free format in nature and do not conform to precisely definition standards such as FITS.  \n",
      "\n",
      "ASCII data tables are a fact of life for scientists and you need to be able to read and write them effectively."
     ]
    },
    {
     "cell_type": "heading",
     "level": 2,
     "metadata": {},
     "source": [
      "`astropy.io.ascii`"
     ]
    },
    {
     "cell_type": "markdown",
     "metadata": {},
     "source": [
      "The [astropy.io.ascii](http://astropy.readthedocs.org/en/stable/io/ascii/index.html) package provides methods for reading and writing a wide range of ASCII data table formats from basic character-separated tables to astronomy-specific or even application-specific formats.  \n",
      "\n",
      "This package isn't the fastest ASCII table reader/writer available, but it is one of the most flexible and most of the time it should just work out of the box.  *[About speed, there is a Google Summer of Code 2014 student working on making it fast!]*\n",
      "\n",
      "The following shows a few of the ASCII formats that are available, while the section on [Supported formats](http://astropy.readthedocs.org/en/stable/io/ascii/index.html#id1) contains the full list.\n",
      "\n",
      "Format | Description\n",
      "------- | -------------\n",
      "[Basic](http://astropy.readthedocs.org/en/stable/api/astropy.io.ascii.basic.Basic.html) | basic table with customizable delimiters and header configurations\n",
      "[CDS](http://astropy.readthedocs.org/en/stable/api/astropy.io.ascii.cds.Cds.html) | [CDS format](http://vizier.u-strasbg.fr/doc/catstd.htx) table (also Vizier and ApJ machine readable tables)\n",
      "[DAOphot](http://astropy.readthedocs.org/en/stable/api/astropy.io.ascii.daophot.Daophot.html) | table from the IRAF DAOphot package\n",
      "[Fixed width](http://astropy.readthedocs.org/en/stable/api/astropy.io.ascii.fixedwidth.FixedWidth.html)| table with fixed-width columns (see also [Fixed-width Gallery](http://astropy.readthedocs.org/en/stable/io/ascii/fixed_width_gallery.html))\n",
      "[IPAC](http://astropy.readthedocs.org/en/stable/api/astropy.io.ascii.ipac.Ipac.html) | [IPAC format](http://irsa.ipac.caltech.edu/applications/DDGEN/Doc/ipac_tbl.html) table\n",
      "[LaTex](http://astropy.readthedocs.org/en/stable/api/astropy.io.ascii.latex.Latex.html) | LaTeX table with data in the tabular environment\n",
      "[SExtractor](http://astropy.readthedocs.org/en/stable/api/astropy.io.ascii.sextractor.SExtractor.html) | SExtractor format table"
     ]
    },
    {
     "cell_type": "heading",
     "level": 3,
     "metadata": {},
     "source": [
      "Choice of interface"
     ]
    },
    {
     "cell_type": "markdown",
     "metadata": {},
     "source": [
      "There are two equally valid ways of reading and writing ASCII tables within astropy:\n",
      "\n",
      "- Directly use the `astropy.io.ascii` module\n",
      "- Use the [Unified I/O interface]() with the Table class\n",
      "\n",
      "Internally there is no difference since they both end up calling the `astropy.io.ascii` routines.  It depends somewhat on your taste:\n",
      "\n",
      "**Functional interface**\n",
      "```python\n",
      ">>> from astropy.io import ascii\n",
      ">>> pets = ascii.read(data)\n",
      ">>> ascii.write(pets, 'pets.tex', format='latex')  # format='<format_name>'\n",
      "```\n",
      "**Table interface**\n",
      "```python\n",
      ">>> from astropy.table import Table\n",
      ">>> pets = Table.read(data, format='ascii')  # format='ascii'\n",
      ">>> pets.write('pets.tex', format='ascii.latex')  # format='ascii.<format_name>'\n",
      "```\n",
      "\n",
      "**Overall we recommend using the Table interface**, because this also lets you read and write many tables in FITS or VOTable format using the same syntax.  Note that for ASCII tables there is *absolutely no functional* difference between the interfaces, while for FITS and VOTable the direct interfaces (`astropy.io.fits` and `astropy.io.votable`) have more functionality than the `Table` interface."
     ]
    },
    {
     "cell_type": "heading",
     "level": 2,
     "metadata": {},
     "source": [
      "Reading tables"
     ]
    },
    {
     "cell_type": "markdown",
     "metadata": {},
     "source": [
      "First example:"
     ]
    },
    {
     "cell_type": "code",
     "collapsed": false,
     "input": [
      "import numpy as np\n",
      "from astropy.table import Table"
     ],
     "language": "python",
     "metadata": {},
     "outputs": []
    },
    {
     "cell_type": "code",
     "collapsed": false,
     "input": [
      "lines = \"\"\"animal        number\n",
      "           \"siamese cat\"    1   \n",
      "             dog            3   \"\"\"\n",
      "\n",
      "pets = Table.read(lines, format='ascii')\n",
      "pets"
     ],
     "language": "python",
     "metadata": {},
     "outputs": []
    },
    {
     "cell_type": "heading",
     "level": 3,
     "metadata": {},
     "source": [
      "Arguments to `read()`"
     ]
    },
    {
     "cell_type": "markdown",
     "metadata": {},
     "source": [
      "The online documentation on [Parameters for reading](http://astropy.readthedocs.org/en/stable/io/ascii/read.html#parameters-for-read) has more information."
     ]
    },
    {
     "cell_type": "heading",
     "level": 5,
     "metadata": {},
     "source": [
      "`table` argument -- Show me the table"
     ]
    },
    {
     "cell_type": "markdown",
     "metadata": {},
     "source": [
      "The required first argument for every table read call is `table`, which provides access to the actual table data.  It can be provided several different formats:\n",
      "\n",
      "- Name of a file (string)\n",
      "- Single string containing all table lines separated by newlines\n",
      "- File-like object with a callable read() method\n",
      "- List of strings where each list element is a table line"
     ]
    },
    {
     "cell_type": "heading",
     "level": 5,
     "metadata": {},
     "source": [
      "`format` argument -- What's the format Kenneth?"
     ]
    },
    {
     "cell_type": "markdown",
     "metadata": {},
     "source": [
      "This specifies the file format, with available options describe in [Supported Formats]( http://astropy.readthedocs.org/en/stable/io/ascii/index.html#id1).\n",
      "\n",
      "- `Table.read()`: specifying `format='ascii'` is the generic \"try to guess the format\" option, or `format='ascii.<format_name>'`.\n",
      "- `ascii.read()`: do not provide `format` for the generic \"guess the format\" option, or `format='<format_name>'`."
     ]
    },
    {
     "cell_type": "code",
     "collapsed": false,
     "input": [
      "lines = [r'\\begin{table}',\n",
      "         r'\\begin{tabular}{ l c r }',\n",
      "         r'X & Y & Z \\\\',\n",
      "         r'1 & 2 & 3 \\\\',\n",
      "         r'4 & 5 & 6 \\\\',\n",
      "         r'7 & 8 & 9 \\\\',\n",
      "         r'\\end{tabular}',\n",
      "         r'\\end{table}']\n",
      "t = Table.read(lines, format='ascii.latex')\n",
      "t"
     ],
     "language": "python",
     "metadata": {},
     "outputs": []
    },
    {
     "cell_type": "heading",
     "level": 5,
     "metadata": {},
     "source": [
      "`guess` argument -- To guess or not to guess"
     ]
    },
    {
     "cell_type": "markdown",
     "metadata": {},
     "source": [
      "The default behavior of `ascii.read()` is that it tries to guess the table format.  This often works:"
     ]
    },
    {
     "cell_type": "code",
     "collapsed": false,
     "input": [
      "Table.read(['# a | b',  # Commented header contains column names\n",
      "            '1 | 2'], \n",
      "           format='ascii')"
     ],
     "language": "python",
     "metadata": {},
     "outputs": []
    },
    {
     "cell_type": "markdown",
     "metadata": {},
     "source": [
      "The reader uses the [Will it blend](http://www.willitblend.com/) strategy in reverse: throw the input data into each format reader and see if something nice comes out.  \n",
      "\n",
      "- Most of the time the reader gives garbage or an exception, but the first time a reader returns a nice looking table then guessing stops and that table is returned.  \n",
      "- The order of input formats is carefully tuned to maximize the likelihood of guessing the right format.  \n",
      "- The concept of what makes a \"nice looking table\" also relies on some assumptions that may not always be the case.\n",
      "\n",
      "Guessing doesn't always work:"
     ]
    },
    {
     "cell_type": "code",
     "collapsed": false,
     "input": [
      "lines = ['year & event',\n",
      "         '2015 & Pigs fly']\n",
      "try:\n",
      "    Table.read(lines, format='ascii')\n",
      "except Exception as err:\n",
      "    print(err)"
     ],
     "language": "python",
     "metadata": {},
     "outputs": []
    },
    {
     "cell_type": "markdown",
     "metadata": {},
     "source": [
      "* * *\n",
      "When this happens you need to give `ascii.read` a bit of help.  The first step is to turn off guessing and provide what you think is the right format.  In this case this is a character-delimited table (using `&`)."
     ]
    },
    {
     "cell_type": "code",
     "collapsed": false,
     "input": [
      "try:\n",
      "    Table.read(lines, format='ascii.basic', guess=False)\n",
      "except Exception as err:\n",
      "    print(err)"
     ],
     "language": "python",
     "metadata": {},
     "outputs": []
    },
    {
     "cell_type": "code",
     "collapsed": false,
     "input": [
      "Table.read(lines, format='ascii.basic', delimiter='&', guess=False)"
     ],
     "language": "python",
     "metadata": {},
     "outputs": []
    },
    {
     "cell_type": "markdown",
     "metadata": {},
     "source": [
      "* * *"
     ]
    },
    {
     "cell_type": "heading",
     "level": 5,
     "metadata": {},
     "source": [
      "`delimiter`, `comment`, and `quotechar` -- Define table characteristics"
     ]
    },
    {
     "cell_type": "markdown",
     "metadata": {},
     "source": [
      "These arguments mostly apply to the `basic` format:\n",
      "\n",
      "- `delimiter`: the characters `<SPACE>`, `'|'`, `','`, `'\\t'`, and `'\\s'` (tab or space) are defaults.\n",
      "- `comment`: if this regular expression matches the beginning of a table line then that line will be discarded from header or data processing.\n",
      "- `quotechar`: This specifies the quote character and will typically be either the single or double quote character."
     ]
    },
    {
     "cell_type": "code",
     "collapsed": false,
     "input": [
      "lines = ['a * b',  # Don't ever make a table like this!\n",
      "         '^hello * world^ * 5',\n",
      "         '! Comment line',\n",
      "         'more * values']\n",
      "Table.read(lines, format='ascii.basic', delimiter='*', comment='!', quotechar='^')"
     ],
     "language": "python",
     "metadata": {},
     "outputs": []
    },
    {
     "cell_type": "markdown",
     "metadata": {},
     "source": [
      "* * *"
     ]
    },
    {
     "cell_type": "heading",
     "level": 5,
     "metadata": {},
     "source": [
      "`header_start`, `data_start`, and `data_end` -- Locate the header and data"
     ]
    },
    {
     "cell_type": "markdown",
     "metadata": {},
     "source": [
      "The **header** is defined as the part of the table which contains column names and any other information such as column types and other metadata.  Frequently the header is a single line of column names, but it maybe long or might not exist.\n",
      "\n",
      "The **data** section is the part which has the data values.\n",
      "\n",
      "- **`header_start`** : This specifies in the line index where the header begins. Comment lines are not included in this count and the counting starts from 0 (first non-comment line has index=0). If set to None this indicates that there is no header line and the column names will be auto-generated. The default is dependent on the format.\n",
      "- **`data_start`**: This specifies in the line index where the data lines begin where the counting starts from 0 and does not include comment lines. The default is dependent on the format.\n",
      "- **`data_end`**: If this is not None then it allows for excluding lines at the end that are not valid data lines. A negative value means to count from the end, so -1 would exclude the last line, -2 the last two lines, and so on.\n"
     ]
    },
    {
     "cell_type": "code",
     "collapsed": false,
     "input": [
      "lines = ['Some irrelevant stuff here',    # Line 0\n",
      "         '',                              #   Blank (only whitespace) => Not included in count\n",
      "         '# Properly commented out line', #   Comment => Not included\n",
      "         ' col0  col1',                   # Line 1 (header start)\n",
      "         '',                              #   Blank\n",
      "         'More junk from table creator',  # Line 2\n",
      "         ' 10   20 ',                     # Line 3 (data start)\n",
      "         '# comment line',                #   Comment\n",
      "         ' 20   40 ',                     # Line 4 (-2, data end)\n",
      "         '/ Why do people do this?',      # Line 5 (-1)\n",
      "         '/ Just to make life hard.'      # Line 6 (-0)\n",
      "    ]"
     ],
     "language": "python",
     "metadata": {},
     "outputs": []
    },
    {
     "cell_type": "code",
     "collapsed": false,
     "input": [
      "Table.read(lines, format='ascii', header_start=1, data_start=3, data_end=-2, guess=False)"
     ],
     "language": "python",
     "metadata": {},
     "outputs": []
    },
    {
     "cell_type": "markdown",
     "metadata": {},
     "source": [
      "* * *"
     ]
    },
    {
     "cell_type": "heading",
     "level": 5,
     "metadata": {},
     "source": [
      "`converters` argument -- Give me the right types"
     ]
    },
    {
     "cell_type": "markdown",
     "metadata": {},
     "source": [
      "Sometimes the automatic type inference doesn't do you wanted."
     ]
    },
    {
     "cell_type": "code",
     "collapsed": false,
     "input": [
      "lines = \"\"\"\n",
      "char float\n",
      "\"1\" 1\n",
      "\"2\" 2\n",
      "\"3\" 3\n",
      "\"4\" 4\n",
      "\"\"\""
     ],
     "language": "python",
     "metadata": {},
     "outputs": []
    },
    {
     "cell_type": "code",
     "collapsed": false,
     "input": [
      "t = Table.read(lines, format='ascii')\n",
      "t.dtype"
     ],
     "language": "python",
     "metadata": {},
     "outputs": []
    },
    {
     "cell_type": "code",
     "collapsed": false,
     "input": [
      "from astropy.io import ascii\n",
      "converters = {'char': [ascii.convert_numpy(np.str)],\n",
      "              'float': [ascii.convert_numpy(np.float)]}\n"
     ],
     "language": "python",
     "metadata": {},
     "outputs": []
    },
    {
     "cell_type": "code",
     "collapsed": false,
     "input": [
      "t = Table.read(lines, format='ascii', converters=converters)\n",
      "t.dtype"
     ],
     "language": "python",
     "metadata": {},
     "outputs": []
    },
    {
     "cell_type": "markdown",
     "metadata": {},
     "source": [
      "* * *"
     ]
    },
    {
     "cell_type": "heading",
     "level": 5,
     "metadata": {},
     "source": [
      "`names`, `include_names`, `exclude_names` -- What to call the columns and what you find interesting"
     ]
    },
    {
     "cell_type": "markdown",
     "metadata": {},
     "source": [
      "Some tables arrive nameless, that is to say there is no definition of the column names within the table.  When that is the case `ascii.read()` will automatically assign names like `col0`, `col1` and so on.  These aren't very descriptive and the `names` argument gives you a way to fix that on reading the table."
     ]
    },
    {
     "cell_type": "code",
     "collapsed": false,
     "input": [
      "lines = \"\"\"\n",
      "1 2 3\n",
      "4 5 6\n",
      "\"\"\"\n",
      "Table.read(lines, format='ascii', names=['a', 'b', 'c'])"
     ],
     "language": "python",
     "metadata": {},
     "outputs": []
    },
    {
     "cell_type": "markdown",
     "metadata": {},
     "source": [
      "Maybe someone has given you a table with tons of columns that are mostly uninteresting to you:"
     ]
    },
    {
     "cell_type": "code",
     "collapsed": false,
     "input": [
      "lines = \"\"\"\n",
      "a b c d e f g h i j k planet color\n",
      "1 2 3 4 5 6 7 8 1 2 3 mars reddish\n",
      "9 8 7 6 5 4 3 2 1 0 1 earth blue-ish\n",
      "\"\"\"\n",
      "Table.read(lines, format='ascii', include_names=['planet', 'color'])"
     ],
     "language": "python",
     "metadata": {},
     "outputs": []
    },
    {
     "cell_type": "markdown",
     "metadata": {},
     "source": [
      "* * *"
     ]
    },
    {
     "cell_type": "heading",
     "level": 5,
     "metadata": {},
     "source": [
      "`fill_values`, `fill_include_names`, `fill_exclude_names` -- Handling missing or bad values"
     ]
    },
    {
     "cell_type": "markdown",
     "metadata": {},
     "source": [
      "This can be used to fill missing values in the table or replace strings with special meaning. See the [Bad or missing values](http://astropy.readthedocs.org/en/stable/io/ascii/read.html#bad-or-missing-values) section for more information and examples. \n",
      "\n",
      "The default is that any blank table values are treated as missing.\n",
      "\n",
      "Unfortunately there isn't time here for the joy and madness of fill values!"
     ]
    },
    {
     "cell_type": "heading",
     "level": 2,
     "metadata": {},
     "source": [
      "Writing tables"
     ]
    },
    {
     "cell_type": "markdown",
     "metadata": {},
     "source": [
      "Once you understand reading tables then writing is pretty simple and comparitively boring.  The online documentation on [Parameters for write()](http://astropy.readthedocs.org/en/stable/io/ascii/read.html#parameters-for-read) describes the arguments, most of which should be familiar by now.\n",
      "\n",
      "Instead of going through the parameters exhaustively we'll just show a few examples here."
     ]
    },
    {
     "cell_type": "code",
     "collapsed": false,
     "input": [
      "lines = \"\"\"\n",
      "X Y Z\n",
      "1 2.0022 'hello world'\n",
      "-99 4.01234 'so long world'\n",
      "\"\"\"\n",
      "t = ascii.read(lines)  # For variety we show the functional interface\n",
      "t['Y'].unit = 'm/s'"
     ],
     "language": "python",
     "metadata": {},
     "outputs": []
    },
    {
     "cell_type": "code",
     "collapsed": false,
     "input": [
      "import sys\n",
      "t.write(sys.stdout, format='ascii')"
     ],
     "language": "python",
     "metadata": {},
     "outputs": []
    },
    {
     "cell_type": "code",
     "collapsed": false,
     "input": [
      "t.write(sys.stdout, format='ascii', delimiter=',')  # Or just format='ascii.csv' in astropy 0.4 and later"
     ],
     "language": "python",
     "metadata": {},
     "outputs": []
    },
    {
     "cell_type": "code",
     "collapsed": false,
     "input": [
      "ascii.write(t, format='aastex')  # default functional interface output is sys.stdout"
     ],
     "language": "python",
     "metadata": {},
     "outputs": []
    },
    {
     "cell_type": "code",
     "collapsed": false,
     "input": [
      "t.write(sys.stdout, format='ascii.ipac', formats={'Y': '%.4f'})"
     ],
     "language": "python",
     "metadata": {},
     "outputs": []
    },
    {
     "cell_type": "code",
     "collapsed": false,
     "input": [
      "t.write(sys.stdout, format='ascii.ipac', names=['A', 'B', 'C'])"
     ],
     "language": "python",
     "metadata": {},
     "outputs": []
    },
    {
     "cell_type": "code",
     "collapsed": false,
     "input": [
      "t.write(sys.stdout, format='ascii.latex', fill_values=[('-99', '...')])"
     ],
     "language": "python",
     "metadata": {},
     "outputs": []
    },
    {
     "cell_type": "markdown",
     "metadata": {},
     "source": [
      "[Back to top](#Handling-ASCII-table-files)"
     ]
    },
    {
     "cell_type": "heading",
     "level": 1,
     "metadata": {},
     "source": [
      "Celestial Coordinates"
     ]
    },
    {
     "cell_type": "heading",
     "level": 2,
     "metadata": {},
     "source": [
      "Documentation"
     ]
    },
    {
     "cell_type": "markdown",
     "metadata": {},
     "source": [
      "For more information about the features presented below, you can read the\n",
      "[astropy.coordinates](http://docs.astropy.org/en/stable/coordinates/index.html) docs."
     ]
    },
    {
     "cell_type": "heading",
     "level": 2,
     "metadata": {},
     "source": [
      "About"
     ]
    },
    {
     "cell_type": "markdown",
     "metadata": {},
     "source": [
      "Astropy includes a framework to represent celestial coordinates and transform\n",
      "between them. Astropy 0.4 only includes a few common coordinate systems (ICRS,\n",
      "FK4, FK5, and Galactic), but future versions will include more built-in\n",
      "coordinate systems, and users can already define their own systems."
     ]
    },
    {
     "cell_type": "heading",
     "level": 2,
     "metadata": {},
     "source": [
      "Creating coordinate objects"
     ]
    },
    {
     "cell_type": "markdown",
     "metadata": {},
     "source": [
      "Creating coordinate objects is straightforward:"
     ]
    },
    {
     "cell_type": "code",
     "collapsed": false,
     "input": [
      "from astropy.coordinates import SkyCoord"
     ],
     "language": "python",
     "metadata": {},
     "outputs": [],
     "prompt_number": 81
    },
    {
     "cell_type": "code",
     "collapsed": false,
     "input": [
      "SkyCoord(ra=10.68458 * u.deg, dec=41.26917 * u.deg, frame='icrs')"
     ],
     "language": "python",
     "metadata": {},
     "outputs": [
      {
       "metadata": {},
       "output_type": "pyout",
       "prompt_number": 82,
       "text": [
        "<SkyCoord (ICRS): (ra, dec) in deg\n",
        "    (10.68458, 41.26917)>"
       ]
      }
     ],
     "prompt_number": 82
    },
    {
     "cell_type": "markdown",
     "metadata": {},
     "source": [
      "In addition to passing angular Quantity objects, the SkyCoord class can parse coordinate strings: "
     ]
    },
    {
     "cell_type": "code",
     "collapsed": false,
     "input": [
      "SkyCoord('00h42m44.3s +41d16m9s', frame='icrs')"
     ],
     "language": "python",
     "metadata": {},
     "outputs": [
      {
       "metadata": {},
       "output_type": "pyout",
       "prompt_number": 83,
       "text": [
        "<SkyCoord (ICRS): (ra, dec) in deg\n",
        "    (10.68458333, 41.26916667)>"
       ]
      }
     ],
     "prompt_number": 83
    },
    {
     "cell_type": "heading",
     "level": 2,
     "metadata": {},
     "source": [
      "Accessing angles"
     ]
    },
    {
     "cell_type": "markdown",
     "metadata": {},
     "source": [
      "The individual components of a coordinate are ``Angle`` objects, and their\n",
      "values are accessed using special attributes:"
     ]
    },
    {
     "cell_type": "code",
     "collapsed": false,
     "input": [
      "c = SkyCoord('00h42m44.3s +41d16m9s', frame='icrs')"
     ],
     "language": "python",
     "metadata": {},
     "outputs": [],
     "prompt_number": 84
    },
    {
     "cell_type": "code",
     "collapsed": false,
     "input": [
      "c.ra"
     ],
     "language": "python",
     "metadata": {},
     "outputs": [
      {
       "latex": [
        "$10^\\circ41{}^\\prime04.5{}^{\\prime\\prime}$"
       ],
       "metadata": {},
       "output_type": "pyout",
       "prompt_number": 85,
       "text": [
        "<Longitude 10.684583333333332 deg>"
       ]
      }
     ],
     "prompt_number": 85
    },
    {
     "cell_type": "code",
     "collapsed": false,
     "input": [
      "c.ra.hour"
     ],
     "language": "python",
     "metadata": {},
     "outputs": [
      {
       "metadata": {},
       "output_type": "pyout",
       "prompt_number": 86,
       "text": [
        "0.7123055555555556"
       ]
      }
     ],
     "prompt_number": 86
    },
    {
     "cell_type": "code",
     "collapsed": false,
     "input": [
      "c.ra.hms"
     ],
     "language": "python",
     "metadata": {},
     "outputs": [
      {
       "metadata": {},
       "output_type": "pyout",
       "prompt_number": 87,
       "text": [
        "hms_tuple(h=0.0, m=42.0, s=44.30000000000021)"
       ]
      }
     ],
     "prompt_number": 87
    },
    {
     "cell_type": "code",
     "collapsed": false,
     "input": [
      "c.dec"
     ],
     "language": "python",
     "metadata": {},
     "outputs": [
      {
       "latex": [
        "$41^\\circ16{}^\\prime09{}^{\\prime\\prime}$"
       ],
       "metadata": {},
       "output_type": "pyout",
       "prompt_number": 88,
       "text": [
        "<Latitude 41.26916666666666 deg>"
       ]
      }
     ],
     "prompt_number": 88
    },
    {
     "cell_type": "code",
     "collapsed": false,
     "input": [
      "c.dec.radian"
     ],
     "language": "python",
     "metadata": {},
     "outputs": [
      {
       "metadata": {},
       "output_type": "pyout",
       "prompt_number": 89,
       "text": [
        "0.7202828378876265"
       ]
      }
     ],
     "prompt_number": 89
    },
    {
     "cell_type": "heading",
     "level": 2,
     "metadata": {},
     "source": [
      "Converting to other systems"
     ]
    },
    {
     "cell_type": "markdown",
     "metadata": {},
     "source": [
      "To convert to some other coordinate system (or 'frame' in Astropy terminology), the easiest method is to use\n",
      "attribute-style access with short names for the built-in systems:"
     ]
    },
    {
     "cell_type": "code",
     "collapsed": false,
     "input": [
      "c.galactic"
     ],
     "language": "python",
     "metadata": {},
     "outputs": [
      {
       "metadata": {},
       "output_type": "pyout",
       "prompt_number": 90,
       "text": [
        "<SkyCoord (Galactic): (l, b) in deg\n",
        "    (121.17424437, -21.57288899)>"
       ]
      }
     ],
     "prompt_number": 90
    },
    {
     "cell_type": "code",
     "collapsed": false,
     "input": [
      "c.fk5"
     ],
     "language": "python",
     "metadata": {},
     "outputs": [
      {
       "metadata": {},
       "output_type": "pyout",
       "prompt_number": 91,
       "text": [
        "<SkyCoord (FK5: equinox=J2000.000): (ra, dec) in deg\n",
        "    (10.68459487, 41.26916813)>"
       ]
      }
     ],
     "prompt_number": 91
    },
    {
     "cell_type": "markdown",
     "metadata": {},
     "source": [
      "While these conveniences allow fast conversion to common coordinate systems, they do not allow any customization of the parameters of the new frame, such as the equinox. The more general way of transforming coordinates is via the ``transform_to`` method. In addition to taking convenience strings:"
     ]
    },
    {
     "cell_type": "code",
     "collapsed": false,
     "input": [
      "c.transform_to('galactic')"
     ],
     "language": "python",
     "metadata": {},
     "outputs": [
      {
       "metadata": {},
       "output_type": "pyout",
       "prompt_number": 92,
       "text": [
        "<SkyCoord (Galactic): (l, b) in deg\n",
        "    (121.17424437, -21.57288899)>"
       ]
      }
     ],
     "prompt_number": 92
    },
    {
     "cell_type": "markdown",
     "metadata": {},
     "source": [
      "this method can also take frame objects that can be customized:"
     ]
    },
    {
     "cell_type": "code",
     "collapsed": false,
     "input": [
      "from astropy.coordinates import FK5"
     ],
     "language": "python",
     "metadata": {},
     "outputs": [],
     "prompt_number": 93
    },
    {
     "cell_type": "code",
     "collapsed": false,
     "input": [
      "frame = FK5(equinox='J2010')"
     ],
     "language": "python",
     "metadata": {},
     "outputs": [],
     "prompt_number": 94
    },
    {
     "cell_type": "code",
     "collapsed": false,
     "input": [
      "c.transform_to(frame)"
     ],
     "language": "python",
     "metadata": {},
     "outputs": [
      {
       "metadata": {},
       "output_type": "pyout",
       "prompt_number": 95,
       "text": [
        "<SkyCoord (FK5: equinox=J2010.000): (ra, dec) in deg\n",
        "    (10.82183903, 41.3238612)>"
       ]
      }
     ],
     "prompt_number": 95
    },
    {
     "cell_type": "heading",
     "level": 2,
     "metadata": {},
     "source": [
      "Name resolution"
     ]
    },
    {
     "cell_type": "markdown",
     "metadata": {},
     "source": [
      "The ``astropy.coordinates`` subpackage also provides a quick way to get coordinates for\n",
      "named objects (with an internet connection). All coordinate classes have a\n",
      "special class method, `from_name()`, that accepts a string and queries [Sesame](http://cds.u-strasbg.fr/cgi-bin/Sesame) to retrieve coordinates for that\n",
      "object:"
     ]
    },
    {
     "cell_type": "code",
     "collapsed": false,
     "input": [
      "SkyCoord.from_name(\"M16\")"
     ],
     "language": "python",
     "metadata": {},
     "outputs": [
      {
       "metadata": {},
       "output_type": "pyout",
       "prompt_number": 96,
       "text": [
        "<SkyCoord (ICRS): (ra, dec) in deg\n",
        "    (274.7, -13.8067)>"
       ]
      }
     ],
     "prompt_number": 96
    },
    {
     "cell_type": "heading",
     "level": 2,
     "metadata": {},
     "source": [
      "Using arrays in coordinates"
     ]
    },
    {
     "cell_type": "markdown",
     "metadata": {},
     "source": [
      "Numpy arrays can be used inside coordinate objects instead of scalar floating point values (this is much more efficient that creating one coordinate object for each source). The following example demonstrates how one can combine the ``Table`` class with coordinate objects (you can download the data from [here](data/2mass.tbl))."
     ]
    },
    {
     "cell_type": "code",
     "collapsed": false,
     "input": [
      "from astropy.table import Table"
     ],
     "language": "python",
     "metadata": {},
     "outputs": [],
     "prompt_number": 97
    },
    {
     "cell_type": "code",
     "collapsed": false,
     "input": [
      "t = Table.read('data/2mass.tbl', format='ascii.ipac')"
     ],
     "language": "python",
     "metadata": {},
     "outputs": [],
     "prompt_number": 98
    },
    {
     "cell_type": "code",
     "collapsed": false,
     "input": [
      "t"
     ],
     "language": "python",
     "metadata": {},
     "outputs": [
      {
       "html": [
        "&lt;Table masked=True length=929&gt;\n",
        "<table id=\"table4509701200\">\n",
        "<thead><tr><th>ra</th><th>dec</th><th>clon</th><th>clat</th><th>err_maj</th><th>err_min</th><th>err_ang</th><th>designation</th><th>j_m</th><th>j_cmsig</th><th>j_msigcom</th><th>j_snr</th><th>h_m</th><th>h_cmsig</th><th>h_msigcom</th><th>h_snr</th><th>k_m</th><th>k_cmsig</th><th>k_msigcom</th><th>k_snr</th><th>ph_qual</th><th>rd_flg</th><th>bl_flg</th><th>cc_flg</th><th>ndet</th><th>gal_contam</th><th>mp_flg</th><th>dist</th><th>angle</th><th>j_h</th><th>h_k</th><th>j_k</th></tr></thead>\n",
        "<thead><tr><th>deg</th><th>deg</th><th></th><th></th><th>arcsec</th><th>arcsec</th><th>deg</th><th></th><th>mag</th><th>mag</th><th>mag</th><th></th><th>mag</th><th>mag</th><th>mag</th><th></th><th>mag</th><th>mag</th><th>mag</th><th></th><th></th><th></th><th></th><th></th><th></th><th></th><th></th><th></th><th></th><th></th><th></th><th></th></tr></thead>\n",
        "<thead><tr><th>float64</th><th>float64</th><th>string96</th><th>string104</th><th>float64</th><th>float64</th><th>int64</th><th>string128</th><th>float64</th><th>float64</th><th>float64</th><th>float64</th><th>float64</th><th>float64</th><th>float64</th><th>float64</th><th>float64</th><th>float64</th><th>float64</th><th>float64</th><th>string24</th><th>string24</th><th>string24</th><th>string24</th><th>string48</th><th>int64</th><th>int64</th><th>float64</th><th>float64</th><th>float64</th><th>float64</th><th>float64</th></tr></thead>\n",
        "<tr><td>274.429506</td><td>-13.870547</td><td>18h17m43.08s</td><td>-13d52m13.97s</td><td>0.08</td><td>0.08</td><td>45</td><td>18174308-1352139</td><td>16.305</td><td>0.142</td><td>0.143</td><td>6.7</td><td>14.048</td><td>0.107</td><td>0.108</td><td>13.6</td><td>13.257</td><td>0.066</td><td>0.066</td><td>16.5</td><td>CAA</td><td>222</td><td>111</td><td>0ss</td><td>066655</td><td>0</td><td>0</td><td>975.080151</td><td>256.448</td><td>2.257</td><td>0.791</td><td>3.048</td></tr>\n",
        "<tr><td>274.423821</td><td>-13.86974</td><td>18h17m41.72s</td><td>-13d52m11.06s</td><td>0.06</td><td>0.06</td><td>90</td><td>18174171-1352110</td><td>14.802</td><td>0.058</td><td>0.059</td><td>26.7</td><td>12.635</td><td>0.059</td><td>0.06</td><td>50.1</td><td>11.768</td><td>0.045</td><td>0.046</td><td>65.2</td><td>AAA</td><td>222</td><td>111</td><td>0ss</td><td>666666</td><td>0</td><td>0</td><td>993.752042</td><td>256.878</td><td>2.167</td><td>0.867</td><td>3.034</td></tr>\n",
        "<tr><td>274.424587</td><td>-13.739629</td><td>18h17m41.90s</td><td>-13d44m22.66s</td><td>0.08</td><td>0.08</td><td>45</td><td>18174190-1344226</td><td>16.328</td><td>--</td><td>--</td><td>--</td><td>14.345</td><td>0.059</td><td>0.06</td><td>10.4</td><td>13.405</td><td>0.046</td><td>0.047</td><td>14.4</td><td>UAA</td><td>022</td><td>011</td><td>0cc</td><td>003666</td><td>0</td><td>0</td><td>995.726698</td><td>284.113</td><td>--</td><td>0.94</td><td>--</td></tr>\n",
        "<tr><td>274.433933</td><td>-13.769502</td><td>18h17m44.14s</td><td>-13d46m10.21s</td><td>0.08</td><td>0.08</td><td>45</td><td>18174414-1346102</td><td>16.281</td><td>0.098</td><td>0.099</td><td>6.8</td><td>14.057</td><td>0.035</td><td>0.036</td><td>13.5</td><td>12.956</td><td>0.032</td><td>0.033</td><td>21.8</td><td>CAA</td><td>222</td><td>111</td><td>000</td><td>065566</td><td>0</td><td>0</td><td>942.627418</td><td>278.252</td><td>2.224</td><td>1.101</td><td>3.325</td></tr>\n",
        "<tr><td>274.437013</td><td>-13.885698</td><td>18h17m44.88s</td><td>-13d53m08.51s</td><td>0.09</td><td>0.09</td><td>45</td><td>18174488-1353085</td><td>15.171</td><td>--</td><td>--</td><td>--</td><td>14.412</td><td>0.152</td><td>0.152</td><td>9.8</td><td>13.742</td><td>0.095</td><td>0.095</td><td>10.6</td><td>UBA</td><td>622</td><td>022</td><td>0cc</td><td>005566</td><td>0</td><td>0</td><td>964.105389</td><td>252.93</td><td>--</td><td>0.67</td><td>--</td></tr>\n",
        "<tr><td>274.433996</td><td>-13.752446</td><td>18h17m44.16s</td><td>-13d45m08.81s</td><td>0.08</td><td>0.08</td><td>90</td><td>18174415-1345088</td><td>16.54</td><td>--</td><td>--</td><td>--</td><td>14.519</td><td>0.083</td><td>0.083</td><td>8.8</td><td>13.604</td><td>0.043</td><td>0.044</td><td>12.0</td><td>UBA</td><td>022</td><td>011</td><td>0cc</td><td>005666</td><td>0</td><td>0</td><td>953.230532</td><td>281.908</td><td>--</td><td>0.915</td><td>--</td></tr>\n",
        "<tr><td>274.418138</td><td>-13.77215</td><td>18h17m40.35s</td><td>-13d46m19.74s</td><td>0.08</td><td>0.08</td><td>90</td><td>18174035-1346197</td><td>17.98</td><td>--</td><td>--</td><td>--</td><td>14.61</td><td>0.043</td><td>0.044</td><td>8.1</td><td>13.456</td><td>0.056</td><td>0.057</td><td>13.8</td><td>UBA</td><td>022</td><td>011</td><td>000</td><td>001645</td><td>0</td><td>0</td><td>996.047248</td><td>277.25</td><td>--</td><td>1.154</td><td>--</td></tr>\n",
        "<tr><td>274.433695</td><td>-13.899049</td><td>18h17m44.09s</td><td>-13d53m56.58s</td><td>0.06</td><td>0.06</td><td>90</td><td>18174408-1353565</td><td>13.011</td><td>0.021</td><td>0.024</td><td>139.0</td><td>10.917</td><td>0.02</td><td>0.021</td><td>243.8</td><td>10.013</td><td>0.017</td><td>0.019</td><td>328.3</td><td>AAA</td><td>222</td><td>111</td><td>000</td><td>666666</td><td>0</td><td>0</td><td>990.166399</td><td>250.466</td><td>2.094</td><td>0.904</td><td>2.998</td></tr>\n",
        "<tr><td>274.425482</td><td>-13.77149</td><td>18h17m42.12s</td><td>-13d46m17.36s</td><td>0.08</td><td>0.08</td><td>135</td><td>18174211-1346173</td><td>16.086</td><td>--</td><td>--</td><td>--</td><td>13.709</td><td>0.065</td><td>0.066</td><td>18.6</td><td>12.503</td><td>0.044</td><td>0.045</td><td>33.1</td><td>UAA</td><td>622</td><td>012</td><td>00c</td><td>005555</td><td>0</td><td>0</td><td>970.896919</td><td>277.582</td><td>--</td><td>1.206</td><td>--</td></tr>\n",
        "<tr><td>...</td><td>...</td><td>...</td><td>...</td><td>...</td><td>...</td><td>...</td><td>...</td><td>...</td><td>...</td><td>...</td><td>...</td><td>...</td><td>...</td><td>...</td><td>...</td><td>...</td><td>...</td><td>...</td><td>...</td><td>...</td><td>...</td><td>...</td><td>...</td><td>...</td><td>...</td><td>...</td><td>...</td><td>...</td><td>...</td><td>...</td><td>...</td></tr>\n",
        "<tr><td>274.81801</td><td>-14.001245</td><td>18h19m16.32s</td><td>-14d00m04.48s</td><td>0.18</td><td>0.16</td><td>1</td><td>18191632-1400044</td><td>16.24</td><td>0.113</td><td>0.113</td><td>5.6</td><td>15.531</td><td>0.164</td><td>0.164</td><td>2.5</td><td>15.252</td><td>--</td><td>--</td><td>--</td><td>CDU</td><td>220</td><td>110</td><td>000</td><td>060600</td><td>0</td><td>0</td><td>809.817146</td><td>149.61</td><td>0.709</td><td>--</td><td>--</td></tr>\n",
        "<tr><td>274.822709</td><td>-14.037254</td><td>18h19m17.45s</td><td>-14d02m14.11s</td><td>0.07</td><td>0.07</td><td>45</td><td>18191745-1402141</td><td>15.999</td><td>0.097</td><td>0.098</td><td>7.0</td><td>14.009</td><td>0.032</td><td>0.033</td><td>10.0</td><td>13.077</td><td>0.035</td><td>0.036</td><td>16.4</td><td>CAA</td><td>222</td><td>111</td><td>000</td><td>062656</td><td>0</td><td>0</td><td>931.339773</td><td>152.779</td><td>1.99</td><td>0.932</td><td>2.922</td></tr>\n",
        "<tr><td>274.880758</td><td>-13.99956</td><td>18h19m31.38s</td><td>-13d59m58.42s</td><td>0.06</td><td>0.06</td><td>90</td><td>18193138-1359584</td><td>14.163</td><td>0.035</td><td>0.037</td><td>37.8</td><td>11.179</td><td>0.02</td><td>0.021</td><td>135.6</td><td>9.765</td><td>0.017</td><td>0.019</td><td>347.1</td><td>AAA</td><td>222</td><td>111</td><td>000</td><td>556666</td><td>0</td><td>0</td><td>935.512452</td><td>137.762</td><td>2.984</td><td>1.414</td><td>4.398</td></tr>\n",
        "<tr><td>274.652526</td><td>-14.055106</td><td>18h18m36.61s</td><td>-14d03m18.38s</td><td>0.06</td><td>0.06</td><td>90</td><td>18183660-1403183</td><td>15.035</td><td>0.052</td><td>0.054</td><td>19.4</td><td>13.099</td><td>0.04</td><td>0.041</td><td>27.5</td><td>12.254</td><td>0.041</td><td>0.041</td><td>41.7</td><td>AAA</td><td>222</td><td>111</td><td>c00</td><td>566666</td><td>0</td><td>0</td><td>908.109808</td><td>190.682</td><td>1.936</td><td>0.845</td><td>2.781</td></tr>\n",
        "<tr><td>274.760586</td><td>-13.999927</td><td>18h19m02.54s</td><td>-13d59m59.74s</td><td>0.08</td><td>0.08</td><td>90</td><td>18190254-1359597</td><td>16.329</td><td>0.122</td><td>0.123</td><td>5.5</td><td>14.488</td><td>0.067</td><td>0.067</td><td>6.4</td><td>13.617</td><td>0.051</td><td>0.052</td><td>11.1</td><td>CCA</td><td>222</td><td>111</td><td>000</td><td>060616</td><td>0</td><td>0</td><td>724.557553</td><td>163.227</td><td>1.841</td><td>0.871</td><td>2.712</td></tr>\n",
        "<tr><td>274.831132</td><td>-14.020027</td><td>18h19m19.47s</td><td>-14d01m12.10s</td><td>0.08</td><td>0.08</td><td>45</td><td>18191947-1401120</td><td>16.203</td><td>--</td><td>--</td><td>--</td><td>13.238</td><td>0.02</td><td>0.021</td><td>20.4</td><td>12.016</td><td>0.023</td><td>0.024</td><td>43.6</td><td>UAA</td><td>022</td><td>011</td><td>000</td><td>006666</td><td>0</td><td>0</td><td>891.347132</td><td>149.27</td><td>--</td><td>1.222</td><td>--</td></tr>\n",
        "<tr><td>274.972435</td><td>-13.760374</td><td>18h19m53.38s</td><td>-13d45m37.35s</td><td>0.12</td><td>0.11</td><td>10</td><td>18195338-1345373</td><td>17.472</td><td>--</td><td>--</td><td>--</td><td>16.755</td><td>--</td><td>--</td><td>--</td><td>14.413</td><td>0.084</td><td>0.084</td><td>4.8</td><td>UUD</td><td>002</td><td>001</td><td>000</td><td>000006</td><td>0</td><td>0</td><td>964.828933</td><td>79.963</td><td>--</td><td>--</td><td>--</td></tr>\n",
        "<tr><td>274.870009</td><td>-13.817775</td><td>18h19m28.80s</td><td>-13d49m03.99s</td><td>0.08</td><td>0.08</td><td>45</td><td>18192880-1349039</td><td>16.933</td><td>--</td><td>--</td><td>--</td><td>14.514</td><td>0.064</td><td>0.065</td><td>6.3</td><td>12.957</td><td>0.041</td><td>0.041</td><td>18.4</td><td>UCA</td><td>022</td><td>011</td><td>000</td><td>002666</td><td>0</td><td>0</td><td>592.998058</td><td>93.69</td><td>--</td><td>1.557</td><td>--</td></tr>\n",
        "<tr><td>274.735323</td><td>-13.941575</td><td>18h18m56.48s</td><td>-13d56m29.67s</td><td>0.14</td><td>0.14</td><td>45</td><td>18185647-1356296</td><td>16.643</td><td>--</td><td>--</td><td>--</td><td>14.88</td><td>--</td><td>--</td><td>--</td><td>14.291</td><td>0.116</td><td>0.117</td><td>6.0</td><td>UUC</td><td>002</td><td>001</td><td>000</td><td>000004</td><td>0</td><td>0</td><td>498.524438</td><td>165.968</td><td>--</td><td>--</td><td>--</td></tr>\n",
        "<tr><td>274.866294</td><td>-13.841778</td><td>18h19m27.91s</td><td>-13d50m30.40s</td><td>0.08</td><td>0.08</td><td>45</td><td>18192791-1350304</td><td>15.615</td><td>--</td><td>--</td><td>--</td><td>13.911</td><td>0.075</td><td>0.075</td><td>10.9</td><td>12.765</td><td>0.134</td><td>0.134</td><td>21.9</td><td>UAE</td><td>022</td><td>011</td><td>0cc</td><td>005545</td><td>0</td><td>0</td><td>591.97725</td><td>102.147</td><td>--</td><td>1.146</td><td>--</td></tr>\n",
        "</table>"
       ],
       "metadata": {},
       "output_type": "pyout",
       "prompt_number": 99,
       "text": [
        "<Table masked=True length=929>\n",
        "    ra        dec         clon          clat     ...   j_h     h_k     j_k  \n",
        "   deg        deg                                ...                        \n",
        " float64    float64     string96     string104   ... float64 float64 float64\n",
        "---------- ---------- ------------ ------------- ... ------- ------- -------\n",
        "274.429506 -13.870547 18h17m43.08s -13d52m13.97s ...   2.257   0.791   3.048\n",
        "274.423821  -13.86974 18h17m41.72s -13d52m11.06s ...   2.167   0.867   3.034\n",
        "274.424587 -13.739629 18h17m41.90s -13d44m22.66s ...      --    0.94      --\n",
        "274.433933 -13.769502 18h17m44.14s -13d46m10.21s ...   2.224   1.101   3.325\n",
        "274.437013 -13.885698 18h17m44.88s -13d53m08.51s ...      --    0.67      --\n",
        "274.433996 -13.752446 18h17m44.16s -13d45m08.81s ...      --   0.915      --\n",
        "274.418138  -13.77215 18h17m40.35s -13d46m19.74s ...      --   1.154      --\n",
        "274.433695 -13.899049 18h17m44.09s -13d53m56.58s ...   2.094   0.904   2.998\n",
        "274.425482  -13.77149 18h17m42.12s -13d46m17.36s ...      --   1.206      --\n",
        "       ...        ...          ...           ... ...     ...     ...     ...\n",
        " 274.81801 -14.001245 18h19m16.32s -14d00m04.48s ...   0.709      --      --\n",
        "274.822709 -14.037254 18h19m17.45s -14d02m14.11s ...    1.99   0.932   2.922\n",
        "274.880758  -13.99956 18h19m31.38s -13d59m58.42s ...   2.984   1.414   4.398\n",
        "274.652526 -14.055106 18h18m36.61s -14d03m18.38s ...   1.936   0.845   2.781\n",
        "274.760586 -13.999927 18h19m02.54s -13d59m59.74s ...   1.841   0.871   2.712\n",
        "274.831132 -14.020027 18h19m19.47s -14d01m12.10s ...      --   1.222      --\n",
        "274.972435 -13.760374 18h19m53.38s -13d45m37.35s ...      --      --      --\n",
        "274.870009 -13.817775 18h19m28.80s -13d49m03.99s ...      --   1.557      --\n",
        "274.735323 -13.941575 18h18m56.48s -13d56m29.67s ...      --      --      --\n",
        "274.866294 -13.841778 18h19m27.91s -13d50m30.40s ...      --   1.146      --"
       ]
      }
     ],
     "prompt_number": 99
    },
    {
     "cell_type": "code",
     "collapsed": false,
     "input": [
      "c = SkyCoord(t['ra'] * u.deg, t['dec'] * u.deg, frame='fk5')"
     ],
     "language": "python",
     "metadata": {},
     "outputs": [],
     "prompt_number": 100
    },
    {
     "cell_type": "code",
     "collapsed": false,
     "input": [
      "c.ra.degree"
     ],
     "language": "python",
     "metadata": {},
     "outputs": [
      {
       "metadata": {},
       "output_type": "pyout",
       "prompt_number": 101,
       "text": [
        "array([ 274.429506,  274.423821,  274.424587,  274.433933,  274.437013,\n",
        "        274.433996,  274.418138,  274.433695,  274.425482,  274.433057,\n",
        "        274.435762,  274.438109,  274.425594,  274.431318,  274.42949 ,\n",
        "        274.428117,  274.425499,  274.431606,  274.431202,  274.433361,\n",
        "        274.426056,  274.425066,  274.420529,  274.426694,  274.421593,\n",
        "        274.427483,  274.43155 ,  274.4263  ,  274.426193,  274.432195,\n",
        "        274.435515,  274.429849,  274.431399,  274.431675,  274.427993,\n",
        "        274.432066,  274.438921,  274.426778,  274.427573,  274.435009,\n",
        "        274.418314,  274.425618,  274.425325,  274.435291,  274.422565,\n",
        "        274.430995,  274.434654,  274.423689,  274.43087 ,  274.43241 ,\n",
        "        274.675641,  274.437325,  274.435197,  274.434291,  274.429439,\n",
        "        274.425616,  274.4244  ,  274.435142,  274.433826,  274.433514,\n",
        "        274.435348,  274.437104,  274.426803,  274.434892,  274.430584,\n",
        "        274.433654,  274.433872,  274.436504,  274.419325,  274.423378,\n",
        "        274.431121,  274.434871,  274.427022,  274.436195,  274.430074,\n",
        "        274.431994,  274.428505,  274.434618,  274.43626 ,  274.422354,\n",
        "        274.431783,  274.420349,  274.43062 ,  274.416126,  274.420833,\n",
        "        274.433188,  274.426632,  274.430197,  274.433299,  274.425391,\n",
        "        274.432256,  274.421227,  274.417932,  274.433165,  274.437103,\n",
        "        274.426517,  274.433143,  274.42379 ,  274.429845,  274.439001,\n",
        "        274.426876,  274.684921,  274.422397,  274.426321,  274.428059,\n",
        "        274.424496,  274.424921,  274.435195,  274.436233,  274.423425,\n",
        "        274.435134,  274.43309 ,  274.434715,  274.43069 ,  274.420853,\n",
        "        274.427487,  274.42894 ,  274.421415,  274.421796,  274.436391,\n",
        "        274.432871,  274.432704,  274.4391  ,  274.424646,  274.436838,\n",
        "        274.434745,  274.422162,  274.420229,  274.424251,  274.416506,\n",
        "        274.430705,  274.436654,  274.422484,  274.430689,  274.429727,\n",
        "        274.423746,  274.425183,  274.427657,  274.432041,  274.432324,\n",
        "        274.435255,  274.43645 ,  274.436822,  274.430214,  274.434539,\n",
        "        274.422138,  274.431213,  274.435242,  274.433842,  274.428585,\n",
        "        274.432612,  274.621263,  274.662   ,  274.682343,  274.733087,\n",
        "        274.660462,  274.812007,  274.686772,  274.861217,  274.91445 ,\n",
        "        274.888808,  274.739657,  274.742897,  274.778029,  274.845423,\n",
        "        274.718495,  274.754966,  274.741165,  274.812436,  274.810159,\n",
        "        274.929367,  274.846621,  274.8915  ,  274.918428,  274.918871,\n",
        "        274.875346,  274.791926,  274.836011,  274.77716 ,  274.800745,\n",
        "        274.877501,  274.870855,  274.730373,  274.842726,  274.907218,\n",
        "        274.887363,  274.814087,  274.873038,  274.814816,  274.922142,\n",
        "        274.951663,  274.966815,  274.965917,  274.972769,  274.605645,\n",
        "        274.789562,  274.804721,  274.812328,  274.901685,  274.721547,\n",
        "        274.920591,  274.712037,  274.894153,  274.938795,  274.668337,\n",
        "        274.717516,  274.684752,  274.79291 ,  274.928264,  274.708399,\n",
        "        274.813541,  274.674387,  274.934293,  274.775099,  274.79971 ,\n",
        "        274.898508,  274.911322,  274.832424,  274.830842,  274.736572,\n",
        "        274.814625,  274.710335,  274.775841,  274.875919,  274.755355,\n",
        "        274.849234,  274.910838,  274.823899,  274.730861,  274.742749,\n",
        "        274.793592,  274.798888,  274.904878,  274.808319,  274.832478,\n",
        "        274.806833,  274.802163,  274.840332,  274.761657,  274.860068,\n",
        "        274.849763,  274.877017,  274.948162,  274.972886,  274.968786,\n",
        "        274.638825,  274.923411,  274.694521,  274.727242,  274.917554,\n",
        "        274.794504,  274.828669,  274.868335,  274.917553,  274.676758,\n",
        "        274.685002,  274.69785 ,  274.749193,  274.632227,  274.88426 ,\n",
        "        274.744103,  274.811589,  274.774544,  274.773173,  274.835721,\n",
        "        274.870142,  274.804915,  274.869053,  274.705457,  274.833596,\n",
        "        274.800454,  274.917991,  274.755938,  274.755625,  274.846472,\n",
        "        274.814804,  274.878528,  274.917855,  274.9136  ,  274.69452 ,\n",
        "        274.883611,  274.8981  ,  274.805705,  274.850565,  274.931569,\n",
        "        274.837564,  274.925328,  274.802783,  274.852203,  274.91132 ,\n",
        "        274.930641,  274.812804,  274.963013,  274.942399,  274.981071,\n",
        "        274.660924,  274.781789,  274.926546,  274.786041,  274.815752,\n",
        "        274.732612,  274.721699,  274.880689,  274.902776,  274.956665,\n",
        "        274.641091,  274.435794,  274.432692,  274.421207,  274.425784,\n",
        "        274.415975,  274.43387 ,  274.434321,  274.425781,  274.430312,\n",
        "        274.426784,  274.427016,  274.434116,  274.421115,  274.427547,\n",
        "        274.436062,  274.432949,  274.433058,  274.425653,  274.424333,\n",
        "        274.420432,  274.429983,  274.418668,  274.435624,  274.432799,\n",
        "        274.428138,  274.43453 ,  274.428285,  274.436297,  274.431649,\n",
        "        274.436577,  274.415589,  274.432446,  274.422013,  274.43785 ,\n",
        "        274.423952,  274.438914,  274.428008,  274.429083,  274.425648,\n",
        "        274.427786,  274.417064,  274.419802,  274.432839,  274.436571,\n",
        "        274.425382,  274.423951,  274.433489,  274.427059,  274.428671,\n",
        "        274.639484,  274.673333,  274.654852,  274.685224,  274.724783,\n",
        "        274.642639,  274.870783,  274.871646,  274.868186,  274.713304,\n",
        "        274.71664 ,  274.703003,  274.743386,  274.858871,  274.766825,\n",
        "        274.749374,  274.919319,  274.733073,  274.866822,  274.745985,\n",
        "        274.775743,  274.727968,  274.869083,  274.934442,  274.913466,\n",
        "        274.90195 ,  274.774088,  274.899947,  274.881449,  274.907317,\n",
        "        274.870428,  274.935527,  274.852728,  274.918726,  274.700945,\n",
        "        274.847027,  274.926888,  274.907458,  274.879833,  274.959289,\n",
        "        274.943379,  274.973808,  274.678696,  274.783087,  274.880234,\n",
        "        274.790396,  274.898414,  274.798285,  274.76586 ,  274.892421,\n",
        "        274.921276,  274.974219,  274.648755,  274.424269,  274.42912 ,\n",
        "        274.438158,  274.432045,  274.429344,  274.423726,  274.419512,\n",
        "        274.435406,  274.417292,  274.419345,  274.417812,  274.433143,\n",
        "        274.433125,  274.432457,  274.418244,  274.422977,  274.435921,\n",
        "        274.423288,  274.429972,  274.431866,  274.427932,  274.437041,\n",
        "        274.438098,  274.429876,  274.431927,  274.421202,  274.427553,\n",
        "        274.431967,  274.433271,  274.436631,  274.435766,  274.424878,\n",
        "        274.423936,  274.432652,  274.4238  ,  274.434058,  274.423889,\n",
        "        274.416641,  274.427601,  274.428668,  274.421147,  274.432598,\n",
        "        274.43655 ,  274.419997,  274.436975,  274.430671,  274.43495 ,\n",
        "        274.437159,  274.421547,  274.437636,  274.675231,  274.42625 ,\n",
        "        274.435326,  274.433783,  274.418938,  274.434973,  274.433754,\n",
        "        274.43453 ,  274.437265,  274.41924 ,  274.434642,  274.429546,\n",
        "        274.418112,  274.423589,  274.419872,  274.423352,  274.420732,\n",
        "        274.437666,  274.425445,  274.432794,  274.437962,  274.434439,\n",
        "        274.428501,  274.43257 ,  274.431746,  274.426016,  274.431029,\n",
        "        274.427313,  274.418545,  274.43706 ,  274.426604,  274.426905,\n",
        "        274.42386 ,  274.437547,  274.437816,  274.431596,  274.430619,\n",
        "        274.429104,  274.424225,  274.429969,  274.429442,  274.429776,\n",
        "        274.433493,  274.424236,  274.417171,  274.435405,  274.43393 ,\n",
        "        274.41871 ,  274.429321,  274.436946,  274.679362,  274.672469,\n",
        "        274.679654,  274.803903,  274.674241,  274.664341,  274.894301,\n",
        "        274.787882,  274.922272,  274.727095,  274.731652,  274.748976,\n",
        "        274.749418,  274.911245,  274.935328,  274.782615,  274.889153,\n",
        "        274.762499,  274.72074 ,  274.711522,  274.763438,  274.754516,\n",
        "        274.724349,  274.915827,  274.875462,  274.836351,  274.767134,\n",
        "        274.779886,  274.783627,  274.789868,  274.816198,  274.882042,\n",
        "        274.898203,  274.705959,  274.691639,  274.893767,  274.871026,\n",
        "        274.913282,  274.93395 ,  274.936975,  274.952674,  274.940017,\n",
        "        274.978107,  274.645004,  274.798187,  274.747088,  274.791502,\n",
        "        274.867756,  274.912617,  274.863687,  274.812742,  274.875639,\n",
        "        274.675901,  274.7455  ,  274.741013,  274.744804,  274.687262,\n",
        "        274.623156,  274.893046,  274.668363,  274.712694,  274.701964,\n",
        "        274.760507,  274.827389,  274.818194,  274.758179,  274.923668,\n",
        "        274.717728,  274.896492,  274.951394,  274.931368,  274.873959,\n",
        "        274.709578,  274.85841 ,  274.878535,  274.755915,  274.899405,\n",
        "        274.828739,  274.773111,  274.805438,  274.79194 ,  274.815212,\n",
        "        274.904514,  274.823498,  274.852093,  274.932421,  274.835866,\n",
        "        274.974139,  274.803835,  274.855288,  274.815889,  274.806862,\n",
        "        274.902472,  274.956783,  274.669319,  274.882145,  274.967315,\n",
        "        274.742104,  274.665888,  274.721132,  274.927288,  274.936517,\n",
        "        274.850078,  274.795117,  274.708873,  274.708522,  274.883327,\n",
        "        274.878627,  274.92945 ,  274.733392,  274.933025,  274.786076,\n",
        "        274.743087,  274.805511,  274.84981 ,  274.865511,  274.806511,\n",
        "        274.922018,  274.743493,  274.821065,  274.925352,  274.932982,\n",
        "        274.837379,  274.935661,  274.782654,  274.929466,  274.811397,\n",
        "        274.766058,  274.841991,  274.714258,  274.811333,  274.738349,\n",
        "        274.900449,  274.831057,  274.820249,  274.87522 ,  274.757072,\n",
        "        274.850539,  274.98267 ,  274.859999,  274.920205,  274.953432,\n",
        "        274.880883,  274.970579,  274.957743,  274.808186,  274.870733,\n",
        "        274.798783,  274.659823,  274.782542,  274.767692,  274.980788,\n",
        "        274.714675,  274.660029,  274.972606,  274.624839,  274.68664 ,\n",
        "        274.67802 ,  274.768868,  274.864261,  274.730719,  274.731901,\n",
        "        274.784462,  274.72286 ,  274.721252,  274.775264,  274.895335,\n",
        "        274.867012,  274.790967,  274.897357,  274.799943,  274.738945,\n",
        "        274.810928,  274.764042,  274.889511,  274.734799,  274.92983 ,\n",
        "        274.840941,  274.821702,  274.693113,  274.763614,  274.887889,\n",
        "        274.777282,  274.934779,  274.834288,  274.917696,  274.696122,\n",
        "        274.944906,  274.853347,  274.820799,  274.921715,  274.846498,\n",
        "        274.926011,  274.970393,  274.94131 ,  274.945591,  274.648691,\n",
        "        274.748444,  274.753018,  274.689065,  274.729584,  274.823624,\n",
        "        274.883099,  274.87894 ,  274.968576,  274.644587,  274.686273,\n",
        "        274.741992,  274.840569,  274.835433,  274.836924,  274.895252,\n",
        "        274.654052,  274.800395,  274.758048,  274.729411,  274.763506,\n",
        "        274.870033,  274.823758,  274.885961,  274.8811  ,  274.759363,\n",
        "        274.84985 ,  274.827936,  274.84378 ,  274.974707,  274.679768,\n",
        "        274.928901,  274.800286,  274.678175,  274.772161,  274.965494,\n",
        "        274.847524,  274.798154,  274.738029,  274.913793,  274.865187,\n",
        "        274.92792 ,  274.933494,  274.857259,  274.800912,  274.70779 ,\n",
        "        274.94229 ,  274.922202,  274.9533  ,  274.858591,  274.937299,\n",
        "        274.623998,  274.897223,  274.938287,  274.74044 ,  274.670534,\n",
        "        274.96227 ,  274.823579,  274.931563,  274.687655,  274.774043,\n",
        "        274.794135,  274.895238,  274.981976,  274.986131,  274.767323,\n",
        "        274.78907 ,  274.785763,  274.846023,  274.94426 ,  274.747493,\n",
        "        274.853587,  274.819037,  274.941377,  274.656239,  274.661726,\n",
        "        274.699747,  274.705149,  274.978126,  274.893473,  274.926148,\n",
        "        274.938271,  274.772337,  274.819818,  274.698419,  274.845544,\n",
        "        274.650326,  274.857291,  274.848245,  274.916722,  274.841637,\n",
        "        274.860076,  274.753949,  274.768894,  274.59968 ,  274.945602,\n",
        "        274.767606,  274.866331,  274.787032,  274.897499,  274.955934,\n",
        "        274.796028,  274.69627 ,  274.694867,  274.83377 ,  274.842506,\n",
        "        274.861735,  274.899742,  274.976467,  274.872379,  274.828855,\n",
        "        274.902586,  274.710435,  274.804986,  274.775672,  274.87601 ,\n",
        "        274.896136,  274.804224,  274.863644,  274.723283,  274.807442,\n",
        "        274.764548,  274.821629,  274.89034 ,  274.877991,  274.894602,\n",
        "        274.715311,  274.86543 ,  274.847414,  274.864022,  274.896635,\n",
        "        274.921856,  274.749885,  274.81803 ,  274.750759,  274.73477 ,\n",
        "        274.942369,  274.767548,  274.760305,  274.7417  ,  274.821048,\n",
        "        274.908869,  274.83319 ,  274.914763,  274.753326,  274.921663,\n",
        "        274.780912,  274.828743,  274.973604,  274.969052,  274.856785,\n",
        "        274.960272,  274.720743,  274.875225,  274.96312 ,  274.705671,\n",
        "        274.674976,  274.965253,  274.730373,  274.947295,  274.808323,\n",
        "        274.760953,  274.796084,  274.616166,  274.916209,  274.852408,\n",
        "        274.604995,  274.762428,  274.90609 ,  274.64499 ,  274.774448,\n",
        "        274.84531 ,  274.711188,  274.848557,  274.762958,  274.724127,\n",
        "        274.881807,  274.795499,  274.907772,  274.707194,  274.892143,\n",
        "        274.850276,  274.692327,  274.879222,  274.912836,  274.788401,\n",
        "        274.894894,  274.6045  ,  274.797491,  274.804877,  274.922051,\n",
        "        274.900945,  274.836101,  274.944569,  274.899343,  274.877738,\n",
        "        274.884929,  274.936921,  274.747992,  274.869489,  274.862392,\n",
        "        274.922971,  274.967759,  274.858201,  274.83525 ,  274.855786,\n",
        "        274.788212,  274.63957 ,  274.611341,  274.752605,  274.863976,\n",
        "        274.903251,  274.886033,  274.737456,  274.830178,  274.81801 ,\n",
        "        274.822709,  274.880758,  274.652526,  274.760586,  274.831132,\n",
        "        274.972435,  274.870009,  274.735323,  274.866294])"
       ]
      }
     ],
     "prompt_number": 101
    },
    {
     "cell_type": "code",
     "collapsed": false,
     "input": [
      "c = SkyCoord(t['clon'], t['clat'], frame='fk5')"
     ],
     "language": "python",
     "metadata": {},
     "outputs": [],
     "prompt_number": 102
    },
    {
     "cell_type": "markdown",
     "metadata": {},
     "source": [
      "#Models and Fitting\n",
      "\n",
      "A framework to make defining new models and fitting engines easy. The goal is to be able to add only what is necessary and not force changes in many places. Nevertheless, it isn't promised to solve all modeling and fitting needs by a longshot. The following is only a very brief introduction. Much more detail is available from http://docs.astropy.org/en/stable/modeling/index.html"
     ]
    },
    {
     "cell_type": "code",
     "collapsed": false,
     "input": [
      "from astropy.modeling import models, fitting\n",
      "g = models.Gaussian1D(amplitude=1.2, mean=0.9, stddev=0.5)\n",
      "print(g)"
     ],
     "language": "python",
     "metadata": {},
     "outputs": [
      {
       "output_type": "stream",
       "stream": "stdout",
       "text": [
        "Model: Gaussian1D\n",
        "Inputs: (u'x',)\n",
        "Outputs: (u'y',)\n",
        "Model set size: 1\n",
        "Parameters:\n",
        "    amplitude mean stddev\n",
        "    --------- ---- ------\n",
        "          1.2  0.9    0.5\n"
       ]
      }
     ],
     "prompt_number": 103
    },
    {
     "cell_type": "markdown",
     "metadata": {},
     "source": [
      "Models can be called like functions"
     ]
    },
    {
     "cell_type": "code",
     "collapsed": false,
     "input": [
      "x = np.linspace(-4,4,100)\n",
      "plt.plot(x,g(x)) # evaluate and plot at 100 points spanning from -4 to 4"
     ],
     "language": "python",
     "metadata": {},
     "outputs": [
      {
       "metadata": {},
       "output_type": "pyout",
       "prompt_number": 104,
       "text": [
        "[<matplotlib.lines.Line2D at 0x10cd7a410>]"
       ]
      },
      {
       "metadata": {},
       "output_type": "display_data",
       "png": "[encoded data removed]",
       "text": [
        "<matplotlib.figure.Figure at 0x107f54390>"
       ]
      }
     ],
     "prompt_number": 104
    },
    {
     "cell_type": "markdown",
     "metadata": {},
     "source": [
      "Accessing and changing model parameters"
     ]
    },
    {
     "cell_type": "code",
     "collapsed": false,
     "input": [
      "print(g.stddev)"
     ],
     "language": "python",
     "metadata": {},
     "outputs": [
      {
       "output_type": "stream",
       "stream": "stdout",
       "text": [
        "Parameter('stddev', value=0.5)\n"
       ]
      }
     ],
     "prompt_number": 105
    },
    {
     "cell_type": "code",
     "collapsed": false,
     "input": [
      "g.stddev=0.1\n",
      "plt.plot(x,g(x))"
     ],
     "language": "python",
     "metadata": {},
     "outputs": [
      {
       "metadata": {},
       "output_type": "pyout",
       "prompt_number": 106,
       "text": [
        "[<matplotlib.lines.Line2D at 0x10cb5b310>]"
       ]
      },
      {
       "metadata": {},
       "output_type": "display_data",
       "png": "[encoded data removed]",
       "text": [
        "<matplotlib.figure.Figure at 0x10cd81450>"
       ]
      }
     ],
     "prompt_number": 106
    },
    {
     "cell_type": "markdown",
     "metadata": {},
     "source": [
      "Defining compound models"
     ]
    },
    {
     "cell_type": "code",
     "collapsed": false,
     "input": [
      "g2 = models.Gaussian1D(mean=0,amplitude=0.6,stddev=0.3)\n",
      "gsum = g + g2\n",
      "plt.plot(x,gsum(x))"
     ],
     "language": "python",
     "metadata": {},
     "outputs": [
      {
       "metadata": {},
       "output_type": "pyout",
       "prompt_number": 107,
       "text": [
        "[<matplotlib.lines.Line2D at 0x10cce2990>]"
       ]
      },
      {
       "metadata": {},
       "output_type": "display_data",
       "png": "[encoded data removed]",
       "text": [
        "<matplotlib.figure.Figure at 0x10cca2ed0>"
       ]
      }
     ],
     "prompt_number": 107
    },
    {
     "cell_type": "markdown",
     "metadata": {},
     "source": [
      "Generate noisy data set using this model and then fit to it"
     ]
    },
    {
     "cell_type": "code",
     "collapsed": false,
     "input": [
      "data = gsum(x) + 0.1*np.random.normal(size=(100,))\n",
      "plt.plot(x, data)\n",
      "imodel = models.Gaussian1D(mean=1,amplitude=1.3,stddev=.2) + models.Gaussian1D(mean=-.1,amplitude=.5,stddev=0.5)\n",
      "fitter = fitting.LevMarLSQFitter()\n",
      "fmodel = fitter(imodel, x, data)\n",
      "plt.plot(x, fmodel(x))\n",
      "print(fmodel)"
     ],
     "language": "python",
     "metadata": {},
     "outputs": [
      {
       "output_type": "stream",
       "stream": "stdout",
       "text": [
        "Model: CompoundModel1\n",
        "Inputs: (u'x',)\n",
        "Outputs: (u'y',)\n",
        "Model set size: 1\n",
        "Parameters:\n",
        "    amplitude_0      mean_0        stddev_0    ...     mean_1        stddev_1   \n",
        "    ------------ -------------- -------------- ... -------------- --------------\n",
        "    1.1290245687 0.894014940134 0.105872364576 ... -0.01254176561 0.249107580681\n"
       ]
      },
      {
       "metadata": {},
       "output_type": "display_data",
       "png": "[encoded data removed]",
       "text": [
        "<matplotlib.figure.Figure at 0x10df37150>"
       ]
      }
     ],
     "prompt_number": 108
    },
    {
     "cell_type": "code",
     "collapsed": false,
     "input": [
      "@models.custom_model\n",
      "def lintran(x, scale=1,offset=0):\n",
      "    return scale*x + offset\n",
      "# linearly transform input to summed gaussian model\n",
      "lgsum = lintran(2,4) | gsum\n",
      "plt.plot(x,lgsum(x))"
     ],
     "language": "python",
     "metadata": {},
     "outputs": [
      {
       "metadata": {},
       "output_type": "pyout",
       "prompt_number": 109,
       "text": [
        "[<matplotlib.lines.Line2D at 0x10f3bf2d0>]"
       ]
      },
      {
       "metadata": {},
       "output_type": "display_data",
       "png": "[encoded data removed]",
       "text": [
        "<matplotlib.figure.Figure at 0x10df3a290>"
       ]
      }
     ],
     "prompt_number": 109
    },
    {
     "cell_type": "markdown",
     "metadata": {},
     "source": [
      "###Future features\n",
      "\n",
      "- support for quantities\n",
      "- support for convolution and binning operators\n",
      "- defining minimal sampling points\n",
      "- parameters allowing arbitrary attributes for use with specialized fitting engines\n",
      "  - e.g., a priori parameter distribution functions for use with MCMC"
     ]
    },
    {
     "cell_type": "code",
     "collapsed": false,
     "input": [],
     "language": "python",
     "metadata": {},
     "outputs": []
    },
    {
     "cell_type": "code",
     "collapsed": false,
     "input": [],
     "language": "python",
     "metadata": {},
     "outputs": []
    }
   ],
   "metadata": {}
  }
 ]
}